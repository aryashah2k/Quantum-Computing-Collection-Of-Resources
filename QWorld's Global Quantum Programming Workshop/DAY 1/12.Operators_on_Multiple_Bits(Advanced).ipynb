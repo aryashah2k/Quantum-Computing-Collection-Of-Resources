{
 "cells": [
  {
   "cell_type": "markdown",
   "metadata": {},
   "source": [
    "## Operators on Multiple Bits\n",
    "\n",
    "[Watch Lecture](https://youtu.be/vd21d1KTC5c)"
   ]
  },
  {
   "cell_type": "markdown",
   "metadata": {},
   "source": [
    "We explain how to construct the operator of a composition system when we apply an operator to one bit or to a few bits of the composite system.\n",
    "\n",
    "*Here we have a simple rule, we assume that the identity operator is applied on the rest of the bits.*"
   ]
  },
  {
   "cell_type": "markdown",
   "metadata": {},
   "source": [
    "### Single bit operators"
   ]
  },
  {
   "cell_type": "markdown",
   "metadata": {},
   "source": [
    "When we have two bits, then our system has four states and any operator of the system can be defined as a $ (4 \\times 4) $-dimensional matrix.\n",
    "\n",
    "For example, if we apply the probabilistic operator $ M =  \\mymatrix{c}{ 0.3 & 0.6 \\\\ 0.7 & 0.4  } $ to the second bit, then how can we represent the corresponding $ (4 \\times 4) $-dimensional matrix?\n",
    "\n",
    "The answer is easy. By assuming that the identity operator is applied to the first bit, the matrix is\n",
    "\n",
    "$$ I \\otimes M = \\I \\otimes  \\mymatrix{c}{ 0.3 & 0.6 \\\\ 0.7 & 0.4  } = \\mymatrix{cccc} { 0.3 & 0.6 & 0 & 0 \\\\ 0.7 & 0.4 & 0 & 0 \\\\ 0 & 0 & 0.3 & 0.6 \\\\ 0 & 0& 0.7 & 0.4 }.   $$"
   ]
  },
  {
   "cell_type": "markdown",
   "metadata": {},
   "source": [
    "<h3> Task 1</h3>\n",
    "\n",
    "We have two bits. What is $ (4 \\times 4) $-dimensional matrix representation of the probabilistic operator $ M =  \\mymatrix{c}{ 0.2 & 0.7 \\\\ 0.8 & 0.3  } $ applied to the first bit?"
   ]
  },
  {
   "cell_type": "markdown",
   "metadata": {},
   "source": [
    "<h3>Solution</h3>\n",
    "\n",
    "We assume that the identity operator is applied to the second bit:\n",
    "\n",
    "$$ M \\otimes I = \\mymatrix{rr}{ 0.2 & 0.7 \\\\ 0.8 & 0.3  } \\otimes \\I = \\mymatrix{rrrr}{ 0.2 & 0 & 0.7 & 0 \\\\\n",
    "0 & 0.2 & 0 & 0.7 \\\\ 0.8 & 0 & 0.3 & 0 \\\\ 0 & 0.8 & 0 & 0.3} $$."
   ]
  },
  {
   "cell_type": "markdown",
   "metadata": {},
   "source": [
    "<h3> Task 2</h3>\n",
    "\n",
    "We have three bits. What is $ (8 \\times 8) $-dimensional matrix representation of the probabilistic operator $ M =  \\mymatrix{c}{ 0.9 & 0.4 \\\\ 0.1 & 0.6  } $ applied to the second bit?"
   ]
  },
  {
   "cell_type": "markdown",
   "metadata": {},
   "source": [
    "<h3>Solution</h3>\n",
    "\n",
    "We assume that the identity operators are applied to the first and third bits:\n",
    "$ I \\otimes M \\otimes I = \\I \\otimes \\mymatrix{rr}{ 0.9 & 0.4 \\\\ 0.1 & 0.6  } \\otimes \\I $.\n",
    "\n",
    "Tensor product is associative and so it does not matter from which pair we start. We first calculate the tensor product of the second and third matrices:\n",
    "\n",
    "$$ I \\otimes \\mypar{ M \\otimes I } = \\I \\otimes \\mymatrix{rrrr}{ 0.9 & 0 & 0.4 & 0 \\\\ 0 & 0.9 & 0 & 0.4 \\\\ 0.1 & 0 & 0.6 & 0 \\\\ 0 & 0.1 & 0 & 0.6} = \\mymatrix{rrrr|rrrrr}{0.9 & 0 & 0.4 & 0 & 0 & 0 & 0 & 0 \\\\ 0 & 0.9 & 0 & 0.4 & 0 & 0 & 0 & 0 \\\\ 0.1 & 0 & 0.6 & 0 & 0 & 0 & 0 & 0 \\\\ 0 & 0.1 & 0 & 0.6 & 0 & 0 & 0 & 0\n",
    "\\\\ \\hline 0 & 0 & 0 & 0 & 0.9 & 0 & 0.4 & 0 \\\\ 0 & 0 & 0 & 0 & 0 & 0.9 & 0 & 0.4 \\\\ 0 & 0 & 0 & 0 & 0.1 & 0 & 0.6 & 0 \\\\ 0 & 0 & 0 & 0 & 0 & 0.1 & 0 & 0.6} $$"
   ]
  },
  {
   "cell_type": "markdown",
   "metadata": {},
   "source": [
    "### Two bits operators"
   ]
  },
  {
   "cell_type": "markdown",
   "metadata": {},
   "source": [
    "We start with an easy example. \n",
    "\n",
    "We have three bits and we apply the probabilistic operator \n",
    "$ M = \\mymatrix{rrrr}{0.05 & 0 & 0.70 & 0.60 \\\\ 0.45 & 0.50 & 0.20 & 0.25 \\\\ 0.20 & 0.35 & 0.10 & 0 \\\\ 0.30 & 0.15 & 0 & 0.15 } $ to the first and second bits. Then, the corresponding $ (8 \\times 8) $-dimensional matrix is $ M \\otimes I $, where $I$ is the $(2 \\times 2)$-dimensional Identity matrix.\n",
    "\n",
    "If $ M $ is applied to the second and third bits, then the corresponding matrix is $ I \\otimes M $."
   ]
  },
  {
   "cell_type": "markdown",
   "metadata": {},
   "source": [
    "**What if $ M $ is applied to the first and third bits?**\n",
    "\n",
    "We pick an example transition: it is given in $ M $ that $ \\greenbit{0} \\brownbit{1}  \\xrightarrow{0.35} \\greenbit{1} \\brownbit{0}  $.  \n",
    "- That is, when the first bit is 0 and third bit is 1, the first bit is set to 1 and the the third bit is set to 0 with probability 0.35:\n",
    "\n",
    "$$ \\myarray{ccccc}{\\mbox{first-bit} & \\mbox{third-bit} & probability & \\mbox{first-bit} & \\mbox{third-bit} \\\\ \\greenbit{0} & \\brownbit{1} & \\xrightarrow{0.35} & \\greenbit{1} & \\brownbit{0} }  $$\n",
    "\n",
    "- We put the second bit in the picture by assuming that the identity operator is applied to it:\n",
    "\n",
    "$$ \n",
    "\\myarray{ccccccc}{\n",
    "\\mbox{first-bit} & \\mbox{second-bit} & \\mbox{third-bit} & probability & \\mbox{first-bit} & \\mbox{second-bit} & \\mbox{third-bit} \\\\ \n",
    "\\greenbit{0} & \\bluebit{0} & \\brownbit{1} & \\xrightarrow{0.35} & \\greenbit{1} & \\bluebit{0} & \\brownbit{0}  \\\\\n",
    "\\greenbit{0} & \\bluebit{1} & \\brownbit{1} & \\xrightarrow{0.35} & \\greenbit{1} & \\bluebit{1} & \\brownbit{0} \\\\\n",
    "\\\\ \\hline \\\\\n",
    "\\greenbit{0} & \\bluebit{0} & \\brownbit{1} & \\xrightarrow{0} & \\greenbit{1} & \\bluebit{1} & \\brownbit{0}  \\\\\n",
    "\\greenbit{0} & \\bluebit{1} & \\brownbit{1} & \\xrightarrow{0} & \\greenbit{1} & \\bluebit{0} & \\brownbit{0}\n",
    "}\n",
    "$$"
   ]
  },
  {
   "cell_type": "markdown",
   "metadata": {},
   "source": [
    "<h3> Task 3</h3>\n",
    "\n",
    "Why are the last two transition probabilities zeros in the above table?"
   ]
  },
  {
   "cell_type": "markdown",
   "metadata": {},
   "source": [
    "<h3> Task 4</h3>\n",
    "\n",
    "We have three bits and the  probabilistic operator \n",
    "$ M = \\mymatrix{rrrr}{0.05 & 0 & 0.70 & 0.60 \\\\ 0.45 & 0.50 & 0.20 & 0.25 \\\\ 0.20 & 0.35 & 0.10 & 0 \\\\ 0.30 & 0.15 & 0 & 0.15 } $ is applied to the first and third bits. \n",
    "\n",
    "What is the corresponding the $(8 \\times 8)$-dimensional matrix applied to the whole system?\n",
    "\n",
    "*You may solve this task by using python.*"
   ]
  },
  {
   "cell_type": "code",
   "execution_count": 1,
   "metadata": {},
   "outputs": [
    {
     "name": "stdout",
     "output_type": "stream",
     "text": [
      "Matrix M is\n",
      "[0.05, 0, 0.7, 0.6]\n",
      "[0.45, 0.5, 0.2, 0.25]\n",
      "[0.2, 0.35, 0.1, 0]\n",
      "[0.3, 0.15, 0, 0.15]\n",
      "\n",
      "Matrix K is\n",
      "[0.05, 0, 0, 0, 0.7, 0.6, 0, 0]\n",
      "[0.45, 0.5, 0, 0, 0.2, 0.25, 0, 0]\n",
      "[0, 0, 0.05, 0, 0, 0, 0.7, 0.6]\n",
      "[0, 0, 0.45, 0.5, 0, 0, 0.2, 0.25]\n",
      "[0.2, 0.35, 0, 0, 0.1, 0, 0, 0]\n",
      "[0.3, 0.15, 0, 0, 0, 0.15, 0, 0]\n",
      "[0, 0, 0.2, 0.35, 0, 0, 0.1, 0]\n",
      "[0, 0, 0.3, 0.15, 0, 0, 0, 0.15]\n"
     ]
    }
   ],
   "source": [
    "# the given matrix\n",
    "M = [\n",
    "    [0.05, 0, 0.70, 0.60],\n",
    "    [0.45, 0.50, 0.20, 0.25],\n",
    "    [0.20, 0.35, 0.10, 0],\n",
    "    [0.30, 0.15, 0, 0.15]\n",
    "]\n",
    "\n",
    "# \n",
    "# you may enumarate the columns and rows by the strings '00', '01', '10', and '11'\n",
    "# int('011',2) returns the decimal value of the binary string '011'\n",
    "#\n",
    "\n",
    "#\n",
    "# your solution is here\n",
    "#\n",
    "# the given matrix\n",
    "M = [\n",
    "    [0.05, 0, 0.70, 0.60],\n",
    "    [0.45, 0.50, 0.20, 0.25],\n",
    "    [0.20, 0.35, 0.10, 0],\n",
    "    [0.30, 0.15, 0, 0.15]\n",
    "]\n",
    "print(\"Matrix M is\")\n",
    "for row in M:\n",
    "    print(row)\n",
    "print()\n",
    "\n",
    "# the target matrix is K\n",
    "# we create it and filled with zeros\n",
    "K = []\n",
    "for i in range(8):\n",
    "    K.append([])\n",
    "    for j in range(8):\n",
    "        K[i].append(0)\n",
    "\n",
    "# for each transition in M, we create four transitions in K, two of which are always zeros  \n",
    "for col in ['00','01','10','11']:\n",
    "    for row in ['00','01','10','11']:\n",
    "        prob = M[int(col,2)][int(row,2)]\n",
    "        # second bit is 0\n",
    "        newcol = col[0]+'0'+col[1]\n",
    "        newrow = row[0]+'0'+row[1]\n",
    "        K[int(newcol,2)][int(newrow,2)] = prob\n",
    "        # second bit is 1\n",
    "        newcol = col[0]+'1'+col[1]\n",
    "        newrow = row[0]+'1'+row[1]\n",
    "        K[int(newcol,2)][int(newrow,2)] = prob\n",
    "print(\"Matrix K is\")\n",
    "for row in K:\n",
    "    print(row)        "
   ]
  },
  {
   "cell_type": "markdown",
   "metadata": {},
   "source": [
    "### Controlled operators"
   ]
  },
  {
   "cell_type": "markdown",
   "metadata": {},
   "source": [
    "The matrix form of the controlled-NOT operator is as follows:\n",
    "\n",
    "$$ CNOT = \\mymatrix{cc|cc}{ 1 & 0 & 0 & 0 \\\\ 0 & 1 & 0 & 0 \\\\ \\hline 0 & 0 & 0 & 1 \\\\ 0 & 0 & 1 & 0 } \n",
    "= \\mymatrix{c|c}{ I & \\mathbf{0} \\\\ \\hline \\mathbf{0} & X},\n",
    "$$\n",
    "where $ X $ denotes the NOT operator.\n",
    "\n",
    "Similarly, for a given single bit operator $ M $, we can define the controlled-$M$ operator (where the first bit is the control bit and the second bit is target bit) as follows:\n",
    "\n",
    "$$ CM = \\mymatrix{c|c}{ I & \\mathbf{0} \\\\ \\hline \\mathbf{0} & M } $$\n",
    "\n",
    "By definition:\n",
    "* when the first bit is 0, the identity is applied to the second bit, and\n",
    "* when the first bit is 1, the operator $ M $ is applied to the second bit. \n",
    "\n",
    "Here we observe that the matrix $ CM $ has a nice form because the first bit is control bit. The matrix $ CM $ given above is divided into four sub-matrices based on the states of the first bit. Then, we can follow that\n",
    "* the value of the first bit never changes, and so the off diagonal sub-matrices are zeros; \n",
    "* when the first bit is 0, the identity is applied to the second bit, and so top-left matrix is $ I $; and, \n",
    "* when the first bit is 1, the operator $ M $ is applied to the second bit, and so the bottom-right matrix is $ M $."
   ]
  },
  {
   "cell_type": "markdown",
   "metadata": {},
   "source": [
    "<h3> Task 5</h3>\n",
    "\n",
    "Let $ M = \\mymatrix{cc}{0.7 & 0.4 \\\\ 0.3 & 0.6} $ be a single bit operator. What is the matrix form of the controlled-$M$ operator where the first bit is the target bit and the second bit is the control bit."
   ]
  },
  {
   "cell_type": "markdown",
   "metadata": {},
   "source": [
    "<h3>Solution</h3>\n",
    "\n",
    "When the second bit is zero, the state of the first bit does not change. We can write this as\n",
    "* $ 00 \\xrightarrow{1} 00 $ and\n",
    "* $ 10 \\xrightarrow{1} 10 $,\n",
    "\n",
    "So, we have the first and third columns as $ \\myvector{ 1 \\\\ 0 \\\\ 0 \\\\0  } $ and $ \\myvector{0 \\\\ 0 \\\\ 1 \\\\ 0} $, respectively.\n",
    "\n",
    "When the second bit is one, the operator $ M $ is appled to the first bit. We can write this as\n",
    "* $ \\pstate{ \\bluebit{0} \\redbit{1} } \\rightarrow 0.7 \\pstate{ \\bluebit{0} \\redbit{1} } + 0.3 \\pstate{ \\bluebit{1} \\redbit{1} } $, and\n",
    "* $ \\pstate{ \\bluebit{1} \\redbit{1} } \\rightarrow 0.4 \\pstate{ \\bluebit{0} \\redbit{1} } + 0.6 \\pstate{ \\bluebit{1} \\redbit{1} } $.\n",
    "\n",
    "Thus, we also have the second and fourth columns as $ \\myvector{ 0 \\\\ 0.7 \\\\ 0 \\\\ 0.3 } $ and $ \\myvector{0 \\\\ 0.4 \\\\ 0 \\\\ 0.6} $.\n",
    "\n",
    "Therefore, the overall matrix is\n",
    "$ \\mymatrix{cccc}{ 1 & 0 & 0 & 0 \\\\ 0 & 0.7 & 0 & 0.4 \\\\ 0 & 0 & 1 & 0 \\\\ 0 & 0.3  & 0 & 0.6 }.  $"
   ]
  },
  {
   "cell_type": "markdown",
   "metadata": {},
   "source": [
    "### Controlled operator activated when in state 0 "
   ]
  },
  {
   "cell_type": "markdown",
   "metadata": {},
   "source": [
    "For a given single bit operator $ M $, **how can we obtain the following operator** by using the operator $ CM $?\n",
    "\n",
    "$$ C_0M = \\mymatrix{c|c}{ M & \\mathbf{0} \\\\ \\hline \\mathbf{0} & I } $$\n",
    "\n",
    "Controlled operator are defined to be triggered when the control bit is in state 1. In this example, we expect it to be triggered when the control bit is in state 0.\n",
    "\n",
    "Here we can use a simple trick. We first apply NOT operator to the first bit, and then the CM operator, and again NOT operator. In this way, we guarentee that $ M $ is applied to the second bit if the first bit is state 0 and do nothing if the first bit is in state 1. In short:\n",
    "\n",
    "$$ C_0M = (X \\otimes I) \\cdot (CM) \\cdot ( X \\otimes I ). $$"
   ]
  },
  {
   "cell_type": "markdown",
   "metadata": {},
   "source": [
    "<h3> Task 6</h3>\n",
    "\n",
    "Verify that $ C_0M = (X \\otimes I) \\cdot (CM) \\cdot ( X \\otimes I ) = \\mymatrix{c|c}{ M & \\mathbf{0} \\\\ \\hline \\mathbf{0} & I }  $."
   ]
  },
  {
   "cell_type": "markdown",
   "metadata": {},
   "source": [
    "<h3>Solution</h3>\n",
    "\n",
    "We start with $ X \\otimes I $, which is equal to $ \\X \\otimes \\I = \\mymatrix{cc|cc}{ 0 & 0 & 1 & 0 \\\\ 0 & 0 & 0 & 1 \\\\ \\hline 1 & 0 & 0 & 0 \\\\ 0 & 1 & 0 & 0 } = \\mymatrix{c|c}{ \\mathbf{0} & I \\\\ \\hline I & \\mathbf{0} } $.\n",
    "\n",
    "$$\n",
    "    C_0M = (X \\otimes I) \\cdot (CM) \\cdot ( X \\otimes I ) = \n",
    "    \\mymatrix{c|c}{ \\mathbf{0} & I \\\\ \\hline I & \\mathbf{0} }  \\mymatrix{c|c}{ I & \\mathbf{0}  \\\\ \\hline  \\mathbf{0} & M } \\mymatrix{c|c}{ \\mathbf{0} & I \\\\ \\hline I & \\mathbf{0} }\n",
    "$$\n",
    "\n",
    "This multiplication can be easily done by seeing the sub-matrices as the entries of $ (2 \\times 2) $-matrices (*[block matrix multiplication](https://en.wikipedia.org/wiki/Block_matrix)*).\n",
    "\n",
    "The multiplication of the first two matrices are\n",
    "$\n",
    "    \\mymatrix{c|c}{ \\mathbf{0} & I \\\\ \\hline I & \\mathbf{0} }  \\mymatrix{c|c}{ I & \\mathbf{0}  \\\\ \\hline  \\mathbf{0} & M } \n",
    "    = \\mymatrix{c|c}{ \\mathbf{0} & M \\\\ \\hline I & \\mathbf{0} }.\n",
    "$\n",
    "\n",
    "Then, its multiplication with the third matrix is $ \\mymatrix{c|c}{ \\mathbf{0} & M \\\\ \\hline I & \\mathbf{0} }  \\mymatrix{c|c}{ \\mathbf{0} & I \\\\ \\hline I & \\mathbf{0} }  =   \\mymatrix{c|c}{ M & \\mathbf{0} \\\\ \\hline \\mathbf{0} & I }  $.\n",
    "\n",
    "\n",
    "Alternatively, we define $ M $ as $ \\mymatrix{cc}{a & b \\\\ c & d} $, and then verify the result by doing all multiplications explicitly.\n",
    "\n",
    "$$ C_0M = (X \\otimes I) \\cdot (CM) \\cdot ( X \\otimes I ) = \\mymatrix{cc|cc}{ 0 & 0 & 1 & 0 \\\\ 0 & 0 & 0 & 1 \\\\ \\hline 1 & 0 & 0 & 0 \\\\ 0 & 1 & 0 & 0 } \\cdot \\mymatrix{cc|cc}{1 & 0 & 0 & 0 \\\\ 0 & 1 & 0 & 0 \\\\ \\hline 0 & 0 & a & b \\\\ 0 & 0 & c & d} \\cdot \\mymatrix{cc|cc}{ 0 & 0 & 1 & 0 \\\\ 0 & 0 & 0 & 1 \\\\ \\hline 1 & 0 & 0 & 0 \\\\ 0 & 1 & 0 & 0 } =\n",
    "$$\n",
    "\n",
    "$$\n",
    "    \\mymatrix{cc|cc}{ 0 & 0 & a & b \\\\ 0 & 0 & c & d \\\\ \\hline 1 & 0 & 0 & 0 \\\\ 0 & 1 & 0 & 0 } \\mymatrix{cc|cc}{ 0 & 0 & 1 & 0 \\\\ 0 & 0 & 0 & 1 \\\\ \\hline 1 & 0 & 0 & 0 \\\\ 0 & 1 & 0 & 0 } =\n",
    "    \\mymatrix{cc|cc}{ a & b & 0 & 0 \\\\ c & d & 0 & 0 \\\\ \\hline 0 & 0 & 1 & 0 \\\\ 0 & 0 & 0 & 1 } =\n",
    "    \\mymatrix{c|c}{ M & \\mathbf{0} \\\\ \\hline \\mathbf{0} & I }. \n",
    "$$"
   ]
  },
  {
   "cell_type": "markdown",
   "metadata": {},
   "source": [
    "<h3> Task 7</h3>\n",
    "\n",
    "For the given two single bit operators $ M $ and $ N $, let $ CM $ and $ CN $ be the controlled-$M$ and controlled-$N$ operators. By using $ X $, $ CM $, and $ CN $ operators, how can we obtain the operator $ \\mymatrix{c|c}{ M & \\mathbf{0} \\\\ \\hline \\mathbf{0} & N} $?\n"
   ]
  }
 ],
 "metadata": {
  "kernelspec": {
   "display_name": "Python 3",
   "language": "python",
   "name": "python3"
  },
  "language_info": {
   "codemirror_mode": {
    "name": "ipython",
    "version": 3
   },
   "file_extension": ".py",
   "mimetype": "text/x-python",
   "name": "python",
   "nbconvert_exporter": "python",
   "pygments_lexer": "ipython3",
   "version": "3.8.3"
  }
 },
 "nbformat": 4,
 "nbformat_minor": 4
}
