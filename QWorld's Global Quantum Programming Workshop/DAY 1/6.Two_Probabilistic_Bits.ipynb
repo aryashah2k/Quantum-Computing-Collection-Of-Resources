{
 "cells": [
  {
   "cell_type": "markdown",
   "metadata": {},
   "source": [
    "<h2> Two Probabilistic Bits</h2>\n",
    "\n",
    "[Watch Lecture](https://youtu.be/ulbd-1c71sk)\n",
    "\n",
    "Suppose that we have two probabilistic bits, and our probabilistic states respectively are\n",
    "\n",
    "$$ \\myvector{0.2 \\\\ 0.8} \\mbox{ and } \\myvector{0.6 \\\\ 0.4 }. $$\n",
    "\n",
    "If we combine both bits as a single system, then what is the state of the combined system?"
   ]
  },
  {
   "cell_type": "markdown",
   "metadata": {},
   "source": [
    "In total, we have four different states. We can name them as follows:\n",
    "<ul>\n",
    "    <li>00: both bits are in states 0</li>\n",
    "    <li>01: the first bit is in state 0 and the second bit is in state 1</li>\n",
    "    <li>10: the first bit is in state 1 and the second bit is in state 0</li>\n",
    "    <li>11: both bits are in states 1</li>\n",
    "</ul>"
   ]
  },
  {
   "cell_type": "markdown",
   "metadata": {},
   "source": [
    "<h3> Task 1 </h3>\n",
    "\n",
    "<b>Discussion and analysis:</b>\n",
    "\n",
    "What are the probabilities of being in states $ 00 $, $ 01 $, $ 10 $, and $11$?\n",
    "\n",
    "How can we represent these probabilities as a column vector?"
   ]
  },
  {
   "cell_type": "markdown",
   "metadata": {},
   "source": [
    "<h3> Representation for states 0 and 1</h3>\n",
    "\n",
    "The vector representation of state 0 is $ \\myvector{1 \\\\ 0} $. Similarly, the vector representation of state 1 is $ \\myvector{0 \\\\ 1} $.\n",
    "\n",
    "We use $ \\pstate{0} $ to represent $ \\myvector{1 \\\\ 0} $ and $ \\pstate{1} $ to represent $ \\myvector{0 \\\\ 1} $.\n",
    "\n",
    "Then, the probabilistic state $ \\myvector{0.2 \\\\ 0.8} $ is also represented as $ 0.2 \\pstate{0} + 0.8 \\pstate{1} $.\n",
    "\n",
    "Similarly, the probabilistic state $ \\myvector{0.6 \\\\ 0.4} $ is also represented as $ 0.6 \\pstate{0} + 0.4 \\pstate{1} $."
   ]
  },
  {
   "cell_type": "markdown",
   "metadata": {},
   "source": [
    "<h3> Composite system </h3>\n",
    "\n",
    "When two systems are composed, then their states are tensored to calculate the state of composite system.\n",
    "\n",
    "The probabilistic state of the first bit is $  \\myvector{0.2 \\\\ 0.8} = 0.2 \\pstate{0} + 0.8 \\pstate{1} $.\n",
    "\n",
    "The probabilistic state of the second bit is $  \\myvector{0.6 \\\\ 0.4} = 0.6 \\pstate{0} + 0.4 \\pstate{1} $.\n",
    "\n",
    "Then, the probabilistic state of the composite system is $ \\big( 0.2 \\pstate{0} + 0.8 \\pstate{1} \\big) \\otimes  \\big( 0.6 \\pstate{0} + 0.4 \\pstate{1} \\big) $.\n"
   ]
  },
  {
   "cell_type": "markdown",
   "metadata": {},
   "source": [
    "<h3> Task 2 </h3>\n",
    "\n",
    "Find the probabilistic state of the composite system.\n",
    "\n",
    "<i> \n",
    "Rule 1: Tensor product distributes over addition in the same way as the distribution of multiplication over addition.\n",
    "\n",
    "Rule 2: $ \\big( 0.3 \\pstate{1} \\big) \\otimes \\big( 0.7 \\pstate{0} \\big) = (0.3 \\cdot 0.7) \\big( \\pstate{1} \\otimes \\pstate{0} \\big) = 0.21 \\pstate{10} $.\n",
    "</i>"
   ]
  },
  {
   "cell_type": "markdown",
   "metadata": {},
   "source": [
    "<h3>Solution</h3>\n",
    "\n",
    "The probabilistic state of the composite system is $ \\big( 0.2 \\pstate{0} + 0.8 \\pstate{1} \\big) \\otimes  \\big( 0.6 \\pstate{0} + 0.4 \\pstate{1} \\big) $.\n",
    "\n",
    "$$ \\big( 0.2 \\pstate{0} + 0.8 \\pstate{1} \\big) \\otimes  \\big( 0.6 \\pstate{0} + 0.4 \\pstate{1} \\big) =   $$\n",
    "\n",
    "$$ 0.12 \\big( \\pstate{0} \\otimes \\pstate{0} \\big) + 0.08 \\big( \\pstate{0} \\otimes \\pstate{1} \\big) + 0.48 \\big( \\pstate{1} \\otimes \\pstate{0} \\big) + 0.32 \\big( \\pstate{1} \\otimes \\pstate{1} \\big) = $$\n",
    "\n",
    "$$ 0.12 \\pstate{00} + 0.08 \\pstate{01} + 0.48 \\pstate{10} + 0.32 \\pstate{11}. $$"
   ]
  },
  {
   "cell_type": "markdown",
   "metadata": {},
   "source": [
    "<h3> Task 3</h3>\n",
    "\n",
    "Find the probabilistic state of the composite system by calculating this tensor product $ \\myvector{0.2 \\\\ 0.8} \\otimes \\myvector{0.6 \\\\ 0.4 } $."
   ]
  },
  {
   "cell_type": "markdown",
   "metadata": {},
   "source": [
    "<h3>Solution</h3>\n",
    "\n",
    " $ \\myvector{0.2 \\\\ 0.8} \\otimes \\myvector{0.6 \\\\ 0.4 } = \\myvector{ 0.2 \\myvector{0.6 \\\\ 0.4} \\\\ 0.8 \\myvector{0.6 \\\\ 0.4}  } = \\myvector{0.12 \\\\ 0.08 \\\\ 0.48 \\\\ 0.32} $."
   ]
  },
  {
   "cell_type": "markdown",
   "metadata": {},
   "source": [
    "<h3> Task 4</h3>\n",
    "\n",
    "Find the vector representations of $ \\pstate{00} $, $ \\pstate{01} $, $\\pstate{10}$, and $ \\pstate{11} $.\n",
    "\n",
    "<i>The vector representation of $ \\pstate{ab} $ is $ \\pstate{a} \\otimes \\pstate{b} $ for $ a,b \\in \\{0,1\\} $.</i>"
   ]
  },
  {
   "cell_type": "markdown",
   "metadata": {},
   "source": [
    "<h3>Solution</h3>\n",
    "\n",
    "$ \\pstate{00} = \\pstate{0} \\otimes \\pstate{0} = \\myvector{1 \\\\ 0} \\otimes \\myvector{1 \\\\ 0} =  \\myvector{1 \\myvector{1 \\\\ 0} \\\\ 0 \\myvector{1 \\\\ 0} }  = \\myvector{1 \\\\ 0 \\\\ 0 \\\\ 0} $.\n",
    "\n",
    "$ \\pstate{01} = \\pstate{0} \\otimes \\pstate{1} = \\myvector{1 \\\\ 0} \\otimes \\myvector{0 \\\\ 1} = \\myvector{1 \\myvector{0 \\\\ 1} \\\\ 0 \\myvector{0 \\\\ 1} }  = \\myvector{0 \\\\ 1 \\\\ 0 \\\\ 0} $.\n",
    "\n",
    "$ \\pstate{10} = \\pstate{1} \\otimes \\pstate{0} = \\myvector{0 \\\\ 1} \\otimes \\myvector{1 \\\\ 0} = \\myvector{0 \\myvector{1 \\\\ 0} \\\\ 1 \\myvector{1 \\\\ 0} }  = \\myvector{0 \\\\ 0 \\\\ 1 \\\\ 0} $.\n",
    "\n",
    "$ \\pstate{11} = \\pstate{1} \\otimes \\pstate{1} = \\myvector{0 \\\\ 1} \\otimes \\myvector{0 \\\\ 1} = \\myvector{0 \\myvector{0 \\\\ 1} \\\\ 1 \\myvector{0 \\\\ 1} }  = \\myvector{0 \\\\ 0 \\\\ 0 \\\\ 1} $."
   ]
  },
  {
   "cell_type": "markdown",
   "metadata": {},
   "source": [
    "<h3> Task 5 [extra] </h3>\n",
    "\n",
    "Suppose that we have three bits.\n",
    "\n",
    "Find the vector representations of $ \\pstate{abc} $ for each $ a,b,c \\in \\{0,1\\} $."
   ]
  },
  {
   "cell_type": "markdown",
   "metadata": {},
   "source": [
    "<h3> Task 6 [extra] </h3>\n",
    "\n",
    "<i>This is a challenging task.</i>\n",
    "\n",
    "Suppose that we have four bits. \n",
    "\n",
    "Number 9 is represented as $ 1001 $ in binary. Verify that the vector representation of $ \\pstate{1001} $ is the zero vector except its $10$th entry, which is 1.\n",
    "\n",
    "Number 7 is represented as $ 0111 $ in binary. Verify that the vector representation of $ \\pstate{0111} $ is the zero vector except its $8$th entry, which is 1.\n",
    "\n",
    "Generalize this idea for any number between 0 and 15.\n",
    "\n",
    "Generalize this idea for any number of bits."
   ]
  }
 ],
 "metadata": {
  "kernelspec": {
   "display_name": "Python 3",
   "language": "python",
   "name": "python3"
  },
  "language_info": {
   "codemirror_mode": {
    "name": "ipython",
    "version": 3
   },
   "file_extension": ".py",
   "mimetype": "text/x-python",
   "name": "python",
   "nbconvert_exporter": "python",
   "pygments_lexer": "ipython3",
   "version": "3.8.3"
  }
 },
 "nbformat": 4,
 "nbformat_minor": 4
}
