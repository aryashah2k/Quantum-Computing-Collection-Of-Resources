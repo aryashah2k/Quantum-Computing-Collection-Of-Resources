{
 "cells": [
  {
   "cell_type": "markdown",
   "metadata": {},
   "source": [
    "<h2>Quantum Coin Flipping</h2>\n",
    "\n",
    "[Watch Lecture](https://youtu.be/ZfMYKIbuXVw)\n",
    "\n",
    "We explain a series of experiments and try to understand basic behaviors of \"particles\"."
   ]
  },
  {
   "cell_type": "markdown",
   "metadata": {},
   "source": [
    "<h3> The first experiment</h3>\n",
    "\n",
    "We will trace the behavior of a photon.\n",
    "\n",
    "For quantum coin-flipping, we use a beam splitter.\n",
    "\n",
    "For measurements, we use two photon detectors.\n",
    "\n",
    "<ul>\n",
    "    <li> Photon is our coin. </li>\n",
    "    <li> Beam splitter flips the photon. </li>\n",
    "    <li> Photon detectors are our eyes.</li>\n",
    "</li>"
   ]
  },
  {
   "cell_type": "markdown",
   "metadata": {},
   "source": [
    "<h4> The setup </h4>\n",
    "\n",
    "</b>We send photons to a beam splitter as shown below.\n",
    "\n",
    "We expect two behaviors: the beam splitter either transmits or reflects the photon.\n",
    "\n",
    "<img src=\"../images/photon1.jpg\" width=\"50%\">"
   ]
  },
  {
   "cell_type": "markdown",
   "metadata": {},
   "source": [
    "<hr>\n",
    "<center><font style=\"color:blue;\">\n",
    "    You may do these experiments by using an open-source interactive tool <a href=\"https://quantumgame.io/level/0\" target=\"_blank\">quantumgame</a> (requiring internet connection).\n",
    "    </font></center>    \n",
    "<hr>    "
   ]
  },
  {
   "cell_type": "markdown",
   "metadata": {},
   "source": [
    "<h4> Experimental results </h4>\n",
    "\n",
    "After many experiments, we observe the photons in each photon detector almost evenly ($ \\approx \\% 50 $ and $ \\approx \\% 50 $).\n",
    "\n",
    "<img src=\"../images/photon2.jpg\" width=\"50%\">"
   ]
  },
  {
   "cell_type": "markdown",
   "metadata": {},
   "source": [
    "<h4> The first interpretation </h4>\n",
    "\n",
    "So, a beam splitter behaves similarly to a fair coin.\n",
    "\n",
    "<ul>\n",
    "    <li> Head (state 0): Trasmitted </li>\n",
    "    <li> Tail (state 1): Reflected </li>\n",
    "</ul>"
   ]
  },
  {
   "cell_type": "markdown",
   "metadata": {},
   "source": [
    "<h4> Modeling </h4>\n",
    "\n",
    "We describe our first experiment by a single (probabilistic) bit.\n",
    "\n",
    "We start in state 0.\n",
    "\n",
    "With half probability, the photon transmits, and the state does not change.\n",
    "\n",
    "With half probability, the photon is reflected, and the state is flipped.\n",
    "\n",
    "<img src=\"../images/photon3.jpg\" width=\"50%\">"
   ]
  },
  {
   "cell_type": "markdown",
   "metadata": {},
   "source": [
    "<h3> The second experiment </h3>\n",
    "\n",
    "We extend our experiment with two mirrors and another beam splitter.\n",
    "\n",
    "Then, we try to validate our <u>interpretation</u> and <u>model</u>."
   ]
  },
  {
   "cell_type": "markdown",
   "metadata": {},
   "source": [
    "<img src=\"../images/photon4.jpg\" width=\"60%\">"
   ]
  },
  {
   "cell_type": "markdown",
   "metadata": {},
   "source": [
    "In this setup, we have three photon detectors.\n",
    "\n",
    "By using our model described above, we expect to observe a photon \n",
    "<ul> \n",
    "    <li> in $ A $ with probability $ 0.5 $, </li>\n",
    "    <li>  and in $ B1 $ and $ B2 $ with probabilities $ 0.25 $. </li>\n",
    "</ul>\n",
    "\n",
    "Thus, our prediction for the frequencies of observing the photons in $ A $, $ B1 $, and $ B2 $ are respectively\n",
    "\n",
    "$$\n",
    "    \\approx \\% 50, \\approx \\% 25, \\mbox{ and } \\approx \\% 25. \n",
    "$$"
   ]
  },
  {
   "cell_type": "markdown",
   "metadata": {},
   "source": [
    "<h4> Experimental results </h4>\n",
    "\n",
    "Experiments confirm our predictions.\n",
    "\n",
    "Our model explains the second experiment."
   ]
  },
  {
   "cell_type": "markdown",
   "metadata": {},
   "source": [
    "<img src=\"../images/photon5.jpg\" width=\"65%\">"
   ]
  },
  {
   "cell_type": "markdown",
   "metadata": {},
   "source": [
    "<h3> The third experiment </h3>\n",
    "\n",
    "In the third experiment, we remove the photon detector $ A $.\n",
    "\n",
    "So we have only the detectors $ B1 $ and $ B2 $. \n",
    "\n",
    "<img src=\"../images/photon6.jpg\" width=\"65%\">"
   ]
  },
  {
   "cell_type": "markdown",
   "metadata": {},
   "source": [
    "<h4> Our prediction </h4>\n",
    "\n",
    "The third setup is similar to flipping a fair coin twice.\n",
    "\n",
    "Our prediciton is to observe the photons in $ B1 $ and $ B2 $ almost evenly ($ \\approx \\% 50 $ and $ \\approx \\% 50 $)."
   ]
  },
  {
   "cell_type": "markdown",
   "metadata": {},
   "source": [
    "<h4>Math for our prediction</h4>\n",
    "\n",
    "0) At the initial step, we are in state $ 0 $. If we use our vector representation, it is\n",
    "\n",
    "$$ v_0 = \\myvector{1 \\\\ 0}. $$\n",
    "\n",
    "1) We flip a fair coin. The new probabilistic state is expected to be in both states ($0$ and $1$) with half probability ($ \\frac{1}{2} = 0.5 $).\n",
    "\n",
    "$$\n",
    "    v_1 = \\myvector{\\frac{1}{2} \\\\ \\frac{1}{2}}\n",
    "    = \\mymatrix{cc}{ \\frac{1}{2} & \\frac{1}{2} \\\\ \\frac{1}{2} & \\frac{1}{2} }  \n",
    "    \\myvector{1 \\\\ 0}.\n",
    "$$\n",
    "\n",
    "Here the transitions of a fair coin can be represented by the matrix (table): $ \\mymatrix{cc}{ \\frac{1}{2} & \\frac{1}{2} \\\\ \\frac{1}{2} & \\frac{1}{2} }    $ . \n",
    "\n",
    "2) Then, we flip a fair coin again. The new probabilistic state will be the same:\n",
    "\n",
    "$$\n",
    "    v_2 = \\myvector{\\frac{1}{2} \\\\ \\frac{1}{2}} = \n",
    "    \\mymatrix{cc}{ \\frac{1}{2} & \\frac{1}{2} \\\\ \\frac{1}{2} & \\frac{1}{2} }  \n",
    "    \\myvector{\\frac{1}{2} \\\\ \\frac{1}{2}}.\n",
    "$$\n",
    "\n",
    "<b><i> Our prediction is explained with mathematical calculation. </i></b>"
   ]
  },
  {
   "cell_type": "markdown",
   "metadata": {},
   "source": [
    "<img src=\"../images/prediction1.jpg\" width=\"50%\">"
   ]
  },
  {
   "cell_type": "markdown",
   "metadata": {},
   "source": [
    "<h4> Experimental results </h4>\n",
    "\n",
    "<b style=\"color:red;\">However, the experiment results do not confirm our prediction.<b>"
   ]
  },
  {
   "cell_type": "markdown",
   "metadata": {},
   "source": [
    "<img src=\"../images/photon7.jpg\" width=\"65%\">"
   ]
  },
  {
   "cell_type": "markdown",
   "metadata": {},
   "source": [
    "We observe the photons <b>only</b> in the detector $ B1 $, and we <b>never</b> observe any photon in the detector $ B2 $.\n",
    "\n",
    "<b> How could this be possible?</b>"
   ]
  },
  {
   "cell_type": "markdown",
   "metadata": {},
   "source": [
    "    We may conclude that the \"classical\" (Newtonian) mechanics fails to explain the behaviors of particles."
   ]
  },
  {
   "cell_type": "markdown",
   "metadata": {},
   "source": [
    "We need a new (mathematical) model.\n",
    "\n",
    "We can explain our experiments by using <u>quantum mechanics</u>."
   ]
  }
 ],
 "metadata": {
  "kernelspec": {
   "display_name": "Python 3",
   "language": "python",
   "name": "python3"
  },
  "language_info": {
   "codemirror_mode": {
    "name": "ipython",
    "version": 3
   },
   "file_extension": ".py",
   "mimetype": "text/x-python",
   "name": "python",
   "nbconvert_exporter": "python",
   "pygments_lexer": "ipython3",
   "version": "3.8.3"
  }
 },
 "nbformat": 4,
 "nbformat_minor": 4
}
