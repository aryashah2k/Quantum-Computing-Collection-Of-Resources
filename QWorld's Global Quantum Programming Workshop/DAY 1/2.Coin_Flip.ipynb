{
 "cells": [
  {
   "cell_type": "markdown",
   "metadata": {},
   "source": [
    "<h2> Coin Flip: A Probabilistic Bit </h2>\n",
    "\n",
    "[Watch Lecture](https://youtu.be/uGKHEsVcSEs)\n",
    "\n",
    "<h3> A fair coin </h3>\n",
    "\n",
    "A coin has two sides: <i>Heads</i> and <i>Tails</i>.\n",
    "\n",
    "After flipping a coin, we can get Heads or Tails. We can represent these two different cases by a single bit:\n",
    "<ul>\n",
    "    <li> 0 represents Heads </li>\n",
    "    <li> 1 represents Tails </li>\n",
    "</ul>"
   ]
  },
  {
   "cell_type": "markdown",
   "metadata": {},
   "source": [
    "<h3> Flipping a fair coin </h3>\n",
    "\n",
    "If our coin is fair, then the probabilities of getting Heads and Tails are equal:\n",
    "\n",
    "$ p= \\dfrac{1}{2} = 0.5 $.\n",
    "\n",
    "Flipping a fair coin can be represented as an operator:\n",
    "<ul>\n",
    "    <li> $ FairCoin(Heads) = \\frac{1}{2} Heads + \\frac{1}{2}Tails $ </li>\n",
    "    <li> $ FairCoin(Tails) \\mspace{10mu} = \\frac{1}{2} Heads + \\frac{1}{2}Tails $ </li>\n",
    "</ul>\n",
    "$$\n",
    "FairCoin = \\begin{array}{c|cc} & \\mathbf{Heads} & \\mathbf{Tails} \\\\ \\hline \\mathbf{Heads} & \\dfrac{1}{2} & \\dfrac{1}{2} \\\\  \\mathbf{Tails} & \\dfrac{1}{2} & \\dfrac{1}{2}  \\end{array} \n",
    "$$\n",
    "\n",
    "Or, by using 0 and 1:\n",
    "\n",
    "$$\n",
    "FairCoin = \\begin{array}{c|cc} & \\mathbf{0} & \\mathbf{1} \\\\ \\hline \\mathbf{0} & \\dfrac{1}{2} & \\dfrac{1}{2} \\\\  \\mathbf{1} & \\dfrac{1}{2} & \\dfrac{1}{2}  \\end{array} \n",
    "$$"
   ]
  },
  {
   "cell_type": "markdown",
   "metadata": {},
   "source": [
    "<h3> Task 1: Simulating FairCoin in Python</h3>\n",
    "\n",
    "Flip a fair coin 100 times. Calculate the total number of heads and tails, and then check the ratio of the number of heads and the number of tails.\n",
    "\n",
    "Do the same experiment 1000 times.\n",
    "\n",
    "Do the same experiment 10,000 times.\n",
    "\n",
    "Do the same experiment 100,000 times.\n",
    "\n",
    "Do your results get close to the ideal case (the numbers of heads and tails are equal)?"
   ]
  },
  {
   "cell_type": "code",
   "execution_count": 1,
   "metadata": {},
   "outputs": [
    {
     "name": "stdout",
     "output_type": "stream",
     "text": [
      "experiment: 100\n",
      "heads = 48   tails =  52\n",
      "the ratio of #heads/#tails is 0.9231\n",
      "\n",
      "experiment: 1000\n",
      "heads = 504   tails =  496\n",
      "the ratio of #heads/#tails is 1.0161\n",
      "\n",
      "experiment: 10000\n",
      "heads = 5076   tails =  4924\n",
      "the ratio of #heads/#tails is 1.0309\n",
      "\n",
      "experiment: 100000\n",
      "heads = 50226   tails =  49774\n",
      "the ratio of #heads/#tails is 1.0091\n",
      "\n"
     ]
    }
   ],
   "source": [
    "from random import randrange\n",
    "#\n",
    "# you may use method 'randrange' for this task\n",
    "# randrange(n) returns a value from {0,1,...,n-1} randomly\n",
    "#\n",
    "\n",
    "#\n",
    "# your solution is here\n",
    "#\n",
    "from random import randrange\n",
    "\n",
    "for experiment in [100,1000,10000,100000]:\n",
    "    heads = tails = 0\n",
    "    for i in range(experiment):\n",
    "        if randrange(2) == 0: heads = heads + 1\n",
    "        else: tails = tails + 1\n",
    "    print(\"experiment:\",experiment)\n",
    "    print(\"heads =\",heads,\"  tails = \",tails)\n",
    "    print(\"the ratio of #heads/#tails is\",(round(heads/tails,4)))\n",
    "    print() # empty line"
   ]
  },
  {
   "cell_type": "markdown",
   "metadata": {},
   "source": [
    "<h3> Flipping a biased coin </h3>\n",
    "\n",
    "Our coin may have a bias. \n",
    "\n",
    "For example, the probability of getting heads is greater than the probability of getting tails.\n",
    "\n",
    "Here is an example:\n",
    "\n",
    "$$\n",
    "BiasedCoin = \\begin{array}{c|cc} & \\mathbf{Heads} & \\mathbf{Tails} \\\\ \\hline \\mathbf{Heads} & 0.6 & 0.6 \\\\  \\mathbf{Tails} & 0.4 & 0.4  \\end{array}\n",
    "$$\n",
    "\n",
    "Or, by using 0 and 1 as the states:\n",
    "\n",
    "$$\n",
    "BiasedCoin = \\begin{array}{c|cc} & \\mathbf{0} & \\mathbf{1} \\\\ \\hline \\mathbf{0} & 0.6 & 0.6\\\\  \\mathbf{1} & 0.4 & 0.4 \\end{array}\n",
    "$$"
   ]
  },
  {
   "cell_type": "markdown",
   "metadata": {},
   "source": [
    "<h3> Task 2: Simulating BiasedCoin in Python</h3>\n",
    "\n",
    "Flip the following biased coin 100 times. Calculate the total numbers of heads and tails, and then check the ratio of the number of heads and the number of tails.\n",
    "\n",
    "$\n",
    "BiasedCoin = \\begin{array}{c|cc} & \\mathbf{Head} & \\mathbf{Tail} \\\\ \\hline \\mathbf{Head} & 0.6 & 0.6 \\\\  \\mathbf{Tail} & 0.4 & 0.4  \\end{array}\n",
    "$\n",
    "\n",
    "\n",
    "Do the same experiment 1000 times.\n",
    "\n",
    "Do the same experiment 10,000 times.\n",
    "\n",
    "Do the same experiment 100,000 times.\n",
    "\n",
    "Do your results get close to the ideal case $ \\mypar{ \\dfrac{ \\mbox{# of heads} }{ \\mbox{# of tails} } = \\dfrac{0.6}{0.4} = 1.50000000 } $?"
   ]
  },
  {
   "cell_type": "code",
   "execution_count": 2,
   "metadata": {},
   "outputs": [
    {
     "name": "stdout",
     "output_type": "stream",
     "text": [
      "experiment: 100\n",
      "heads = 56   tails =  44\n",
      "the ratio of #heads/#tails is 1.2727\n",
      "\n",
      "experiment: 1000\n",
      "heads = 608   tails =  392\n",
      "the ratio of #heads/#tails is 1.551\n",
      "\n",
      "experiment: 10000\n",
      "heads = 5970   tails =  4030\n",
      "the ratio of #heads/#tails is 1.4814\n",
      "\n",
      "experiment: 100000\n",
      "heads = 59812   tails =  40188\n",
      "the ratio of #heads/#tails is 1.4883\n",
      "\n"
     ]
    }
   ],
   "source": [
    "#\n",
    "# you may use method 'randrange' for this task\n",
    "# randrange(n) returns a value from {0,1,...,n-1} randomly\n",
    "#\n",
    "\n",
    "#\n",
    "# your solution is here\n",
    "#\n",
    "from random import randrange\n",
    "\n",
    "# let's pick a random number between {0,1,...,99}\n",
    "# it is expected to be less than 60 with probability 0.6\n",
    "#     and greater than or equal to 60 with probability 0.4\n",
    "\n",
    "for experiment in [100,1000,10000,100000]:\n",
    "    heads = tails = 0\n",
    "    for i in range(experiment):\n",
    "        if randrange(100) <60: heads = heads + 1 # with probability 0.6\n",
    "        else: tails = tails + 1 # with probability 0.4\n",
    "    print(\"experiment:\",experiment)\n",
    "    print(\"heads =\",heads,\"  tails = \",tails)\n",
    "    print(\"the ratio of #heads/#tails is\",(round(heads/tails,4)))\n",
    "    print() # empty line"
   ]
  },
  {
   "cell_type": "markdown",
   "metadata": {},
   "source": [
    "<h3> Programming a biased coin [extra] </h3>\n",
    "\n",
    "We use a simple method to create a biased coin.\n",
    "\n",
    "First, we pick a range for the precision of probabilities, say $ N $, as $ N = 11, 101, 1001, \\mbox{ or }, 10^k+1 $ for some $ k > 4 $.\n",
    "\n",
    "Second, we pick the bias, say $ B $, as an integer between 0 and $ N $.\n",
    "\n",
    "We fix $ N $ and $ B $.\n",
    "\n",
    "Third, we pick a random integer between 0 and $ N $:\n",
    "<ul>\n",
    "    <li> if it is less than $ B $, we say \"Heads\" and </li>\n",
    "    <li> if it is equal to $ B $ or greater than $ B $, we say \"Tails\" </li>\n",
    "</ul>\n",
    "    \n",
    "In this way, we have a biased coin \"landing on\" heads with probability $ \\frac{B}{N} $.\n",
    "\n",
    "Remark that we pick $ N = 10^k+1 $ as an odd number. In this way, the coin cannot be fair whenever $ B $ is an integer. In other words, there is no integer $ B $, which is exact half of $ \\frac{10^k+1}{2} $."
   ]
  },
  {
   "cell_type": "markdown",
   "metadata": {},
   "source": [
    "<h3> Task 3 </h3>\n",
    "\n",
    "Write a function to implement the described biased coin,\n",
    "\n",
    "The inputs are integers $ N >0 $ and $ 0 \\leq B < N $.\n",
    "\n",
    "The output is either \"Heads\" or \"Tails\"."
   ]
  },
  {
   "cell_type": "code",
   "execution_count": 3,
   "metadata": {},
   "outputs": [],
   "source": [
    "def biased_coin(N,B):\n",
    "    from random import randrange\n",
    "    random_number = randrange(N)\n",
    "    if random_number < B:\n",
    "        return \"Heads\"\n",
    "    else:\n",
    "        return \"Tails\""
   ]
  },
  {
   "cell_type": "markdown",
   "metadata": {},
   "source": [
    "<h3> Task 4</h3>\n",
    "\n",
    "We use the biased coin described in Task 3. \n",
    "\n",
    "(You may use the function given <a href=\"B06_Coin_Flip_Solutions.ipynb#task3\">in the solution</a>.)\n",
    "\n",
    "We pick $ N $ as 101.\n",
    "\n",
    "Our task is to determine the value of $ B $ experimentially without checking its value directly.\n",
    "\n",
    "Flip the (same) biased coin 500 times, collect the statistics, and then guess the bias.\n",
    "\n",
    "Compare your guess with the actual bias by calculating the error (the absolute value of the difference)."
   ]
  },
  {
   "cell_type": "code",
   "execution_count": 4,
   "metadata": {},
   "outputs": [],
   "source": [
    "def biased_coin(N,B):\n",
    "    from random import randrange\n",
    "    random_number = randrange(N)\n",
    "    if random_number < B:\n",
    "        return \"Heads\"\n",
    "    else:\n",
    "        return \"Tails\""
   ]
  },
  {
   "cell_type": "code",
   "execution_count": 5,
   "metadata": {},
   "outputs": [],
   "source": [
    "from random import randrange\n",
    "N = 101\n",
    "B = randrange(100)"
   ]
  },
  {
   "cell_type": "code",
   "execution_count": 6,
   "metadata": {},
   "outputs": [
    {
     "name": "stdout",
     "output_type": "stream",
     "text": [
      "my guess is 0.822\n",
      "real bias is 0.8415841584158416\n",
      "error (%) is 2.327058823529414\n"
     ]
    }
   ],
   "source": [
    "total_tosses = 500\n",
    "the_number_of_heads = 0\n",
    "for i in range(total_tosses):\n",
    "    if biased_coin(N,B) == \"Heads\":\n",
    "        the_number_of_heads = the_number_of_heads + 1\n",
    "\n",
    "my_guess =  the_number_of_heads/total_tosses        \n",
    "real_bias = B/N\n",
    "error = abs(my_guess-real_bias)/real_bias*100 \n",
    "\n",
    "print(\"my guess is\",my_guess)\n",
    "print(\"real bias is\",real_bias)\n",
    "print(\"error (%) is\",error)"
   ]
  },
  {
   "cell_type": "code",
   "execution_count": null,
   "metadata": {},
   "outputs": [],
   "source": []
  }
 ],
 "metadata": {
  "kernelspec": {
   "display_name": "Python 3",
   "language": "python",
   "name": "python3"
  },
  "language_info": {
   "codemirror_mode": {
    "name": "ipython",
    "version": 3
   },
   "file_extension": ".py",
   "mimetype": "text/x-python",
   "name": "python",
   "nbconvert_exporter": "python",
   "pygments_lexer": "ipython3",
   "version": "3.8.3"
  }
 },
 "nbformat": 4,
 "nbformat_minor": 4
}
