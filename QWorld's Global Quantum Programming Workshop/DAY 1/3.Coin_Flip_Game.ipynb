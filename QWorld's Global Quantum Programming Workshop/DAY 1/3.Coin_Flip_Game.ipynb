{
 "cells": [
  {
   "cell_type": "markdown",
   "metadata": {},
   "source": [
    "<h2> A Game with two biased coins </h2>\n",
    "\n",
    "[Watch Lecture](https://youtu.be/k0OJvv7AAgU)\n",
    "\n",
    "Our friend Asja has one euro and one cent. \n",
    "\n",
    "Both coins are biased, and the probabilities of getting heads and tails are as follows:\n",
    "<ul>\n",
    "    <li> one euro: heads with probability $ 0.6 $ and tails with probability $ 0.4 $. </li>\n",
    "    <li> one cent: heads with probability $ 0.3 $ and tails with probability $ 0.7 $. </li>\n",
    "</ul>\n",
    "\n",
    "Asja flips her coins based on the following <b>protocol</b>: \n",
    "<ol> \n",
    "    <li> she starts with flipping one euro[*]. </li>\n",
    "    <li> whenever she gets heads, she flips one euro in the next step; </li>\n",
    "    <li> whenever she gets tails, she flips one cent in the next step; and </li>\n",
    "</ol>\n",
    "\n",
    "By using a single bit, we summarize all possible transitions of this game as follows:\n",
    "\n",
    "$\n",
    "GameCoins = \\begin{array}{c|cc} & \\mathbf{Head} & \\mathbf{Tail} \\\\ \\hline \\mathbf{Head} & 0.6 & 0.3\\\\  \\mathbf{Tail} & 0.4 & 0.7  \\end{array} = \\begin{array}{c|cc} & \\mathbf{0} & \\mathbf{1} \\\\ \\hline \\mathbf{0} & 0.6 & 0.3 \\\\  \\mathbf{1} & 0.4 & 0.7  \\end{array}\n",
    "$\n",
    "\n",
    "[*] We should fix an initial condition. Otherwise, Asja cannot pick any of the coins at the beginning of game."
   ]
  },
  {
   "cell_type": "markdown",
   "metadata": {},
   "source": [
    "<h3>Task 1: Convince yourself </h3>\n",
    "\n",
    "Convince yourself about the correctness of transitions given in the table.\n",
    "\n",
    "<i> Remark that there is no difference between getting heads from one euro or getting heads from one cent.\n",
    "    \n",
    "Therefore, one bit is enough to represent all transitions.\n",
    "</i>"
   ]
  },
  {
   "cell_type": "markdown",
   "metadata": {},
   "source": [
    "<h3> Tracing Asja's three coin tosses </h3>\n",
    "\n",
    "Suppose that Asja <b>secretly</b> tosses her coins based on the defined protocol.\n",
    "\n",
    "By using python, we can calculate the probabilities of Asja seeing heads and tails after three coin tosses.\n",
    "\n",
    "<i><b>Remark:</b> In the previous tasks of [Coin Flipping](B06_Coin_Flip.ipynb), we know the ideal ratios, and we experiment many coin tosses and then expect to observe the results close to the ideal ratios.\n",
    "    \n",
    "Here we calculate the exact probabilities (the ideal ratio) by using python. (We will not do the experiments as in the previous tasks.)\n",
    "</i>\n",
    "\n",
    "We present our solution step by step."
   ]
  },
  {
   "cell_type": "code",
   "execution_count": 1,
   "metadata": {},
   "outputs": [
    {
     "name": "stdout",
     "output_type": "stream",
     "text": [
      "the probability of getting head after 3 coin tosses is 0.44399999999999995\n",
      "the probability of getting tail after 3 coin tosses is 0.556\n"
     ]
    }
   ],
   "source": [
    "#\n",
    "# OUR SOLUTION\n",
    "#\n",
    "\n",
    "# initial condition:\n",
    "# Asja will start with one euro,\n",
    "#    and so, we assume that the probability of having head is 1 at the beginning.\n",
    "prob_head = 1\n",
    "prob_tail = 0\n",
    "\n",
    "\n",
    "#\n",
    "# first coin-flip\n",
    "#\n",
    "\n",
    "# the new probability of head is calculated by using the first row of table\n",
    "new_prob_head = prob_head * 0.6 + prob_tail * 0.3\n",
    "\n",
    "# the new probability of tail is calculated by using the second row of the table\n",
    "new_prob_tail = prob_head * 0.4 + prob_tail * 0.7\n",
    "\n",
    "# update the probabilities for the second round\n",
    "prob_head = new_prob_head\n",
    "prob_tail = new_prob_tail\n",
    "\n",
    "#\n",
    "# second coin-flip\n",
    "#\n",
    "# we do the same calculations\n",
    "\n",
    "new_prob_head = prob_head * 0.6 + prob_tail * 0.3\n",
    "new_prob_tail = prob_head * 0.4 + prob_tail * 0.7\n",
    "\n",
    "prob_head = new_prob_head\n",
    "prob_tail = new_prob_tail\n",
    "\n",
    "#\n",
    "# third coin-flip\n",
    "#\n",
    "# we do the same calculations\n",
    "\n",
    "new_prob_head = prob_head * 0.6 + prob_tail * 0.3\n",
    "new_prob_tail = prob_head * 0.4 + prob_tail * 0.7\n",
    "\n",
    "prob_head = new_prob_head\n",
    "prob_tail = new_prob_tail\n",
    "\n",
    "# print prob_head and prob_tail\n",
    "print(\"the probability of getting head after 3 coin tosses is\",prob_head)\n",
    "print(\"the probability of getting tail after 3 coin tosses is\",prob_tail)"
   ]
  },
  {
   "cell_type": "markdown",
   "metadata": {},
   "source": [
    "<h3> Task 2: Tracing ten biased coin tosses </h3>\n",
    "\n",
    "By using python, calculate the probabilities of Asja seeing heads and tails after 10 coin tosses.\n",
    "\n",
    "$\n",
    "GameCoins = \\begin{array}{c|cc} & \\mathbf{Head} & \\mathbf{Tail} \\\\ \\hline \\mathbf{Head} & 0.6 & 0.3\\\\  \\mathbf{Tail} & 0.4 & 0.7  \\end{array} = \\begin{array}{c|cc} & \\mathbf{0} & \\mathbf{1} \\\\ \\hline \\mathbf{0} & 0.6 & 0.3 \\\\  \\mathbf{1} & 0.4 & 0.7  \\end{array}\n",
    "$\n",
    "\n",
    "Use a loop in your solution."
   ]
  },
  {
   "cell_type": "code",
   "execution_count": 2,
   "metadata": {},
   "outputs": [
    {
     "name": "stdout",
     "output_type": "stream",
     "text": [
      "the probability of getting head after 10 coin tosses is 0.42857480279999977\n",
      "the probability of getting tail after 10 coin tosses is 0.5714251971999997\n"
     ]
    }
   ],
   "source": [
    "#\n",
    "# your solution is here\n",
    "#\n",
    "#\n",
    "# We copy and paste the previous code\n",
    "#\n",
    "\n",
    "# initial condition:\n",
    "# Asja will start with one euro,\n",
    "#    and so, we assume that the probability of having head is 1 at the beginning.\n",
    "prob_head = 1\n",
    "prob_tail = 0\n",
    "\n",
    "number_of_iterations = 10\n",
    "\n",
    "for i in range(number_of_iterations):\n",
    "    # the new probability of head is calculated by using the first row of table\n",
    "    new_prob_head = prob_head * 0.6 + prob_tail * 0.3\n",
    "\n",
    "    # the new probability of tail is calculated by using the second row of table\n",
    "    new_prob_tail = prob_head * 0.4 + prob_tail * 0.7\n",
    "\n",
    "    # update the probabilities\n",
    "    prob_head = new_prob_head\n",
    "    prob_tail = new_prob_tail\n",
    "    \n",
    "# print prob_head and prob_tail\n",
    "print(\"the probability of getting head after\",number_of_iterations,\"coin tosses is\",prob_head)\n",
    "print(\"the probability of getting tail after\",number_of_iterations,\"coin tosses is\",prob_tail)"
   ]
  },
  {
   "cell_type": "markdown",
   "metadata": {},
   "source": [
    "<h3> Task 3</h3>\n",
    "\n",
    "Repeat Task 2 for 20, 30, and 50 coin tosses."
   ]
  },
  {
   "cell_type": "code",
   "execution_count": 3,
   "metadata": {},
   "outputs": [
    {
     "name": "stdout",
     "output_type": "stream",
     "text": [
      "the number of iterations is 20\n",
      "the probability of getting head after 20 coin tosses is 0.42857142859135267\n",
      "the probability of getting tail after 20 coin tosses is 0.5714285714086464\n",
      "\n",
      "the number of iterations is 30\n",
      "the probability of getting head after 30 coin tosses is 0.42857142857142816\n",
      "the probability of getting tail after 30 coin tosses is 0.5714285714285705\n",
      "\n",
      "the number of iterations is 50\n",
      "the probability of getting head after 50 coin tosses is 0.42857142857142805\n",
      "the probability of getting tail after 50 coin tosses is 0.5714285714285706\n",
      "\n"
     ]
    }
   ],
   "source": [
    "#\n",
    "# your solution is here\n",
    "#\n",
    "# define iterations as a list\n",
    "iterations = [20,30,50]\n",
    "\n",
    "for iteration in iterations:\n",
    "    \n",
    "    # initial probabilites\n",
    "    prob_head = 1\n",
    "    prob_tail = 0\n",
    "    \n",
    "    print(\"the number of iterations is\",iteration)\n",
    "    \n",
    "    for i in range(iteration):\n",
    "         # the new probability of head is calculated by using the first row of table\n",
    "        new_prob_head = prob_head * 0.6 + prob_tail * 0.3\n",
    "\n",
    "        # the new probability of tail is calculated by using the second row of table\n",
    "        new_prob_tail = prob_head * 0.4 + prob_tail * 0.7\n",
    "\n",
    "        # update the probabilities\n",
    "        prob_head = new_prob_head\n",
    "        prob_tail = new_prob_tail\n",
    "    \n",
    "    # print prob_head and prob_tail\n",
    "    print(\"the probability of getting head after\",iteration,\"coin tosses is\",prob_head)\n",
    "    print(\"the probability of getting tail after\",iteration,\"coin tosses is\",prob_tail)\n",
    "    print()"
   ]
  },
  {
   "cell_type": "markdown",
   "metadata": {},
   "source": [
    "<h3> Task 4</h3>\n",
    "\n",
    "Repeat Task 2 for 10, 20, and 50 coin tosses by picking different initial conditions, e.g., \n",
    "    \n",
    "    prob_head = prob_tail = 1/2\n",
    "or\n",
    "    \n",
    "    prob_head = 0 \n",
    "    prob_tail = 1"
   ]
  },
  {
   "cell_type": "code",
   "execution_count": 4,
   "metadata": {},
   "outputs": [
    {
     "name": "stdout",
     "output_type": "stream",
     "text": [
      "probability of head is 0.5\n",
      "probability of tail is 0.5\n",
      "\n",
      "the number of iterations is 20\n",
      "the probability of getting head after 20 coin tosses is 0.42857142857391883\n",
      "the probability of getting tail after 20 coin tosses is 0.5714285714260805\n",
      "\n",
      "the number of iterations is 30\n",
      "the probability of getting head after 30 coin tosses is 0.42857142857142827\n",
      "the probability of getting tail after 30 coin tosses is 0.571428571428571\n",
      "\n",
      "the number of iterations is 50\n",
      "the probability of getting head after 50 coin tosses is 0.42857142857142827\n",
      "the probability of getting tail after 50 coin tosses is 0.571428571428571\n",
      "\n",
      "\n",
      "probability of head is 0\n",
      "probability of tail is 1\n",
      "\n",
      "the number of iterations is 20\n",
      "the probability of getting head after 20 coin tosses is 0.4285714285564849\n",
      "the probability of getting tail after 20 coin tosses is 0.5714285714435143\n",
      "\n",
      "the number of iterations is 30\n",
      "the probability of getting head after 30 coin tosses is 0.42857142857142794\n",
      "the probability of getting tail after 30 coin tosses is 0.5714285714285708\n",
      "\n",
      "the number of iterations is 50\n",
      "the probability of getting head after 50 coin tosses is 0.42857142857142794\n",
      "the probability of getting tail after 50 coin tosses is 0.5714285714285706\n",
      "\n",
      "\n"
     ]
    }
   ],
   "source": [
    "#\n",
    "# your solution is here\n",
    "#\n",
    "# define iterations as a list\n",
    "iterations = [20,30,50]\n",
    "\n",
    "# define initial probability pairs as a double list\n",
    "initial_probabilities =[    \n",
    "    [1/2,1/2],\n",
    "    [0,1]\n",
    "]\n",
    "\n",
    "\n",
    "for initial_probability_pair in initial_probabilities: \n",
    "    print(\"probability of head is\",initial_probability_pair[0])\n",
    "    print(\"probability of tail is\",initial_probability_pair[1])\n",
    "    print()\n",
    "\n",
    "    for iteration in iterations:\n",
    "\n",
    "        # initial probabilites\n",
    "        [prob_head,prob_tail] = initial_probability_pair\n",
    "        \n",
    "        print(\"the number of iterations is\",iteration)\n",
    "        \n",
    "        for i in range(iteration):\n",
    "             # the new probability of head is calculated by using the first row of table\n",
    "            new_prob_head = prob_head * 0.6 + prob_tail * 0.3\n",
    "\n",
    "            # the new probability of tail is calculated by using the second row of table\n",
    "            new_prob_tail = prob_head * 0.4 + prob_tail * 0.7\n",
    "\n",
    "            # update the probabilities\n",
    "            prob_head = new_prob_head\n",
    "            prob_tail = new_prob_tail\n",
    "\n",
    "        # print prob_head and prob_tail\n",
    "        print(\"the probability of getting head after\",iteration,\"coin tosses is\",prob_head)\n",
    "        print(\"the probability of getting tail after\",iteration,\"coin tosses is\",prob_tail)\n",
    "        print()\n",
    "    print()"
   ]
  },
  {
   "cell_type": "markdown",
   "metadata": {},
   "source": [
    "<hr>"
   ]
  },
  {
   "cell_type": "markdown",
   "metadata": {},
   "source": [
    "<h3> Arbitrary transitions for GameCoins [extra]</h3>\n",
    "\n",
    "By changing the bias of each Asja's coin, we can define arbitrary GameCoins.\n",
    "\n",
    "If $ a $ is the probability of getting heads for one euro and $ b $ is the probability of getting heads for one cent, then we have the following transitions:\n",
    "\n",
    "$\n",
    "GameCoins(a,b) = \\begin{array}{c|cc} & \\mathbf{Head} & \\mathbf{Tail} \\\\ \\hline \\mathbf{Head} & a & b\\\\  \\mathbf{Tail} & 1-a & 1-b  \\end{array} = \\begin{array}{c|cc} & \\mathbf{0} & \\mathbf{1} \\\\ \\hline \\mathbf{0} & a & b \\\\  \\mathbf{1} & 1-a & 1-b  \\end{array}\n",
    "$"
   ]
  },
  {
   "cell_type": "markdown",
   "metadata": {},
   "source": [
    "<h3> Task 5 </h3>\n",
    "\n",
    "Observe that if $ a=1 $ and $ b = 0 $, then it is Identity operator, i.e., the initial condition will stay as it is.\n",
    "\n",
    "If $ a=0 $ and $ b=1 $, then it is NOT operator. NOT operator swaps the probabilities of heads and tails in each step. If the initial probabilities are not $ 0.5 $ and $ 0.5 $, then the system never converges to a fixed probabilities."
   ]
  },
  {
   "cell_type": "code",
   "execution_count": null,
   "metadata": {},
   "outputs": [],
   "source": [
    "#\n",
    "# your solution is here\n",
    "#\n"
   ]
  },
  {
   "cell_type": "markdown",
   "metadata": {},
   "source": [
    "<h3> Task 6</h3>\n",
    "\n",
    "Randomly pick the values of $ a $ and $ b $, and then implement Tasks 3 and 4 for $ GameCoins(a,b) $."
   ]
  },
  {
   "cell_type": "code",
   "execution_count": null,
   "metadata": {},
   "outputs": [],
   "source": [
    "#\n",
    "# your solution is here\n",
    "#\n"
   ]
  },
  {
   "cell_type": "markdown",
   "metadata": {},
   "source": [
    "<h3> Task 7</h3>\n",
    "\n",
    "10 times repeat Task 6 and observe whether the probabilities converge in each time."
   ]
  },
  {
   "cell_type": "code",
   "execution_count": null,
   "metadata": {},
   "outputs": [],
   "source": [
    "#\n",
    "# your solution is here\n",
    "#\n"
   ]
  },
  {
   "cell_type": "markdown",
   "metadata": {},
   "source": [
    "<h3>Task 8</h3>\n",
    "\n",
    "We can rewrite arbitrary GameCoins as \n",
    "\n",
    "$  \\begin{array}{c|cc} & \\mathbf{Head} & \\mathbf{Tail} \\\\ \\hline \\mathbf{Head} & 1-y & x\\\\  \\mathbf{Tail} & y & 1-x  \\end{array} = \\begin{array}{c|cc} & \\mathbf{0} & \\mathbf{1} \\\\ \\hline \\mathbf{0} & 1-y & x \\\\  \\mathbf{1} & y & 1-x  \\end{array}.\n",
    "$ \n",
    "\n",
    "We assume that it is neither Identity nor NOT operator. Then, independent of the initial state, the system always converges to \n",
    "\n",
    "$ Pr[\\mbox{\"heads\"}] = \\dfrac{x}{x+y} $ and $ Pr[\\mbox{\"tails\"}]=\\dfrac{y}{x+y} $, \n",
    "\n",
    "which are the probabilities of getting heads and tails, respectively.\n",
    "\n",
    "Observe this fact by checking the results of Task 7."
   ]
  },
  {
   "cell_type": "code",
   "execution_count": null,
   "metadata": {},
   "outputs": [],
   "source": [
    "#\n",
    "# your solution is here\n",
    "#\n"
   ]
  }
 ],
 "metadata": {
  "kernelspec": {
   "display_name": "Python 3",
   "language": "python",
   "name": "python3"
  },
  "language_info": {
   "codemirror_mode": {
    "name": "ipython",
    "version": 3
   },
   "file_extension": ".py",
   "mimetype": "text/x-python",
   "name": "python",
   "nbconvert_exporter": "python",
   "pygments_lexer": "ipython3",
   "version": "3.8.3"
  }
 },
 "nbformat": 4,
 "nbformat_minor": 4
}
