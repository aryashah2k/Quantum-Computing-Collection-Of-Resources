{
 "cells": [
  {
   "cell_type": "markdown",
   "metadata": {},
   "source": [
    "<h2> One Bit </h2>\n",
    "\n",
    "[Watch Lecture](https://youtu.be/kn53Qvl-h28)\n",
    "\n",
    "In daily life, we use decimal number system. It is also called base-10 system, because we have 10 digits:\n",
    "\n",
    "$ 0,~1,~2,~3,~4,~5,~6,~7,~8, \\mbox{ and } 9  $.\n",
    "\n",
    "In computer science, on the other hand, the widely used system is binary, which has only two digits:\n",
    "\n",
    "$ 0 $ and $ 1 $.\n",
    "\n",
    "Bit (or binary digit) is the basic unit of information used in computer science and information theory. \n",
    "\n",
    "It can also be seen as the smallest \"useful\" memory unit, which has two states named 0 and 1. \n",
    "\n",
    "At any moment, a bit can be in either state 0 or state 1."
   ]
  },
  {
   "cell_type": "markdown",
   "metadata": {},
   "source": [
    "<h3> Four operators </h3>\n",
    "\n",
    "How many different operators can be defined on a single bit?\n",
    "\n",
    "<i>An operator, depending on the current state of the bit, updates the state of bit (the result may be the same state).</i> \n",
    "\n",
    "We can apply four different operators to a single bit:\n",
    "<ol>\n",
    "    <li> Identity: $ I(0) = 0 $ and $ I(1) = 1 $ </li>\n",
    "    <li> Negation: $ NOT(0) = 1 $ and $ NOT(1) = 0 $ </li>\n",
    "    <li> Constant (Zero): $ ZERO(0) = 0 $ and $ ZERO(1) = 0 $ </li>\n",
    "    <li> Constant (One): $ ONE(0) = 1 $ and $ ONE(1) = 1 $ </li>\n",
    "</ol>\n",
    "The first operator is called IDENTITY, because it does not change the content/value of the bit.\n",
    "\n",
    "The second operator is named NOT, because it negates (flips) the value of bit. \n",
    "\n",
    "<i>Remark that 0 and 1 also refer to Boolean values False and True, respectively, and, False is the negation of True, and True is the negation of False.</i>\n",
    "\n",
    "The third (resp., fourth) operator returns a constant value 0 (resp., 1), whatever the input is."
   ]
  },
  {
   "cell_type": "markdown",
   "metadata": {},
   "source": [
    "<h3> Table representation </h3>\n",
    "\n",
    "We can represent the transitions of each operator by a table:\n",
    "\n",
    "$\n",
    "I = \\begin{array}{lc|cc} \n",
    "    & & initial & states \\\\ \n",
    "    & & \\mathbf{0} & \\mathbf{1} \\\\ \\hline \n",
    "    final & \\mathbf{0} & \\mbox{goes-to} & \\emptyset \\\\  \n",
    "    states & \\mathbf{1} & \\emptyset & \\mbox{goes-to}  \\end{array} ,\n",
    "$\n",
    "where \n",
    "- the header (first row) represents the initial values, and\n",
    "- the first column represents the final values.\n",
    "\n",
    "We can also define the transitions numerically:\n",
    "- we use 1 if there is a transition between two values, and, \n",
    "- we use 0 if there is no transition between two values.\n",
    "\n",
    "$\n",
    "I = \\begin{array}{lc|cc} \n",
    "    & & initial & states \\\\ \n",
    "    & & \\mathbf{0} & \\mathbf{1} \\\\ \\hline \n",
    "    final & \\mathbf{0} & 1 & 0 \\\\  \n",
    "    states & \\mathbf{1} & 0 & 1  \\end{array}\n",
    "$"
   ]
  },
  {
   "cell_type": "markdown",
   "metadata": {},
   "source": [
    "The values in <b>bold</b> are the initial and final values of the bits. The non-bold values represent the transitions.\n",
    "<ul>\n",
    "    <li> The top-left non-bold 1 represents the transtion $ 0 \\rightarrow 0 $. </li>\n",
    "    <li> The bottom-right non-bold 1 represents the transtion $ 1 \\rightarrow 1 $. </li> \n",
    "    <li> The top-right non-bold 0 means that there is no transition from 1 to 0. </li>\n",
    "    <li> The bottom-left non-bold 0 means that there is no transition from 0 to 1. </li>\n",
    "</ul>\n",
    "The reader may think that the values 0 and 1 are representing the transitions as True (On) and False (Off), respectively. \n",
    "\n",
    "Similarly, we can represent the other operators as below:\n",
    "\n",
    "$\n",
    "NOT = \\begin{array}{lc|cc} & & initial & states \\\\ & & \\mathbf{0} & \\mathbf{1} \\\\ \\hline final & \\mathbf{0} & 0 & 1 \\\\  \n",
    "    states & \\mathbf{1} & 1 & 0  \\end{array}\n",
    "~~~\n",
    "ZERO = \\begin{array}{lc|cc} & & initial & states \\\\ & & \\mathbf{0} & \\mathbf{1} \\\\ \\hline final & \\mathbf{0} & 1 & 1 \\\\  \n",
    "    states & \\mathbf{1} & 0 & 0  \\end{array}\n",
    "~~~\n",
    "ONE = \\begin{array}{lc|cc} & & initial & states \\\\ & & \\mathbf{0} & \\mathbf{1} \\\\ \\hline final & \\mathbf{0} & 0 & 0 \\\\  \n",
    "    states & \\mathbf{1} & 1 & 1  \\end{array}\n",
    ".\n",
    "$"
   ]
  },
  {
   "cell_type": "markdown",
   "metadata": {},
   "source": [
    "<h3> Task 1 </h3>\n",
    "\n",
    "Convince yourself with the correctness of each table."
   ]
  },
  {
   "cell_type": "markdown",
   "metadata": {},
   "source": [
    "<h3> Reversibility and Irreversibility </h3>\n",
    "\n",
    "After applying Identity or NOT operator, we can easily determine the initial value by checking the final value. \n",
    "<ul>\n",
    "    <li> In the case of Identity operator, we simply say the same value. </li>\n",
    "    <li> In the case of NOT operator, we simply say the other value, i.e., if the final value is 0 (resp., 1), then we say 1 (resp., 0). </li>\n",
    "</ul>\n",
    "\n",
    "However, we cannot know the initial value by checking the final value after applying ZERO or ONE operator. \n",
    "\n",
    "Based on this observation, we can classify the operators into two types: <i>Reversible</i> and <i>Irreversible</i>.\n",
    "<ul>\n",
    "    <li> If we can recover the initial value(s) from the final value(s), then the operator is called reversible like Identity and NOT operators. </li>\n",
    "    <li> If we cannot know the initial value(s) from the final value(s), then the operator is called irreversible like ZERO and ONE operators. </li>\n",
    "</ul>\n",
    "\n",
    "<b> This classification is important, as the quantum evolution operators are reversible </b> (as long as the system is closed).\n",
    "\n",
    "The Identity and NOT operators are two fundamental quantum operators."
   ]
  }
 ],
 "metadata": {
  "kernelspec": {
   "display_name": "Python 3",
   "language": "python",
   "name": "python3"
  },
  "language_info": {
   "codemirror_mode": {
    "name": "ipython",
    "version": 3
   },
   "file_extension": ".py",
   "mimetype": "text/x-python",
   "name": "python",
   "nbconvert_exporter": "python",
   "pygments_lexer": "ipython3",
   "version": "3.8.3"
  }
 },
 "nbformat": 4,
 "nbformat_minor": 4
}
