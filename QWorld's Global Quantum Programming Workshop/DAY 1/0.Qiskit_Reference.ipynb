{
 "cells": [
  {
   "cell_type": "markdown",
   "metadata": {},
   "source": [
    "<h1> Qiskit: Quick Reference </h1>"
   ]
  },
  {
   "cell_type": "markdown",
   "metadata": {},
   "source": [
    "<hr>\n",
    "<h3> Importing the main objects from qiskit </h3>"
   ]
  },
  {
   "cell_type": "markdown",
   "metadata": {},
   "source": [
    "    from qiskit import QuantumRegister, ClassicalRegister, QuantumCircuit, execute, Aer"
   ]
  },
  {
   "cell_type": "markdown",
   "metadata": {},
   "source": [
    "<hr>\n",
    "<h3>Creating a quantum circuit</h3>"
   ]
  },
  {
   "cell_type": "markdown",
   "metadata": {},
   "source": [
    "    # a quantum circuit is composed by a quantum and a classical register in qiskit\n",
    "    qreg = QuantumRegister(5) # this quantum register has 5 qubits\n",
    "    creg = ClassicalRegister(5) # this classical register has 5 classical bits\n",
    "\n",
    "    circuit = QuantumCircuit(qreg,creg) # a quantum circuit"
   ]
  },
  {
   "cell_type": "markdown",
   "metadata": {},
   "source": [
    "<hr>\n",
    "<h3>One qubit gates</h3>"
   ]
  },
  {
   "cell_type": "markdown",
   "metadata": {},
   "source": [
    "<h4> x-gate (NOT operator) </h4>\n",
    "\n",
    "$ X = \\mymatrix{cc}{0&1\\\\1&0} $ \n",
    "<br><br>\n",
    "\n",
    "    circuit.x(qreg[2])"
   ]
  },
  {
   "cell_type": "markdown",
   "metadata": {},
   "source": [
    "<h4> z-gate (Z operator) </h4>\n",
    "\n",
    "$ Z = \\mymatrix{rr}{1&0\\\\0&-1} $ \n",
    "<br><br>\n",
    "\n",
    "    circuit.z(qreg[4])"
   ]
  },
  {
   "cell_type": "markdown",
   "metadata": {},
   "source": [
    "<h4> h-gate (Hadamard operator) </h4>\n",
    "\n",
    "$ H = \\hadamard $ \n",
    "<br><br>\n",
    "\n",
    "    circuit.h(qreg[1])"
   ]
  },
  {
   "cell_type": "markdown",
   "metadata": {},
   "source": [
    "<h4> ry-gate (rotation operator) </h4>\n",
    "\n",
    "This is a rotation operator on a (real-valued) qubit in counter-clockwise direction.\n",
    "\n",
    "The matrix representing the rotation with angle $a$ on two-dimensional space:\n",
    "\n",
    "$ R(a) = \\mymatrix{rr}{\\cos(a) & -\\sin(a) \\\\ \\sin(a) & \\cos(a) } $ \n",
    "<br><br>\n",
    "\n",
    "    circuit.ry(2*a,qreg[3])\n",
    "    \n",
    "Remark that we pass the double of the rotation angle for the rotations on the unit circle."
   ]
  },
  {
   "cell_type": "markdown",
   "metadata": {},
   "source": [
    "<hr>\n",
    "<h3>Two-qubit gates</h3>\n",
    "\n",
    "<font color=\"#0000CC\"><i>In qiskit, when the system has two qubits $qreg[0]$ and $ qreg[1] $, then they are combined as $ qreg[1] \\otimes qreg[0] $.</i></font> "
   ]
  },
  {
   "cell_type": "markdown",
   "metadata": {},
   "source": [
    "<b>cx-gate (CNOT operator)</b>"
   ]
  },
  {
   "cell_type": "markdown",
   "metadata": {},
   "source": [
    "$ CNOT = \\mymatrix{cccc}{\\blackbit{1} & 0 & 0 & 0 \\\\ 0 & \\blackbit{1} & 0 & 0 \\\\ 0 & 0 & 0 & \\bluebit{1} \\\\ 0 & 0 & \\bluebit{1} & 0} . $\n",
    "<br><br>\n",
    "\n",
    "    # controller qubit is qreg[1] -- the first parameter\n",
    "    # target qubit is qreg[0] -- the second parameter\n",
    "    circuit.cx(qreg[1],qreg[0]) "
   ]
  },
  {
   "cell_type": "markdown",
   "metadata": {},
   "source": [
    "<b>cu3-gate (controlled rotation operator)</b>\n",
    "\n",
    "We use this gate for controlled ry-gate in this tutorial."
   ]
  },
  {
   "cell_type": "markdown",
   "metadata": {},
   "source": [
    "$ \\mymatrix{cccc}{1 & 0 & 0 & 0 \\\\ 0 & 1 & 0 & 0  \\\\ 0 & 0 & \\cos a & -\\sin a \\\\ 0 & 0 & \\sin a & \\cos a} . $\n",
    "<br><br>\n",
    "\n",
    "    # controller qubit is qreg[1] -- the first parameter\n",
    "    # target qubit is qreg[0] -- the second parameter\n",
    "    circuit.cu3(2*a,0,0,qreg[1],qreg[0]) "
   ]
  },
  {
   "cell_type": "markdown",
   "metadata": {},
   "source": [
    "<hr>\n",
    "<h3>Three-qubit gate</h3>\n",
    "\n",
    "<font color=\"#0000CC\"><i>In qiskit, when the system has three qubits $qreg[0], qreg[1], qreg[2] $, then they are combined as $ qreg[2] \\otimes qreg[1] \\otimes qreg[0] $.</i></font> "
   ]
  },
  {
   "cell_type": "markdown",
   "metadata": {},
   "source": [
    "<b>ccx-gate (Toffoli (CCNOT) operator)</b>"
   ]
  },
  {
   "cell_type": "markdown",
   "metadata": {},
   "source": [
    "$ CCNOT = \\mymatrix{cccccccc}{\n",
    "    \\blackbit{1} & 0 & 0 & 0 & 0 & 0 & 0 & 0 \\\\ \n",
    "    0 & \\blackbit{1} & 0 & 0 & 0 & 0 & 0 & 0 \\\\\n",
    "    0 & 0 & \\blackbit{1} & 0 & 0 & 0 & 0 & 0 \\\\\n",
    "    0 & 0 & 0 & \\blackbit{1} & 0 & 0 & 0 & 0 \\\\\n",
    "    0 & 0 & 0 & 0 & \\blackbit{1} & 0 & 0 & 0 \\\\\n",
    "    0 & 0 & 0 & 0 & 0 & \\blackbit{1} & 0 & 0 \\\\\n",
    "    0 & 0 & 0 & 0 & 0 & 0 & 0 & \\bluebit{1} \\\\\n",
    "    0 & 0 & 0 & 0 & 0 & 0 & \\bluebit{1} & 0 \\\\ \n",
    "    } . $\n",
    "<br><br>\n",
    "\n",
    "    # 1st controller qubit is qreg[2] -- the first parameter\n",
    "    # 2nd controller qubit is qreg[1] -- the second parameter\n",
    "    # target qubit is qreg[0] -- the third parameter\n",
    "    circuit.ccx(qreg[2],qreg[1],qreg[0]) "
   ]
  },
  {
   "cell_type": "markdown",
   "metadata": {},
   "source": [
    "<hr>\n",
    "<h3>Measuring a quantum circuit</h3>"
   ]
  },
  {
   "cell_type": "markdown",
   "metadata": {},
   "source": [
    "1) If the sizes of quantum and classical registers are the same, we can define the measurements with a single line of code:\n",
    "\n",
    "    mycircuit.measure(qreg,creg)\n",
    "   \n",
    "This associaties each qubit to a classical bit with the same index."
   ]
  },
  {
   "cell_type": "markdown",
   "metadata": {},
   "source": [
    "2) Each quantum bit can be associated with a specified classical bit as follows:\n",
    "\n",
    "    mycircuit.measure(qreg[0],creg[0])\n",
    "    mycircuit.measure(qreg[1],creg[4])\n",
    "    mycircuit.measure(qreg[2],creg[3])\n",
    "    mycircuit.measure(qreg[3],creg[1])\n",
    "    mycircuit.measure(qreg[4],creg[2])"
   ]
  },
  {
   "cell_type": "markdown",
   "metadata": {},
   "source": [
    "Remark that\n",
    "\n",
    "    mycircuit.measure(qreg,creg)\n",
    "\n",
    "is equivalent to\n",
    "\n",
    "    #mycircuit.measure(qreg[0],creg[0])\n",
    "    #mycircuit.measure(qreg[1],creg[1])\n",
    "    #mycircuit.measure(qreg[2],creg[2])\n",
    "    #mycircuit.measure(qreg[3],creg[3])\n",
    "    #mycircuit.measure(qreg[4],creg[4])"
   ]
  },
  {
   "cell_type": "markdown",
   "metadata": {},
   "source": [
    "<hr>\n",
    "<h3>Quantum operation controlled by a classical register</h3>"
   ]
  },
  {
   "cell_type": "markdown",
   "metadata": {},
   "source": [
    "This option is available only when using simulators. \n",
    "\n",
    "In the following example, the last operator (x-gate) on the quantum register will be executed if the value of the classical register is 1.\n",
    "\n",
    "    q = QuantumRegister(1)\n",
    "    c = ClassicalRegister(1)\n",
    "    qc = QuantumCircuit(q,c)\n",
    "    ...\n",
    "    qc.measure(q,c)\n",
    "    qc.x(q[0]).c_if(c,1)"
   ]
  },
  {
   "cell_type": "markdown",
   "metadata": {},
   "source": [
    "<hr>\n",
    "<h3>Drawing or printing a quantum circuit</h3>"
   ]
  },
  {
   "cell_type": "markdown",
   "metadata": {},
   "source": [
    "There are different methods to draw a circuit.\n",
    "\n",
    "We use a method of circuit object called \"draw\".\n",
    "\n",
    "1) Without any parameters, the circuit is drawn by using <b>ASCII art</b>.\n",
    "\n",
    "    circuit.draw()"
   ]
  },
  {
   "cell_type": "markdown",
   "metadata": {},
   "source": [
    "The method \"draw\" can also take different parameters.\n",
    "\n",
    "2) The circuit can be drawn by using \"<b>matplotlib</b>\" library of python.\n",
    "\n",
    "We can reverse the order of classical and quantum bits. \n",
    "\n",
    "This is the order of reading the outcomes of classical bits (from top-to-bottom).\n",
    "\n",
    "    circuit.draw(output='mpl',reverse_bits=True)"
   ]
  },
  {
   "cell_type": "markdown",
   "metadata": {},
   "source": [
    "3) The circuit can be drawn by using <b>LaTex</b>.\n",
    "\n",
    "We can scale the output graphics. \n",
    "\n",
    "    circuit.draw(output='latex',scale=0.5)"
   ]
  },
  {
   "cell_type": "markdown",
   "metadata": {},
   "source": [
    "<hr>\n",
    "<h3>Reading the quantum state of a circuit on local simulator</h3>\n",
    "\n",
    "The quantum state of a circuit can be read when using \"statevector_simulator\".\n",
    "\n",
    "    job = execute(circuit,Aer.get_backend('statevector_simulator'),optimization_level=0)\n",
    "    current_quantum_state=job.result().get_statevector(circuit)\n",
    "\n",
    "The result is a list of complex numbers. We can access them as follows.\n",
    "\n",
    "    current_quantum_state[0].real # real part of the first amplitude\n",
    "    current_quantum_state[0].imag # imaginary part of the first amplitude"
   ]
  },
  {
   "cell_type": "markdown",
   "metadata": {},
   "source": [
    "<hr>\n",
    "<h3>Reading the unitary operator of a circuit on local simulator</h3>\n",
    "\n",
    "\"unitary_simulator\" gives a unitary representation of all gates in the circuit until that point.\n",
    "\n",
    "    job = execute(circuit,Aer.get_backend('unitary_simulator'),shots=1,optimization_level=0)\n",
    "    current_unitary=job.result().get_unitary(circuit)\n",
    "\n",
    "The result is a double list of complex numbers (bacause it is a matrix). \n",
    "\n",
    "    current_unitary[0][0].real # real part of the amplitude of the (1,1)-th entry\n",
    "    current_unitary[0][0].imag # imaginary part of the amplitude of the (1,1)-th entry"
   ]
  },
  {
   "cell_type": "markdown",
   "metadata": {},
   "source": [
    "<hr>\n",
    "<h3>Executing a quantum program on local simulator</h3>"
   ]
  },
  {
   "cell_type": "markdown",
   "metadata": {},
   "source": [
    "Executing a quantum program 1000 times:\n",
    "\n",
    "    job = execute(mycircuit,Aer.get_backend('qasm_simulator'),shots=1000)\n",
    "    \n",
    "The results can be read as a dictionary:  \n",
    "\n",
    "    counts = job.result().get_counts(mycircuit)   \n",
    "    print(counts)\n",
    "    \n",
    "<font color=\"#0000CC\"><i>In qiskit, when the system has $n$ quantum bits, $qreg[0], qreg[1], \\ldots, qreg[n-1]$, they are combined as\n",
    "    \n",
    "$$ qreg[n-1] \\otimes \\cdots \\otimes qreg[1] \\otimes qreg[0]. $$ \n",
    "<br>\n",
    "Then, any outcome is a bit string of length $n$: \n",
    "\n",
    "$$ b_{n-1}\\cdots b_1 b_0, $$ \n",
    "\n",
    "where $ b_i \\in \\{0,1\\} $ is the outcome observed in the $ i $-th quantum bit ($ 0 \\leq i \\leq n-1 $).</i></font> \n"
   ]
  }
 ],
 "metadata": {
  "kernelspec": {
   "display_name": "Python 3",
   "language": "python",
   "name": "python3"
  },
  "language_info": {
   "codemirror_mode": {
    "name": "ipython",
    "version": 3
   },
   "file_extension": ".py",
   "mimetype": "text/x-python",
   "name": "python",
   "nbconvert_exporter": "python",
   "pygments_lexer": "ipython3",
   "version": "3.8.3"
  }
 },
 "nbformat": 4,
 "nbformat_minor": 4
}
