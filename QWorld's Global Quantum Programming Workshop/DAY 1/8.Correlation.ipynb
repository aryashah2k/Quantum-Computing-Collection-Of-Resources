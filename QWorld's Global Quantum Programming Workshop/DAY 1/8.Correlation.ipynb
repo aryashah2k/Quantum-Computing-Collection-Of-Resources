{
 "cells": [
  {
   "cell_type": "markdown",
   "metadata": {},
   "source": [
    "<h2> Correlation</h2>\n",
    "\n",
    "[Watch Lecture](https://youtu.be/gI9pJaX7NMc)"
   ]
  },
  {
   "cell_type": "markdown",
   "metadata": {},
   "source": [
    "We start with an explanation (by Daniel Reitzner).\n",
    "\n",
    "Our father prepares the lunches of my sister and mine. He puts our boxes either pasta or couscous salad.\n",
    "\n",
    "Until openning the boxes, we do not know our lunch. But, once I open my box, I will know the lunch of my sister as well, and vice versa.\n",
    "\n",
    "This is <i>correlation</i>."
   ]
  },
  {
   "cell_type": "markdown",
   "metadata": {},
   "source": [
    "Now, we follow a more formal explanation.\n",
    "\n",
    "Asja has one euro and Balvis has one cent.\n",
    "\n",
    "Both coins are fair and we do not see their coins. \n",
    "\n",
    "They start with \"head\" (state 0).\n",
    "<br>\n",
    "Asja flips her coin once. Then, the probabilistic states of Asja and Balvis are $ \\myvector{\\frac{1}{2} \\\\ \\frac{1}{2}} $ and $ \\myvector{1 \\\\ 0} $, respectively."
   ]
  },
  {
   "cell_type": "markdown",
   "metadata": {},
   "source": [
    "<h3> Task 1</h3>\n",
    "\n",
    "Calculate the state of composite system."
   ]
  },
  {
   "cell_type": "markdown",
   "metadata": {},
   "source": [
    "<h3>Solution</h3>\n",
    "\n",
    "The probabilistic states of Asja and Balvis are $ \\myvector{\\frac{1}{2} \\\\ \\frac{1}{2}} $ and $ \\myvector{1 \\\\ 0} $, respectively.\n",
    "\n",
    "The state of composite system is $ \\myvector{\\frac{1}{2} \\\\ \\frac{1}{2}} \\otimes \\myvector{1 \\\\ 0} = \\myvector{\\frac{1}{2} \\myvector{1 \\\\ 0} \\\\ \\frac{1}{2} \\myvector{1 \\\\ 0} } = \\myvector{\\frac{1}{2} \\\\ 0 \\\\ \\frac{1}{2} \\\\ 0 } = \\frac{1}{2} \\pstate{00} + \\frac{1}{2} \\pstate{10}  $."
   ]
  },
  {
   "cell_type": "markdown",
   "metadata": {},
   "source": [
    "They apply Controlled-NOT operator on their coins, which operates on two bits:\n",
    "\n",
    "$$\n",
    "    CNOT = \\CNOT.\n",
    "$$\n",
    "\n",
    "<i> The effect of CNOT is that, if the state of the first bit is 1, then the value of the second bit is flipped.\n",
    "\n",
    "Here the first one is the controlled bit and the second one is the targeted bit.</i>\n",
    "\n",
    "By using the basis states:\n",
    "<ul style=\"font-size:16px;\">\n",
    "    <li>$CNOT \\pstate{00} = \\pstate{00}$</li>\n",
    "    <li>$CNOT \\pstate{01} = \\pstate{01}$</li>\n",
    "    <li>$CNOT \\pstate{\\mathbf{\\color{red}{1}\\color{blue}{0}}} = \\pstate{\\mathbf{\\color{red}{1}\\color{blue}{1}}} $</li>\n",
    "    <li>$CNOT \\pstate{\\mathbf{\\color{red}{1}\\color{blue}{1}}} = \\pstate{\\mathbf{\\color{red}{1}\\color{blue}{0}}} $</li>\n",
    "</ul>\n",
    "    \n"
   ]
  },
  {
   "cell_type": "markdown",
   "metadata": {},
   "source": [
    "<h3> Task 2</h3>\n",
    "\n",
    "Verify that the state of composite system is $ \\frac{1}{2} \\pstate{00} + \\frac{1}{2} \\pstate{11} $ after CNOT operator."
   ]
  },
  {
   "cell_type": "markdown",
   "metadata": {},
   "source": [
    "<h3>Solution</h3>\n",
    "\n",
    "$ CNOT \\big( \\frac{1}{2} \\pstate{00} + \\frac{1}{2} \\pstate{10} \\big) = CNOT  \\frac{1}{2} \\pstate{00} + CNOT \\frac{1}{2} \\pstate{10} = \\frac{1}{2} \\pstate{00} + \\frac{1}{2} \\pstate{11}  $.\n",
    "\n",
    "Alternatively,\n",
    "\n",
    "$ \\CNOT  \\myvector{\\frac{1}{2} \\\\ 0 \\\\ \\frac{1}{2} \\\\ 0 } =  \\myvector{\\frac{1}{2} \\\\ 0 \\\\ 0 \\\\ \\frac{1}{2}  } = \\frac{1}{2} \\pstate{00} + \\frac{1}{2} \\pstate{11} $."
   ]
  },
  {
   "cell_type": "markdown",
   "metadata": {},
   "source": [
    "<h3> Task 3 </h3>\n",
    "\n",
    "<b>Discussion and analysis:</b>\n",
    "\n",
    "Suppose that Asja and Balvis separate from each other without changing their states. \n",
    "\n",
    "If we see the Asja's coin, then can we guess the state of Balvis' coin, and vice versa? \n",
    "\n",
    "If so, we can say that both bits are correlated to each other."
   ]
  },
  {
   "cell_type": "markdown",
   "metadata": {},
   "source": [
    "<h3>Correlated systems</h3>\n",
    "\n",
    "If the state of a composite system cannot be written as the tensor product of the states of its sub-systems, then we can say that the sub-systems are correlated."
   ]
  },
  {
   "cell_type": "markdown",
   "metadata": {},
   "source": [
    "<h3>Task 4</h3>\n",
    "\n",
    "Show that it is not possible to write $ \\myvector{ \\frac{1}{2} \\\\ 0 \\\\ 0 \\\\ \\frac{1}{2} } $ as $ \\myvector{a\\\\b} \\otimes \\myvector{c\\\\d} $ for some numbers $ a,b,c,$ and $d $.\n",
    "\n",
    "<i>Remark that the correlation in general might not be easily shown as in this basic example. </i>"
   ]
  },
  {
   "cell_type": "markdown",
   "metadata": {},
   "source": [
    "<h3>Solution</h3>\n",
    "\n",
    " $ \\myvector{a\\\\b} \\otimes \\myvector{c\\\\d} = \\myvector{ a  \\myvector{c\\\\d}  \\\\ b  \\myvector{c\\\\d}  } = \\myvector{ ac \\\\ ad \\\\ bc \\\\ bd } $. \n",
    " \n",
    "Since $ ac = \\frac{1}{2} $, we can conclude that $a$ and $c$ are nonzero numbers.\n",
    "\n",
    "Since $ bd = \\frac{1}{2} $, we can conclude that $b$ and $d$ are nonzero numbers.\n",
    "\n",
    "Therefore, $ ad $ and $ bc $ are also nonzero numbers. \n",
    "\n",
    "But, this is a contradiction: $ \\myvector{ ac \\\\ ad \\\\ bc \\\\ bd } = \\myvector{\\frac{1}{2} \\\\ 0 \\\\ 0 \\\\ \\frac{1}{2}} $, and so $ ad $ and $ bc $ must be zeros.\n"
   ]
  },
  {
   "cell_type": "markdown",
   "metadata": {},
   "source": [
    "<h3> Correlation with more than two bits</h3>\n",
    "\n",
    "Curie has a 50 cent in state 0. \n",
    "\n",
    "Then, the state of the composite system defined by these three coins will be \n",
    "\n",
    "$ \\mypar{ \\frac{1}{2} \\pstate{00} + \\frac{1}{2} \\pstate{11}  } \\otimes \\pstate{0} = \n",
    "\\frac{1}{2} \\pstate{000} + \\frac{1}{2} \\pstate{110} $.\n",
    "\n",
    "What happens if CNOT operator is applied to Asja's coin and Curie's coin, where Asja's coin is the control one and Curie's coin is the target one?\n",
    "\n",
    "CNOT is an operator defined for two bits. So, it can be applied to any pair of bits. \n",
    "\n",
    "In such a case, the value of any other bit in the composed system does not change.\n",
    "\n",
    "One may ask how its matrix form looks like defined on three bits."
   ]
  },
  {
   "cell_type": "markdown",
   "metadata": {},
   "source": [
    "<h3> Task 5 </h3>\n",
    "\n",
    "Verify that the CNOT operator applied to Asja's and Curie's coins as described above maps the basis states as follows:\n",
    "<ul>\n",
    "    <li> $ \\pstate{000} \\rightarrow \\pstate{000} $ </li>\n",
    "    <li> $ \\pstate{001} \\rightarrow \\pstate{001} $ </li>\n",
    "    <li> $ \\pstate{010} \\rightarrow \\pstate{010} $ </li>\n",
    "    <li> $ \\pstate{011} \\rightarrow \\pstate{011} $ </li>\n",
    "    <li> $ \\pstate{ \\mathbf{\\color{red}{1}} 0  \\mathbf{\\color{blue}{0}} } \\rightarrow \\pstate{ \\mathbf{\\color{red}{1}} 0  \\mathbf{\\color{blue}{1}} }  $ </li>\n",
    "    <li> $ \\pstate{ \\mathbf{\\color{red}{1}} 0  \\mathbf{\\color{blue}{1}} } \\rightarrow \\pstate{ \\mathbf{\\color{red}{1}} 0  \\mathbf{\\color{blue}{0}} }  $ </li>\n",
    "    <li> $ \\pstate{ \\mathbf{\\color{red}{1}} 1  \\mathbf{\\color{blue}{0}} } \\rightarrow \\pstate{ \\mathbf{\\color{red}{1}} 1  \\mathbf{\\color{blue}{1}} }  $ </li>\n",
    "    <li> $ \\pstate{ \\mathbf{\\color{red}{1}} 1  \\mathbf{\\color{blue}{1}} } \\rightarrow \\pstate{ \\mathbf{\\color{red}{1}} 1  \\mathbf{\\color{blue}{0}} }  $ </li>\n",
    "</ul>"
   ]
  },
  {
   "cell_type": "markdown",
   "metadata": {},
   "source": [
    "<h3> Task 6 </h3>\n",
    "\n",
    "Verify that the described operator in Task 5 has the following matrix form:\n",
    "\n",
    "$$\n",
    "    \\mymatrix{cccc|cccc} {\n",
    "     \\mathbf{1} & 0 & 0 & 0 & 0 & 0 & 0 & 0 \\\\\n",
    "     0 & \\mathbf{1} & 0 & 0 & 0 & 0 & 0 & 0 \\\\\n",
    "     0 & 0 & \\mathbf{1} & 0 & 0 & 0 & 0 & 0 \\\\\n",
    "     0 & 0 & 0 & \\mathbf{1} & 0 & 0 & 0 & 0 \\\\      \n",
    "     \\hline\n",
    "     0 & 0 & 0 & 0 & 0 & \\mathbf{1} & 0 & 0 \\\\\n",
    "     0 & 0 & 0 & 0 & \\mathbf{1} & 0 & 0 & 0 \\\\\n",
    "     0 & 0 & 0 & 0 & 0 & 0 & 0 & \\mathbf{1} \\\\\n",
    "     0 & 0 & 0 & 0 & 0 & 0 & \\mathbf{1} & 0 \\\\\n",
    "    }\n",
    "$$"
   ]
  },
  {
   "cell_type": "markdown",
   "metadata": {},
   "source": [
    "<h3> Task 7 </h3>\n",
    "\n",
    "Calculate the new state of the composed system defined on the three bits after the CNOT operator defined in Task 5 or Task6.\n",
    "\n",
    "$ \\frac{1}{2} \\pstate{000} + \\frac{1}{2} \\pstate{110} \\rightarrow ? $"
   ]
  },
  {
   "cell_type": "markdown",
   "metadata": {},
   "source": [
    "<h3>Solution</h3>\n",
    "\n",
    "\n",
    "$ \\frac{1}{2} \\pstate{000} + \\frac{1}{2} \\pstate{\\mathbf{\\color{red}{1}}1\\mathbf{\\color{blue}{0}}} \\rightarrow \\frac{1}{2} \\pstate{000} + \\frac{1}{2}\\pstate{\\mathbf{\\color{red}{1}}1\\mathbf{\\color{blue}{1}}} $."
   ]
  },
  {
   "cell_type": "markdown",
   "metadata": {},
   "source": [
    "<h3> Task 8 </h3>\n",
    "\n",
    "Suppose that Daria had a 10 cent in state 1, and its coin is also combined with the composite system.\n",
    "\n",
    "What is the state of the new composite system?\n",
    "\n",
    "Then, CNOT operator is applied to Curie's coin and Daria's coin, where Curie's coin is the control bit.\n",
    "\n",
    "What is the new state of the composite system after this CNOT operator?\n",
    "\n",
    "<i>Observe that the correlation with a new bit can be created by applying a CNOT gate between any bit already in the correlation and the new bit, where the new bit is the target one.</i>"
   ]
  },
  {
   "cell_type": "markdown",
   "metadata": {},
   "source": [
    "<h3>Solution</h3>\n",
    "\n",
    "The state of the new composite system is\n",
    "\n",
    "$ \\mypar{ \\frac{1}{2} \\pstate{000} + \\frac{1}{2} \\pstate{111} } \\otimes \\pstate{1} = \\frac{1}{2} \\pstate{0001} + \\frac{1}{2} \\pstate{1111}  $.\n",
    "\n",
    "\n",
    "After applying CNOT defined on the third bit (control) and fourth bit (target):\n",
    "\n",
    "$ \\frac{1}{2} \\pstate{0001} + \\frac{1}{2} \\pstate{11\\mathbf{\\color{red}{1}}\\mathbf{\\color{blue}{1}}} \\rightarrow \\frac{1}{2} \\pstate{0001} + \\frac{1}{2}\\pstate{11\\mathbf{\\color{red}{1}}\\mathbf{\\color{blue}{0}}} $.\n",
    "\n",
    "Now, all four bits are correlated. By seeing the state of any bit, we can know the states of the other bits."
   ]
  }
 ],
 "metadata": {
  "kernelspec": {
   "display_name": "Python 3",
   "language": "python",
   "name": "python3"
  },
  "language_info": {
   "codemirror_mode": {
    "name": "ipython",
    "version": 3
   },
   "file_extension": ".py",
   "mimetype": "text/x-python",
   "name": "python",
   "nbconvert_exporter": "python",
   "pygments_lexer": "ipython3",
   "version": "3.8.3"
  }
 },
 "nbformat": 4,
 "nbformat_minor": 4
}
