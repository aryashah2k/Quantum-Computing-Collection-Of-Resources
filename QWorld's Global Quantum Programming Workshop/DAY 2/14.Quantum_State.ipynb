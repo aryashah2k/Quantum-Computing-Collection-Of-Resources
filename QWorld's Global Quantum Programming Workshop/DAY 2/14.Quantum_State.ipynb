{
 "cells": [
  {
   "cell_type": "markdown",
   "metadata": {},
   "source": [
    "<h2>Quantum State</h2>\n",
    "\n",
    "[Watch Lecture](https://youtu.be/6OE96rgQz8s)\n",
    "\n",
    "_The overall probability must be 1 when we observe a quantum system._\n",
    "\n",
    "For example, the following vectors <u>cannot</u> be a valid quantum state:\n",
    "\n",
    "$$\n",
    "    \\myvector{ \\dfrac{1}{2} \\\\ \\dfrac{1}{2} } \n",
    "    \\mbox{ and }\n",
    "    \\myvector{ \\dfrac{\\sqrt{3}}{2} \\\\ \\dfrac{1}{\\sqrt{2}} }.\n",
    "$$\n",
    "\n",
    "For the first vector, the probabilities of observing the states $\\ket{0} $ and $ \\ket{1} $ are $ \\dfrac{1}{4} $. \n",
    "\n",
    "So, the overall probability of getting a result is $ \\dfrac{1}{4} + \\dfrac{1}{4} = \\dfrac{1}{2} $, which is less than 1.\n",
    "\n",
    "For the second vector, the probabilities of observing the states $\\ket{0} $ and $ \\ket{1} $ are respectively $ \\dfrac{3}{4} $ and $ \\dfrac{1}{2} $. \n",
    "\n",
    "So, the overall probability of getting a result is $ \\dfrac{3}{4} + \\dfrac{1}{2} = \\dfrac{5}{4} $, which is greater than 1."
   ]
  },
  {
   "cell_type": "markdown",
   "metadata": {},
   "source": [
    "<font color=\"blue\"><b>The summation of amplitude squares must be 1 for a valid quantum state.</b></font>"
   ]
  },
  {
   "cell_type": "markdown",
   "metadata": {},
   "source": [
    "<font color=\"blue\"><b>More formally, a quantum state can be represented by a vector having length 1, and vice versa.</b></font>\n",
    "\n",
    "<i>The summation of amplitude squares gives the square of the length of vector.\n",
    "\n",
    "But, this summation is 1, and its square root is also 1. So, we can use the term <u>length</u> in the definition.</i>"
   ]
  },
  {
   "cell_type": "markdown",
   "metadata": {},
   "source": [
    "<i> <b>Technical notes:</b> We represent a quantum state as $ \\ket{u} $ instead of $ u $. Remember the relation between the length and dot product: $ \\norm{u} = \\sqrt{\\dot{u}{u}} $. \n",
    "    \n",
    "In quantum computation, we use inner product instead of dot product, which is defined on complex numbers. By using bra-ket notation, $ \\norm{ \\ket{u} } = \\sqrt{ \\braket{u}{u} } = 1 $, or equivalently $ \\braket{u}{u} = 1 $, where $ \\braket{u}{u} $ is a short form of $ \\bra{u}\\ket{u} $. For real-valued vectors, $ \\braket{v}{v} = \\dot{v}{v}  $.\n",
    "</i>"
   ]
  },
  {
   "cell_type": "markdown",
   "metadata": {},
   "source": [
    "<h3> Task 1 </h3>\n",
    "\n",
    "If the following vectors are valid quantum states defined with real numbers, then what can be the values of $a$ and $b$?\n",
    "\n",
    "$$\n",
    "    \\ket{v} = \\myrvector{a \\\\ -0.1 \\\\ -0.3 \\\\ 0.4 \\\\ 0.5}\n",
    "    ~~~~~ \\mbox{and} ~~~~~\n",
    "   \\ket{u} = \\myrvector{ \\frac{1}{\\sqrt{2}} \\\\ \\frac{1}{\\sqrt{b}} \\\\ -\\frac{1}{\\sqrt{3}} }.\n",
    "$$"
   ]
  },
  {
   "cell_type": "code",
   "execution_count": 1,
   "metadata": {},
   "outputs": [
    {
     "name": "stdout",
     "output_type": "stream",
     "text": [
      "vector |v>\n",
      "total is  0.51\n",
      "the missing part is 0.49\n",
      "so, the value of 'a' can be 0.7 or -0.7\n",
      "\n",
      "vector |u>\n",
      "total is  0.8333333333333333\n",
      "the missing part is 0.16666666666666674\n",
      "so, the value of 'b' should be 5.999999999999997\n"
     ]
    }
   ],
   "source": [
    "#\n",
    "# your code is here \n",
    "#    (you may find the values by hand (in mind) as well)\n",
    "#\n",
    "# vector |v>\n",
    "\n",
    "print(\"vector |v>\")\n",
    "\n",
    "values = [-0.1, -0.3, 0.4, 0.5]\n",
    "\n",
    "total = 0 # summation of squares\n",
    "for i in range(len(values)):\n",
    "    total += values[i]**2; # add the square of each value\n",
    "print(\"total is \",total)\n",
    "print(\"the missing part is\",1-total)\n",
    "print(\"so, the value of 'a' can be\",(1-total)**0.5,\"or\",-(1-total)**0.5) # square root of the missing part\n",
    "\n",
    "print()\n",
    "print(\"vector |u>\")\n",
    "\n",
    "values = [1/(2**0.5), -1/(3**0.5)]\n",
    "\n",
    "total = 0 # summation of squares\n",
    "for i in range(len(values)):\n",
    "    total += values[i]**2; # add the square of each value\n",
    "print(\"total is \",total)\n",
    "print(\"the missing part is\",1-total)\n",
    "# the missing part is 1/b, square of 1/sqrt(b)\n",
    "# thus, b is 1/missing_part\n",
    "print(\"so, the value of 'b' should be\",1/(1-total)) "
   ]
  },
  {
   "cell_type": "markdown",
   "metadata": {},
   "source": [
    "<h3> Quantum Operators </h3>\n",
    "\n",
    "Once the quantum state is defined, the definition of quantum operator is very easy.\n",
    "\n",
    "<font color=\"blue\"><b>Any length preserving (square) matrix is a quantum operator, and vice versa.</b></font>"
   ]
  },
  {
   "cell_type": "markdown",
   "metadata": {},
   "source": [
    "<a id=\"task2\"></a>\n",
    "<h3> Task 2</h3>\n",
    "\n",
    "Remember Hadamard operator:\n",
    "\n",
    "$$\n",
    "    H = \\hadamard.\n",
    "$$"
   ]
  },
  {
   "cell_type": "markdown",
   "metadata": {},
   "source": [
    "Randomly create a 2-dimensional quantum state, and test whether Hadamard operator preserves its length or not.\n",
    "\n",
    "<b>Write a function</b> that returns a randomly created 2-dimensional quantum state.\n",
    "\n",
    "<i>Hint:\n",
    "<ul>\n",
    "    <li> Pick two random values between -100 and 100 for the amplitudes of state 0 and state 1 </li>\n",
    "    <li> Find an appropriate normalization factor to divide each amplitude such that the length of quantum state should be 1 </li>\n",
    "</ul>\n",
    "</i>"
   ]
  },
  {
   "cell_type": "markdown",
   "metadata": {},
   "source": [
    "<b>Write a function</b> that determines whether a given vector is a valid quantum state or not.\n",
    "\n",
    "(Due to precision problem, the summation of squares may not be exactly 1 but very close to 1, e.g., 0.9999999999999998.)\n",
    "\n",
    "<b>Repeat 10 times:</b>\n",
    "<ul>\n",
    "    <li> Randomly pick a quantum state </li>\n",
    "    <li> Check whether the pick quantum state is valid </li>\n",
    "    <li> Multiply Hadamard matrix with the randomly created quantum state </li>\n",
    "    <li> Check whether the quantum state in result is valid </li>\n",
    "</ul>"
   ]
  },
  {
   "cell_type": "code",
   "execution_count": 2,
   "metadata": {},
   "outputs": [],
   "source": [
    "#\n",
    "# you may define your first function in a separate cell \n",
    "#\n",
    "\n",
    "# randomly creating a 2-dimensional quantum state\n",
    "from random import randrange\n",
    "def random_quantum_state():\n",
    "    first_entry = randrange(-100,101)\n",
    "    second_entry = randrange(-100,101)\n",
    "    length_square = first_entry**2+second_entry**2\n",
    "    while length_square == 0:\n",
    "        first_entry = randrange(-100,101)\n",
    "        second_entry = randrange(-100,101)\n",
    "        length_square = first_entry**2+second_entry**2\n",
    "    first_entry = first_entry / length_square**0.5\n",
    "    second_entry = second_entry / length_square**0.5\n",
    "    return [first_entry,second_entry]"
   ]
  },
  {
   "cell_type": "code",
   "execution_count": 3,
   "metadata": {},
   "outputs": [],
   "source": [
    "#\n",
    "# your code is here\n",
    "#\n",
    "# testing whether a given quantum state is valid\n",
    "def is_quantum_state(quantum_state):\n",
    "    length_square = 0\n",
    "    for i in range(len(quantum_state)):\n",
    "        length_square += quantum_state[i]**2\n",
    "    print(\"summation of entry squares is\",length_square)\n",
    "    # there might be precision problem\n",
    "    # the length may be very close to 1 but not exactly 1\n",
    "    # so we use the following trick\n",
    "    if (length_square - 1)**2 < 0.00000001: return True \n",
    "    return False # else"
   ]
  },
  {
   "cell_type": "code",
   "execution_count": 4,
   "metadata": {},
   "outputs": [],
   "source": [
    "# defining a function for Hadamard multiplication\n",
    "def hadamard(quantum_state):\n",
    "    result_quantum_state = [0,0] # define with zero entries\n",
    "    result_quantum_state[0] = (1/(2**0.5)) * quantum_state[0] + (1/(2**0.5)) * quantum_state[1]\n",
    "    result_quantum_state[1] = (1/(2**0.5)) * quantum_state[0] - (1/(2**0.5)) * quantum_state[1]\n",
    "    return result_quantum_state"
   ]
  },
  {
   "cell_type": "code",
   "execution_count": 5,
   "metadata": {},
   "outputs": [
    {
     "name": "stdout",
     "output_type": "stream",
     "text": [
      "[-0.9738412097417932, 0.2272296156064184] this is randomly picked quantum state\n",
      "summation of entry squares is 1.0\n",
      "Is it valid? True\n",
      "[-0.5279341211256219, -0.8492853252890438] this is new quantum state\n",
      "summation of entry squares is 0.9999999999999998\n",
      "Is it valid? True\n",
      "\n",
      "[-0.0854011413464358, -0.996346649041751] this is randomly picked quantum state\n",
      "summation of entry squares is 1.0\n",
      "Is it valid? True\n",
      "[-0.7649111981170508, 0.6441357457827795] this is new quantum state\n",
      "summation of entry squares is 0.9999999999999997\n",
      "Is it valid? True\n",
      "\n",
      "[0.8264194287194296, -0.5630549953912597] this is randomly picked quantum state\n",
      "summation of entry squares is 0.9999999999999999\n",
      "Is it valid? True\n",
      "[0.18622677672970128, 0.9825067875739413] this is new quantum state\n",
      "summation of entry squares is 0.9999999999999998\n",
      "Is it valid? True\n",
      "\n",
      "[-0.8240419241993676, 0.5665288228870652] this is randomly picked quantum state\n",
      "summation of entry squares is 1.0\n",
      "Is it valid? True\n",
      "[-0.18208926018230748, -0.9832820049844602] this is new quantum state\n",
      "summation of entry squares is 1.0\n",
      "Is it valid? True\n",
      "\n",
      "[-0.6712794326264723, 0.7412043735250632] this is randomly picked quantum state\n",
      "summation of entry squares is 0.9999999999999999\n",
      "Is it valid? True\n",
      "[0.04944439988346222, -0.9987768776459356] this is new quantum state\n",
      "summation of entry squares is 0.9999999999999999\n",
      "Is it valid? True\n",
      "\n",
      "[-0.8339322057265399, -0.5518669008484455] this is randomly picked quantum state\n",
      "summation of entry squares is 1.0\n",
      "Is it valid? True\n",
      "[-0.9799079456214311, -0.1994502898167515] this is new quantum state\n",
      "summation of entry squares is 0.9999999999999998\n",
      "Is it valid? True\n",
      "\n",
      "[-0.11043152607484653, -0.9938837346736188] this is randomly picked quantum state\n",
      "summation of entry squares is 0.9999999999999998\n",
      "Is it valid? True\n",
      "[-0.7808688094430302, 0.6246950475544241] this is new quantum state\n",
      "summation of entry squares is 0.9999999999999996\n",
      "Is it valid? True\n",
      "\n",
      "[0.4257970363298796, -0.9048187022009941] this is randomly picked quantum state\n",
      "summation of entry squares is 1.0000000000000002\n",
      "Is it valid? True\n",
      "[-0.33871946827274163, 0.9408874118687267] this is new quantum state\n",
      "summation of entry squares is 0.9999999999999998\n",
      "Is it valid? True\n",
      "\n",
      "[-0.30782028541466255, -0.9514445185544115] this is randomly picked quantum state\n",
      "summation of entry squares is 1.0000000000000002\n",
      "Is it valid? True\n",
      "[-0.8904346821960806, 0.4551110597891078] this is new quantum state\n",
      "summation of entry squares is 1.0\n",
      "Is it valid? True\n",
      "\n",
      "[0.723171047122516, -0.6906689775889198] this is randomly picked quantum state\n",
      "summation of entry squares is 1.0\n",
      "Is it valid? True\n",
      "[0.022982433769802524, 0.999735868986412] this is new quantum state\n",
      "summation of entry squares is 0.9999999999999996\n",
      "Is it valid? True\n",
      "\n"
     ]
    }
   ],
   "source": [
    "# we are ready\n",
    "for i in range(10):\n",
    "    picked_quantum_state=random_quantum_state()\n",
    "    print(picked_quantum_state,\"this is randomly picked quantum state\")\n",
    "    print(\"Is it valid?\",is_quantum_state(picked_quantum_state))\n",
    "    new_quantum_state = hadamard(picked_quantum_state)\n",
    "    print(new_quantum_state,\"this is new quantum state\")\n",
    "    print(\"Is it valid?\",is_quantum_state(new_quantum_state))\n",
    "    print() # print an empty line"
   ]
  },
  {
   "cell_type": "markdown",
   "metadata": {},
   "source": [
    "<a id=\"task3\"></a>\n",
    "<h3> Task 3 (extra)</h3>\n",
    "\n",
    "Let $ \\ket{u} =  \\myvector{x \\\\ y} \\in \\mathbb{R}^2 $ is a quantum state. \n",
    "\n",
    "Show that $ \\ket{u'} = H \\ket{u} $ is also a quantum state.\n",
    "\n",
    "_Hint: The length of $ \\ket{u'} $ must be 1, given that the length of $ \\ket{u} $ is 1._"
   ]
  }
 ],
 "metadata": {
  "kernelspec": {
   "display_name": "Python 3",
   "language": "python",
   "name": "python3"
  },
  "language_info": {
   "codemirror_mode": {
    "name": "ipython",
    "version": 3
   },
   "file_extension": ".py",
   "mimetype": "text/x-python",
   "name": "python",
   "nbconvert_exporter": "python",
   "pygments_lexer": "ipython3",
   "version": "3.8.3"
  }
 },
 "nbformat": 4,
 "nbformat_minor": 4
}
