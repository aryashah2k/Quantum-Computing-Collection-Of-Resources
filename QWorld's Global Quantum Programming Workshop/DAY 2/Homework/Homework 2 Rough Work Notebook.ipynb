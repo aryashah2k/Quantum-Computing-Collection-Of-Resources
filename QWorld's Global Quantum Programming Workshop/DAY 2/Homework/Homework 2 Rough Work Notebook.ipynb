{
 "cells": [
  {
   "cell_type": "code",
   "execution_count": 2,
   "metadata": {},
   "outputs": [],
   "source": [
    "from qiskit import *"
   ]
  },
  {
   "cell_type": "code",
   "execution_count": 8,
   "metadata": {},
   "outputs": [
    {
     "name": "stdout",
     "output_type": "stream",
     "text": [
      "     ┌───┐┌─┐       ┌─┐   \n",
      "q_0: ┤ X ├┤M├───────┤M├───\n",
      "     └───┘└╥┘ ┌───┐ └╥┘┌─┐\n",
      "q_1: ──────╫──┤ H ├──╫─┤M├\n",
      "           ║  └─┬─┘  ║ └╥┘\n",
      "           ║ ┌──┴──┐ ║  ║ \n",
      "c: 2/══════╩═╡ = 0 ╞═╩══╩═\n",
      "           0 └─────┘ 0  1 \n",
      "{'01': 1024}\n"
     ]
    }
   ],
   "source": [
    "q = QuantumRegister(2,\"q\")\n",
    "c = ClassicalRegister(2,\"c\")\n",
    "qc = QuantumCircuit(q,c)\n",
    "\n",
    "qc.x(q[0])\n",
    "\n",
    "qc.measure(q[0],c[0])\n",
    "\n",
    "qc.h(q[1]).c_if(c,0)\n",
    "\n",
    "qc.measure(q,c)\n",
    "\n",
    "print(qc)\n",
    "\n",
    "job = execute(qc,Aer.get_backend('qasm_simulator'),shots=1024)\n",
    "counts = job.result().get_counts(qc)\n",
    "print(counts) # counts is a dictionary"
   ]
  },
  {
   "cell_type": "code",
   "execution_count": 9,
   "metadata": {},
   "outputs": [
    {
     "name": "stdout",
     "output_type": "stream",
     "text": [
      "{'10': 100}\n"
     ]
    }
   ],
   "source": [
    "q2 = QuantumRegister(2,\"qreg\")\n",
    "c2 = ClassicalRegister(2,\"creg\")\n",
    "qc2 = QuantumCircuit(q2,c2)\n",
    "\n",
    "\n",
    "qc2.x(q2[1])\n",
    "qc2.z(q2[1])\n",
    "\n",
    "qc2.measure(q2,c2)\n",
    "job = execute(qc2,Aer.get_backend('qasm_simulator'),shots=100)\n",
    "counts = job.result().get_counts(qc2)\n",
    "print(counts) # counts is a dictionary"
   ]
  },
  {
   "cell_type": "code",
   "execution_count": 36,
   "metadata": {},
   "outputs": [
    {
     "name": "stdout",
     "output_type": "stream",
     "text": [
      "{'0': 260, '1': 740}\n"
     ]
    }
   ],
   "source": [
    "from math import pi\n",
    "\n",
    "q =  QuantumRegister(1) # quantum register with a single qubit\n",
    "c = ClassicalRegister(1) # classical register with a single bit\n",
    "qc = QuantumCircuit(q,c) # quantum circuit with quantum and classical registers\n",
    "\n",
    "# rotate the qubit with rotation_angle\n",
    "qc.ry(2*(pi/3),q[0])\n",
    "\n",
    "# measure the qubit\n",
    "qc.measure(q,c)\n",
    "job = execute(qc,Aer.get_backend('qasm_simulator'),shots=1000)\n",
    "counts = job.result().get_counts(qc)\n",
    "print(counts) # counts is a dictionary"
   ]
  },
  {
   "cell_type": "code",
   "execution_count": 34,
   "metadata": {},
   "outputs": [
    {
     "name": "stdout",
     "output_type": "stream",
     "text": [
      "{'0': 47, '1': 53}\n"
     ]
    }
   ],
   "source": [
    "q2 = QuantumRegister(1,\"qreg\")\n",
    "c2 = ClassicalRegister(1,\"creg\")\n",
    "qc2 = QuantumCircuit(q2,c2)\n",
    "\n",
    "#Your code here1\n",
    "qc2.x(q2[0])\n",
    "#Your code here2\n",
    "qc2.h(q2[0])\n",
    "qc2.measure(q2,c2)\n",
    "job = execute(qc2,Aer.get_backend('qasm_simulator'),shots=100)\n",
    "counts = job.result().get_counts(qc2)\n",
    "print(counts) # counts is a dictionary"
   ]
  },
  {
   "cell_type": "code",
   "execution_count": null,
   "metadata": {},
   "outputs": [],
   "source": []
  }
 ],
 "metadata": {
  "kernelspec": {
   "display_name": "Python 3",
   "language": "python",
   "name": "python3"
  },
  "language_info": {
   "codemirror_mode": {
    "name": "ipython",
    "version": 3
   },
   "file_extension": ".py",
   "mimetype": "text/x-python",
   "name": "python",
   "nbconvert_exporter": "python",
   "pygments_lexer": "ipython3",
   "version": "3.8.3"
  }
 },
 "nbformat": 4,
 "nbformat_minor": 4
}
