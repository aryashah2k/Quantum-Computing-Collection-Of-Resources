{
 "cells": [
  {
   "cell_type": "markdown",
   "metadata": {},
   "source": [
    "<h2>Entanglement and Superdense Coding</h2>\n",
    "\n",
    "[Watch Lecture](https://youtu.be/ZzRcItzUF2U)\n",
    "\n",
    "Asja has a qubit, initially set to $ \\ket{0} $.\n",
    "\n",
    "Balvis has a qubit, initially set to $ \\ket{0} $."
   ]
  },
  {
   "cell_type": "markdown",
   "metadata": {},
   "source": [
    "<h3> Entanglement </h3>\n",
    "    \n",
    "Asja applies Hadamard operator to her qubit. \n",
    "\n",
    "The quantum state of Asja's qubit is $ \\stateplus $.\n",
    "\n",
    "Then, Asja and Balvis combine their qubits. Their quantum state is\n",
    "\n",
    "$ \\stateplus \\otimes \\vzero = \\myvector{ \\frac{1}{\\sqrt{2}} \\\\ 0 \\\\ \\frac{1}{\\sqrt{2}} \\\\ 0 }  $.\n"
   ]
  },
  {
   "cell_type": "markdown",
   "metadata": {},
   "source": [
    "Asja and Balvis apply CNOT operator on two qubits.\n",
    "\n",
    "The new quantum state is\n",
    "\n",
    "$ \\CNOT \\myvector{ \\frac{1}{\\sqrt{2}} \\\\ 0 \\\\ \\frac{1}{\\sqrt{2}} \\\\ 0 }  = \\myvector{ \\frac{1}{\\sqrt{2}} \\\\ 0 \\\\0 \\\\ \\frac{1}{\\sqrt{2}} } = \\frac{1}{\\sqrt{2}}\\ket{00} + \\frac{1}{\\sqrt{2}}\\ket{11}  $.\n",
    "\n",
    "At this moment, Asja's and Balvis' qubits are correlated to each other.\n",
    "\n",
    "If we measure both qubits, we can observe either state $ \\ket{00} $ or state $ \\ket{11} $. \n",
    "\n",
    "Suppose that Asja observes her qubit secretly. \n",
    "<ul>\n",
    "    <li> When Asja sees the result $ \\ket{0} $, then Balvis' qubit also collapses to state $ \\ket{0} $. Balvis cannot observe state $ \\ket{1} $. </li>\n",
    "    <li> When Asja sees the result $ \\ket{1} $, then Balvis' qubit also collapses to state $ \\ket{1} $. Balvis cannot observe state $ \\ket{0} $. </li>\n",
    "</ul>\n",
    "    \n",
    "Experimental results have confirmed that this happens even if there is a physical distance between Asja's and Balvis' qubits. \n",
    "\n",
    "It seems correlated quantum particles can \"affect each other\" instantly, even if they are in the different part of the universe. \n",
    "\n",
    "If two qubits are correlated in this way, then we say that they are <b>entangled</b>.\n",
    "\n",
    "<i> <u>Technical note</u>: \n",
    "    \n",
    "If the quantum state of two qubits can be written as $ \\ket{u} \\otimes \\ket{v} $, then two qubits are not correlated, where $ \\ket{u} $ and $ \\ket{v} $ are the quantum states of the first and second qubits.\n",
    "\n",
    "On the other hand, if the quantum state of two qubits cannot be written as $ \\ket{u} \\otimes \\ket{v} $, then there is an entanglement between the qubits.\n",
    "</i>\n",
    "\n",
    "<b> Entangled qubits can be useful </b>"
   ]
  },
  {
   "cell_type": "markdown",
   "metadata": {},
   "source": [
    "<h3> Quantum communication </h3>\n",
    "\n",
    "After having the entanglement, Balvis takes his qubit and goes away.\n",
    "\n",
    "Asja will send two classical bits of information by only sending her qubit.\n",
    "\n",
    "<img src=\"../images/superdense_coding.png\">\n",
    "\n",
    "<font size=\"-2\">source: https://fi.m.wikipedia.org/wiki/Tiedosto:Superdense_coding.png </font>"
   ]
  },
  {
   "cell_type": "markdown",
   "metadata": {},
   "source": [
    "Now, we describe this protocol.\n",
    "\n",
    "Asja has two bits of classical information: $ a,b \\in \\{0,1\\} $. \n",
    "\n",
    "There are four possible values for the pair $ (a,b) $:  $ (0,0), (0,1), (1,0),\\mbox{ or } (1,1) $. \n",
    "\n",
    "If $a$ is 1, then Asja applies z-gate, i.e., $ Z = \\Z $, to her qubit.\n",
    "\n",
    "If $b$ is 1, then Asja applies x-gate (NOT operator) to her qubit.\n",
    "\n",
    "Then, Asja sends her qubit to Balvis."
   ]
  },
  {
   "cell_type": "markdown",
   "metadata": {},
   "source": [
    "<h3> After the communication </h3>\n",
    "\n",
    "Balvis has both qubits.\n",
    "\n",
    "Balvis applies cx-gate (CNOT operator), where Asja's qubit is the controller.\n",
    "\n",
    "Then, Balvis applies h-gate (Hadamard operator) to Asja's qubit.\n",
    "\n",
    "Balvis measures both qubits. \n",
    "\n",
    "The measurement result will be exactly $ (a,b) $."
   ]
  },
  {
   "cell_type": "markdown",
   "metadata": {},
   "source": [
    "<h3> Task 1</h3>\n",
    "\n",
    "Verify the correctness of the above protocol.\n",
    "\n",
    "For each pair of $ (a,b) \\in \\left\\{ (0,0), (0,1), (1,0),(1,1) \\right\\} $:\n",
    "- Create a quantum curcuit with two qubits: Asja's and Balvis' qubits\n",
    "- Both are initially set to $ \\ket{0} $\n",
    "- Apply h-gate (Hadamard) to Asja's qubit\n",
    "- Apply cx-gate as CNOT(Asja's-qubit,Balvis'-qubit)\n",
    "\n",
    "Assume that both qubits are separated from each other.\n",
    "\n",
    "<ul>\n",
    "    <li> If $ a $ is 1, then apply z-gate to Asja's qubit. </li>\n",
    "    <li> If $ b $ is 1, then apply x-gate (NOT) to Asja's qubit. </li>\n",
    "</ul>\n",
    "\n",
    "Assume that Asja sends her qubit to Balvis.\n",
    "- Apply cx-gate as CNOT(Asja's-qubit,Balvis'-qubit)\n",
    "- Apply h-gate (Hadamard) to Asja's qubit\n",
    "- Measure both qubits and compare the results with pair $ (a,b) $"
   ]
  },
  {
   "cell_type": "code",
   "execution_count": 1,
   "metadata": {},
   "outputs": [
    {
     "data": {
      "image/png": "[encoded data removed]",
      "text/plain": [
       "<Figure size 568.052x204.68 with 1 Axes>"
      ]
     },
     "metadata": {},
     "output_type": "display_data"
    },
    {
     "name": "stdout",
     "output_type": "stream",
     "text": [
      "00 --> {'00': 100}\n"
     ]
    },
    {
     "data": {
      "image/png": "[encoded data removed]",
      "text/plain": [
       "<Figure size 628.252x204.68 with 1 Axes>"
      ]
     },
     "metadata": {},
     "output_type": "display_data"
    },
    {
     "name": "stdout",
     "output_type": "stream",
     "text": [
      "01 --> {'01': 100}\n"
     ]
    },
    {
     "data": {
      "image/png": "[encoded data removed]",
      "text/plain": [
       "<Figure size 628.252x204.68 with 1 Axes>"
      ]
     },
     "metadata": {},
     "output_type": "display_data"
    },
    {
     "name": "stdout",
     "output_type": "stream",
     "text": [
      "10 --> {'10': 100}\n"
     ]
    },
    {
     "data": {
      "image/png": "[encoded data removed]",
      "text/plain": [
       "<Figure size 688.452x204.68 with 1 Axes>"
      ]
     },
     "metadata": {},
     "output_type": "display_data"
    },
    {
     "name": "stdout",
     "output_type": "stream",
     "text": [
      "11 --> {'11': 100}\n"
     ]
    }
   ],
   "source": [
    "# import all necessary objects and methods for quantum circuits\n",
    "from qiskit import QuantumRegister, ClassicalRegister, QuantumCircuit, execute, Aer\n",
    "\n",
    "all_pairs = ['00','01','10','11']\n",
    "\n",
    "#\n",
    "# your code is here\n",
    "#\n",
    "# import all necessary objects and methods for quantum circuits\n",
    "from qiskit import QuantumRegister, ClassicalRegister, QuantumCircuit, execute, Aer\n",
    "\n",
    "all_pairs = ['00','01','10','11']\n",
    "\n",
    "for pair in all_pairs:\n",
    "\n",
    "    # create a quantum curcuit with two qubits: Asja's and Balvis' qubits.\n",
    "    # both are initially set to |0>.\n",
    "    q = QuantumRegister(2,\"q\") # quantum register with 2 qubits\n",
    "    c = ClassicalRegister(2,\"c\") # classical register with 2 bits\n",
    "    qc = QuantumCircuit(q,c) # quantum circuit with quantum and classical registers\n",
    "\n",
    "    # apply h-gate (Hadamard) to the Asja's qubit\n",
    "    qc.h(q[1])\n",
    "\n",
    "    # apply cx-gate as CNOT(Asja's-qubit,Balvis'-qubit)\n",
    "    qc.cx(q[1],q[0])\n",
    "\n",
    "    # they are separated from each other now\n",
    "\n",
    "    # if a is 1, then apply z-gate to Asja's qubit\n",
    "    if pair[0]=='1': \n",
    "        qc.z(q[1])\n",
    "    \n",
    "    # if b is 1, then apply x-gate (NOT) to Asja's qubit\n",
    "    if pair[1]=='1': \n",
    "        qc.x(q[1])\n",
    "    \n",
    "    # Asja sends her qubit to Balvis\n",
    "    qc.barrier()\n",
    "    \n",
    "    #  apply cx-gate as CNOT(Asja's-qubit,Balvis'-qubit)\n",
    "    qc.cx(q[1],q[0])\n",
    "    \n",
    "    # apply h-gate (Hadamard) to the Asja's qubit\n",
    "    qc.h(q[1])\n",
    "    \n",
    "    # measure both qubits\n",
    "    qc.barrier()\n",
    "    qc.measure(q,c)\n",
    "    \n",
    "    # draw the circuit in Qiskit's reading order\n",
    "    display(qc.draw(output='mpl',reverse_bits=True))\n",
    "    \n",
    "    # compare the results with pair (a,b)\n",
    "    job = execute(qc,Aer.get_backend('qasm_simulator'),shots=100)\n",
    "    counts = job.result().get_counts(qc)\n",
    "    print(pair,\"-->\",counts)"
   ]
  },
  {
   "cell_type": "markdown",
   "metadata": {},
   "source": [
    "<h3> Task 2 </h3>\n",
    "\n",
    "Verify each case by tracing the state vector (on paper). \n",
    "\n",
    "_Hint: Representing quantum states as the linear combinations of basis states makes calculation easier._"
   ]
  },
  {
   "cell_type": "markdown",
   "metadata": {},
   "source": [
    "<h3> Task 3</h3>\n",
    "\n",
    "Can the above set-up be used by Balvis?\n",
    "\n",
    "Verify that the following modified protocol allows Balvis to send two classical bits by sending only his qubit.\n",
    "\n",
    "For each pair of $ (a,b) \\in \\left\\{ (0,0), (0,1), (1,0),(1,1) \\right\\} $:\n",
    "- Create a quantum curcuit with two qubits: Asja's and Balvis' qubits\n",
    "- Both are initially set to $ \\ket{0} $\n",
    "- Apply h-gate (Hadamard) to Asja's qubit\n",
    "- Apply cx-gate as CNOT(Asja's-qubit,Balvis'-qubit)\n",
    "\n",
    "Assume that both qubits are separated from each other.\n",
    "\n",
    "<ul>\n",
    "    <li> If $ a $ is 1, then apply z-gate to Balvis' qubit. </li>\n",
    "    <li> If $ b $ is 1, then apply x-gate (NOT) to Balvis' qubit. </li>\n",
    "</ul>\n",
    "\n",
    "Assume that Balvis sends his qubit to Asja.\n",
    "- Apply cx-gate as CNOT(Asja's-qubit,Balvis'-qubit)\n",
    "- Apply h-gate (Hadamard) to Asja's qubit\n",
    "- Measure both qubits and compare the results with pair $ (a,b) $"
   ]
  },
  {
   "cell_type": "code",
   "execution_count": 2,
   "metadata": {},
   "outputs": [
    {
     "data": {
      "image/png": "[encoded data removed]",
      "text/plain": [
       "<Figure size 568.052x204.68 with 1 Axes>"
      ]
     },
     "metadata": {},
     "output_type": "display_data"
    },
    {
     "name": "stdout",
     "output_type": "stream",
     "text": [
      "00 --> {'00': 100}\n"
     ]
    },
    {
     "data": {
      "image/png": "[encoded data removed]",
      "text/plain": [
       "<Figure size 628.252x204.68 with 1 Axes>"
      ]
     },
     "metadata": {},
     "output_type": "display_data"
    },
    {
     "name": "stdout",
     "output_type": "stream",
     "text": [
      "01 --> {'01': 100}\n"
     ]
    },
    {
     "data": {
      "image/png": "[encoded data removed]",
      "text/plain": [
       "<Figure size 628.252x204.68 with 1 Axes>"
      ]
     },
     "metadata": {},
     "output_type": "display_data"
    },
    {
     "name": "stdout",
     "output_type": "stream",
     "text": [
      "10 --> {'10': 100}\n"
     ]
    },
    {
     "data": {
      "image/png": "[encoded data removed]",
      "text/plain": [
       "<Figure size 688.452x204.68 with 1 Axes>"
      ]
     },
     "metadata": {},
     "output_type": "display_data"
    },
    {
     "name": "stdout",
     "output_type": "stream",
     "text": [
      "11 --> {'11': 100}\n"
     ]
    }
   ],
   "source": [
    "# import all necessary objects and methods for quantum circuits\n",
    "from qiskit import QuantumRegister, ClassicalRegister, QuantumCircuit, execute, Aer\n",
    "\n",
    "all_pairs = ['00','01','10','11']\n",
    "\n",
    "#\n",
    "# your code is here\n",
    "#\n",
    "# import all necessary objects and methods for quantum circuits\n",
    "from qiskit import QuantumRegister, ClassicalRegister, QuantumCircuit, execute, Aer\n",
    "\n",
    "all_pairs = ['00','01','10','11']\n",
    "\n",
    "for pair in all_pairs:\n",
    "\n",
    "    # create a quantum curcuit with two qubits: Asja's and Balvis' qubits.\n",
    "    # both are initially set to |0>.\n",
    "    q = QuantumRegister(2,\"q\") # quantum register with 2 qubits\n",
    "    c = ClassicalRegister(2,\"c\") # classical register with 2 bits\n",
    "    qc = QuantumCircuit(q,c) # quantum circuit with quantum and classical registers\n",
    "\n",
    "    # apply h-gate (Hadamard) to the Asja's qubit\n",
    "    qc.h(q[1])\n",
    "\n",
    "    # apply cx-gate as CNOT(Asja's-qubit,Balvis'-qubit)\n",
    "    qc.cx(q[1],q[0])\n",
    "\n",
    "    # they are separated from each other now\n",
    "\n",
    "    # if a is 1, then apply z-gate to Balvis' qubit\n",
    "    if pair[0]=='1': \n",
    "        qc.z(q[0])\n",
    "    \n",
    "    # if b is 1, then apply x-gate (NOT) to Balvis' qubit\n",
    "    if pair[1]=='1': \n",
    "        qc.x(q[0])\n",
    "    \n",
    "    # Balvis sends his qubit to Asja\n",
    "    qc.barrier()\n",
    "    \n",
    "    #  apply cx-gate as CNOT(Asja's-qubit,Balvis'-qubit)\n",
    "    qc.cx(q[1],q[0])\n",
    "    \n",
    "    # apply h-gate (Hadamard) to the Asja's qubit\n",
    "    qc.h(q[1])\n",
    "    \n",
    "    # measure both qubits\n",
    "    qc.barrier()\n",
    "    qc.measure(q,c)\n",
    "    \n",
    "    # draw the circuit in Qiskit's reading order\n",
    "    display(qc.draw(output='mpl',reverse_bits=True))\n",
    "    \n",
    "    # compare the results with pair (a,b)\n",
    "    job = execute(qc,Aer.get_backend('qasm_simulator'),shots=100)\n",
    "    counts = job.result().get_counts(qc)\n",
    "    print(pair,\"-->\",counts)"
   ]
  },
  {
   "cell_type": "markdown",
   "metadata": {},
   "source": [
    "<h3> Task 4 </h3>\n",
    "\n",
    "Verify each case by tracing the state vector (on paper). \n",
    "\n",
    "_Hint: Representing quantum states as the linear combinations of basis states makes calculation easier._"
   ]
  }
 ],
 "metadata": {
  "kernelspec": {
   "display_name": "Python 3",
   "language": "python",
   "name": "python3"
  },
  "language_info": {
   "codemirror_mode": {
    "name": "ipython",
    "version": 3
   },
   "file_extension": ".py",
   "mimetype": "text/x-python",
   "name": "python",
   "nbconvert_exporter": "python",
   "pygments_lexer": "ipython3",
   "version": "3.8.3"
  }
 },
 "nbformat": 4,
 "nbformat_minor": 4
}
