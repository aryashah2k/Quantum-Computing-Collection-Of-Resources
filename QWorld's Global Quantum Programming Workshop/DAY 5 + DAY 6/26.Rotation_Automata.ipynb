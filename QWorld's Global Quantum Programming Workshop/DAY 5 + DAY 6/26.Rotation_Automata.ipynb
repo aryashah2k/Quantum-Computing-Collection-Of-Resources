{
 "cells": [
  {
   "cell_type": "markdown",
   "metadata": {},
   "source": [
    "<h2>Rotation Automata</h2>"
   ]
  },
  {
   "cell_type": "markdown",
   "metadata": {},
   "source": [
    "A rotation automaton is a decider. It makes decisions on the stream of symbols. We focus on the streams composed by symbol $ a $'s. So, the decisions will be basically about the lengths of streams.\n",
    "\n",
    "We start with rotation automata having single qubits that are initialized to $ \\ket{0} $.\n",
    "\n",
    "We fix a rotation angle, and we apply this rotation for each symbol. \n",
    "\n",
    "After reading the stream, we make a measurement. If the outcome is '0', then we give one answer, and, if the outcome is '1', then we give another answer.  \n",
    "\n",
    "Our aim is to make correct decisions on the streams as good as possible."
   ]
  },
  {
   "cell_type": "markdown",
   "metadata": {},
   "source": [
    "<h3> A trivial promise problem </h3>\n",
    "\n",
    "The number of $a$'s is a multiple of $ 8 $.\n",
    "\n",
    "For each symbol $a$, we apply the rotation with angle $ \\pi/16 $.\n",
    "\n",
    "In this way, we can exactly (zero-error) separate the streams having even multiples of $ 8 $ $a$'s from the streams having odd multiples of $ 8 $ $a$'s."
   ]
  },
  {
   "cell_type": "code",
   "execution_count": 1,
   "metadata": {},
   "outputs": [
    {
     "name": "stdout",
     "output_type": "stream",
     "text": [
      "8 is odd multiple of 8\n",
      "stream of lenght 8 -> {'1': 100}\n",
      "\n",
      "16 is even multiple of 8\n",
      "stream of lenght 16 -> {'0': 100}\n",
      "\n",
      "24 is odd multiple of 8\n",
      "stream of lenght 24 -> {'1': 100}\n",
      "\n",
      "32 is even multiple of 8\n",
      "stream of lenght 32 -> {'0': 100}\n",
      "\n",
      "40 is odd multiple of 8\n",
      "stream of lenght 40 -> {'1': 100}\n",
      "\n",
      "48 is even multiple of 8\n",
      "stream of lenght 48 -> {'0': 100}\n",
      "\n",
      "56 is odd multiple of 8\n",
      "stream of lenght 56 -> {'1': 100}\n",
      "\n",
      "64 is even multiple of 8\n",
      "stream of lenght 64 -> {'0': 100}\n",
      "\n"
     ]
    }
   ],
   "source": [
    "from qiskit import QuantumRegister, ClassicalRegister, QuantumCircuit, execute, Aer\n",
    "from math import pi\n",
    "\n",
    "# the angle of rotation\n",
    "theta = pi/16\n",
    "\n",
    "# we read streams of length 8, 16, 24, 32, 40, 48, 56, 64\n",
    "for i in [8, 16, 24, 32, 40, 48, 56, 64]:\n",
    "    # quantum circuit with one qubit and one bit\n",
    "    qreg =  QuantumRegister(1) \n",
    "    creg = ClassicalRegister(1) \n",
    "    mycircuit = QuantumCircuit(qreg,creg)\n",
    "    # the stream of length i\n",
    "    for j in range(i):\n",
    "        mycircuit.ry(2*theta,qreg[0]) # apply one rotation for each symbol\n",
    "    # we measure after reading the whole stream\n",
    "    mycircuit.measure(qreg[0],creg[0])\n",
    "    # execute the circuit 100 times\n",
    "    job = execute(mycircuit,Aer.get_backend('qasm_simulator'),shots=100)\n",
    "    counts = job.result().get_counts(mycircuit)\n",
    "    d = i /8\n",
    "    if d % 2 == 0: print(i,\"is even multiple of 8\")\n",
    "    else: print(i,\"is odd multiple of 8\")\n",
    "    print(\"stream of lenght\",i,\"->\",counts)\n",
    "    print()\n",
    "    \n"
   ]
  },
  {
   "cell_type": "markdown",
   "metadata": {},
   "source": [
    "<b> Remark:</b> For the same problem, we need at least 4 classical bits. \n",
    "\n",
    "When changing the parameter $2^3$ to $ 2^k $, we can still use a single qubit. On the other hand, we need at least $ (k+1) $ classical bits."
   ]
  },
  {
   "cell_type": "markdown",
   "metadata": {},
   "source": [
    "<h3>Task 1</h3>\n",
    "\n",
    "Do the same task given above by using different angles.\n",
    "\n",
    "Test at least three different angles. \n",
    "\n",
    "Please modify the code above."
   ]
  },
  {
   "cell_type": "markdown",
   "metadata": {},
   "source": [
    "<h3>Solution</h3>"
   ]
  },
  {
   "cell_type": "markdown",
   "metadata": {},
   "source": [
    "Any odd multiple of $ \\frac{\\pi}{16} $ works: $ i \\frac{\\pi}{16} $, where $ i \\in \\{1,3,5,7,\\ldots\\} $"
   ]
  },
  {
   "cell_type": "markdown",
   "metadata": {},
   "source": [
    "<h3>$ \\mathsf{MOD_p} $</h3>\n",
    "\n",
    "Now, we consider a more general problem called $ \\mathsf{MOD_p} $, where $\\sf p$ is a prime number.\n",
    "\n",
    "We will read a stream of symbols $a$. The number of $a$'s can be arbitrary.\n",
    "\n",
    "For each symbol, we apply a rotation.\n",
    "\n",
    "Our aim is to separate the streams whose length is a multiple of $ \\sf p $ from the other streams. \n",
    "\n",
    "<b>We design a good decider step by step.</b>\n",
    "\n",
    "<i>Remark that each $ p $ defines a different problem.</i>"
   ]
  },
  {
   "cell_type": "markdown",
   "metadata": {},
   "source": [
    "<h3>Task 2</h3>\n",
    "\n",
    "Let $ \\mathsf{p} = 11 $.\n",
    "\n",
    "Determine an angle of rotation such that when the length of stream is a multiple of $ \\sf p $, then we observe only state $ 0 $, and we can also observe state $ 1 $, otherwise.\n",
    "\n",
    "Test your rotation by using a quantum circuit. Execute the circuit for all streams of lengths from 1 to 11."
   ]
  },
  {
   "cell_type": "markdown",
   "metadata": {},
   "source": [
    "<h3>Solution</h3>"
   ]
  },
  {
   "cell_type": "markdown",
   "metadata": {},
   "source": [
    "We can pick any angle $ k\\frac{2\\pi}{11} $ for $ k \\in \\{1,\\ldots,10\\} $."
   ]
  },
  {
   "cell_type": "code",
   "execution_count": 2,
   "metadata": {},
   "outputs": [
    {
     "name": "stdout",
     "output_type": "stream",
     "text": [
      "the picked angle is 6 times of 2pi/11\n",
      "\n",
      "stream of lenght 1 -> {'0': 934, '1': 66}\n",
      "stream of lenght 2 -> {'0': 674, '1': 326}\n",
      "stream of lenght 3 -> {'0': 412, '1': 588}\n",
      "stream of lenght 4 -> {'0': 167, '1': 833}\n",
      "stream of lenght 5 -> {'0': 25, '1': 975}\n",
      "stream of lenght 6 -> {'0': 23, '1': 977}\n",
      "stream of lenght 7 -> {'0': 180, '1': 820}\n",
      "stream of lenght 8 -> {'0': 414, '1': 586}\n",
      "stream of lenght 9 -> {'0': 684, '1': 316}\n",
      "stream of lenght 10 -> {'0': 929, '1': 71}\n",
      "stream of lenght 11 -> {'0': 1000}\n"
     ]
    }
   ],
   "source": [
    "from qiskit import QuantumRegister, ClassicalRegister, QuantumCircuit, execute, Aer\n",
    "from math import pi\n",
    "from random import randrange\n",
    "\n",
    "# the angle of rotation\n",
    "r = randrange(1,11)\n",
    "print(\"the picked angle is\",r,\"times of 2pi/11\")\n",
    "print()  \n",
    "theta = r*2*pi/11\n",
    "\n",
    "# we read streams of length from 1 to 11\n",
    "for i in range(1,12):\n",
    "    # quantum circuit with one qubit and one bit\n",
    "    qreg =  QuantumRegister(1) \n",
    "    creg = ClassicalRegister(1) \n",
    "    mycircuit = QuantumCircuit(qreg,creg)\n",
    "    # the stream of length i\n",
    "    for j in range(i):\n",
    "        mycircuit.ry(2*theta,qreg[0]) # apply one rotation for each symbol\n",
    "    # we measure after reading the whole stream\n",
    "    mycircuit.measure(qreg[0],creg[0])\n",
    "    # execute the circuit 1000 times\n",
    "    job = execute(mycircuit,Aer.get_backend('qasm_simulator'),shots=1000)\n",
    "    counts = job.result().get_counts(mycircuit)\n",
    "    print(\"stream of lenght\",i,\"->\",counts)"
   ]
  },
  {
   "cell_type": "markdown",
   "metadata": {},
   "source": [
    "<h3> Observation</h3>\n",
    "\n",
    "For some streams of lengths from 1 to 10, we observe state $\\ket{1}$ only for a few times.\n",
    "\n",
    "This is definitely not desirable if we wish to distinguish the lengths that are multiple of $\\sf p$ from the rest with high probability."
   ]
  },
  {
   "cell_type": "markdown",
   "metadata": {},
   "source": [
    "<h3>Task 3</h3>\n",
    "\n",
    "List down 10 possible different angles for Task 2, where each angle should be between 0 and $2\\pi$."
   ]
  },
  {
   "cell_type": "markdown",
   "metadata": {},
   "source": [
    "<h3>Solution</h3>"
   ]
  },
  {
   "cell_type": "markdown",
   "metadata": {},
   "source": [
    "Any angle $ k\\frac{2\\pi}{11} $ for $ k \\in \\{1,\\ldots,10\\} $."
   ]
  },
  {
   "cell_type": "markdown",
   "metadata": {},
   "source": [
    "<h3>Task 4</h3>\n",
    "\n",
    "For each stream of length from 1 to 10, determine the best angle of rotation by using your circuit."
   ]
  },
  {
   "cell_type": "markdown",
   "metadata": {},
   "source": [
    "<h3>Solution</h3>"
   ]
  },
  {
   "cell_type": "code",
   "execution_count": 3,
   "metadata": {},
   "outputs": [
    {
     "name": "stdout",
     "output_type": "stream",
     "text": [
      "length 1-> 1:2940  2:8319  3:9796  4:5735  5:798  6:761  7:5668  8:9818  9:8340  10:2856  \n",
      "for length 1 , the best k is 8\n",
      "\n",
      "length 2-> 1:8253  2:5595  3:782  4:9795  5:2836  6:2944  7:9779  8:798  9:5752  10:8294  \n",
      "for length 2 , the best k is 4\n",
      "\n",
      "length 3-> 1:9782  2:791  3:8278  4:2928  5:5722  6:5700  7:2971  8:8260  9:775  10:9818  \n",
      "for length 3 , the best k is 10\n",
      "\n",
      "length 4-> 1:5652  2:9812  3:2942  4:776  5:8306  6:8322  7:781  8:2869  9:9782  10:5795  \n",
      "for length 4 , the best k is 2\n",
      "\n",
      "length 5-> 1:803  2:2966  3:5808  4:8285  5:9791  6:9787  7:8219  8:5781  9:2922  10:811  \n",
      "for length 5 , the best k is 5\n",
      "\n",
      "length 6-> 1:805  2:2973  3:5761  4:8216  5:9766  6:9808  7:8260  8:5709  9:2898  10:792  \n",
      "for length 6 , the best k is 6\n",
      "\n",
      "length 7-> 1:5687  2:9822  3:2874  4:801  5:8272  6:8268  7:787  8:2967  9:9791  10:5702  \n",
      "for length 7 , the best k is 2\n",
      "\n",
      "length 8-> 1:9815  2:760  3:8283  4:2926  5:5688  6:5679  7:2926  8:8285  9:812  10:9822  \n",
      "for length 8 , the best k is 10\n",
      "\n",
      "length 9-> 1:8263  2:5721  3:762  4:9815  5:2895  6:2980  7:9814  8:833  9:5722  10:8354  \n",
      "for length 9 , the best k is 4\n",
      "\n",
      "length 10-> 1:2879  2:8280  3:9797  4:5660  5:793  6:861  7:5614  8:9795  9:8272  10:2940  \n",
      "for length 10 , the best k is 3\n",
      "\n"
     ]
    }
   ],
   "source": [
    "from qiskit import QuantumRegister, ClassicalRegister, QuantumCircuit, execute, Aer\n",
    "from math import pi\n",
    "from random import randrange\n",
    "\n",
    "# for each stream of length from 1 to 10\n",
    "for i in range(1,11):\n",
    "    # we try each angle of the form k*2*pi/11 for k=1,...,10\n",
    "    # we try to find the best k for which we observe 1 the most\n",
    "    number_of_one_state = 0\n",
    "    best_k = 1\n",
    "    all_outcomes_for_i = \"length \"+str(i)+\"-> \"\n",
    "    for k in range(1,11):\n",
    "        theta = k*2*pi/11\n",
    "        # quantum circuit with one qubit and one bit\n",
    "        qreg =  QuantumRegister(1) \n",
    "        creg = ClassicalRegister(1) \n",
    "        mycircuit = QuantumCircuit(qreg,creg)\n",
    "        # the stream of length i\n",
    "        for j in range(i):\n",
    "            mycircuit.ry(2*theta,qreg[0]) # apply one rotation for each symbol\n",
    "            # we measure after reading the whole stream\n",
    "        mycircuit.measure(qreg[0],creg[0])\n",
    "        # execute the circuit 10000 times\n",
    "        job = execute(mycircuit,Aer.get_backend('qasm_simulator'),shots=10000)\n",
    "        counts = job.result().get_counts(mycircuit)\n",
    "        all_outcomes_for_i = all_outcomes_for_i + str(k)+ \":\" + str(counts['1']) + \"  \"\n",
    "        if int(counts['1']) > number_of_one_state:\n",
    "            number_of_one_state = counts['1']\n",
    "            best_k = k\n",
    "    print(all_outcomes_for_i)\n",
    "    print(\"for length\",i,\", the best k is\",best_k)\n",
    "    print()"
   ]
  },
  {
   "cell_type": "markdown",
   "metadata": {},
   "source": [
    "<h3> Random strategy for $ \\mathsf{MOD_p} $</h3>"
   ]
  },
  {
   "cell_type": "markdown",
   "metadata": {},
   "source": [
    "For different length of streams that are not multiple of $\\sf p$, different angles $ \\big( k\\frac{2\\pi}{p} \\big) $ work better.\n",
    "\n",
    "We can use more than one rotation automaton, each of which uses different $ k $ for its angle of rotation. \n",
    "\n",
    "In this way, we can get better results, i.e., we can distinguish the lengths not multiple of $\\sf p$ with better probabilities, i.e., we observe state $ \\ket{1} $ more than half times for example."
   ]
  },
  {
   "cell_type": "markdown",
   "metadata": {},
   "source": [
    "<h3>Task 5</h3>\n",
    "\n",
    "Let $ \\mathsf{p} = 31 $.\n",
    "\n",
    "Create a circuit with three quantum bits and three classical bits.\n",
    "\n",
    "Rotate the qubits with angles $ 3\\cdot \\frac{2\\pi}{31} $, $ 7\\cdot\\frac{2\\pi}{31} $, and $ 11\\cdot\\frac{2\\pi}{31} $, respectively.\n",
    "\n",
    "Execute your circuit for all streams of lengths from 1 to 30. Check whether the number of state $ \\ket{000} $ is less than half or not.\n",
    "\n",
    "<i>Note that whether a key is in dictionary or not can be checked as follows:</i>\n",
    "\n",
    "    if '000' in counts.keys():\n",
    "        c = counts['000']\n",
    "    else:\n",
    "        c = 0"
   ]
  },
  {
   "cell_type": "markdown",
   "metadata": {},
   "source": [
    "<h3>Solution</h3>"
   ]
  },
  {
   "cell_type": "code",
   "execution_count": 4,
   "metadata": {},
   "outputs": [
    {
     "name": "stdout",
     "output_type": "stream",
     "text": [
      "{'000': 4, '001': 5, '010': 260, '011': 126, '100': 6, '101': 2, '110': 401, '111': 196}\n",
      "000 is observed 4 times out of 1000\n",
      "the ratio of 000 is  0.4 %\n",
      "\n",
      "{'000': 7, '001': 46, '011': 4, '100': 112, '101': 731, '110': 13, '111': 87}\n",
      "000 is observed 7 times out of 1000\n",
      "the ratio of 000 is  0.7 %\n",
      "\n",
      "{'000': 8, '001': 140, '010': 35, '011': 674, '100': 1, '101': 26, '110': 5, '111': 111}\n",
      "000 is observed 8 times out of 1000\n",
      "the ratio of 000 is  0.8 %\n",
      "\n",
      "{'000': 281, '001': 241, '010': 144, '011': 118, '100': 88, '101': 60, '110': 39, '111': 29}\n",
      "000 is observed 281 times out of 1000\n",
      "the ratio of 000 is  28.1 %\n",
      "\n",
      "{'000': 9, '010': 11, '100': 467, '101': 3, '110': 505, '111': 5}\n",
      "000 is observed 9 times out of 1000\n",
      "the ratio of 000 is  0.9 %\n",
      "\n",
      "{'000': 121, '001': 45, '010': 234, '011': 70, '100': 148, '101': 52, '110': 252, '111': 78}\n",
      "000 is observed 121 times out of 1000\n",
      "the ratio of 000 is  12.1 %\n",
      "\n",
      "{'000': 166, '001': 588, '010': 50, '011': 183, '100': 1, '101': 6, '110': 1, '111': 5}\n",
      "000 is observed 166 times out of 1000\n",
      "the ratio of 000 is  16.6 %\n",
      "\n",
      "{'000': 3, '001': 26, '010': 4, '011': 255, '100': 2, '101': 96, '110': 12, '111': 602}\n",
      "000 is observed 3 times out of 1000\n",
      "the ratio of 000 is  0.3 %\n",
      "\n",
      "{'000': 64, '001': 57, '010': 5, '011': 1, '100': 371, '101': 461, '110': 16, '111': 25}\n",
      "000 is observed 64 times out of 1000\n",
      "the ratio of 000 is  6.4 %\n",
      "\n",
      "{'000': 2, '010': 865, '011': 37, '110': 91, '111': 5}\n",
      "000 is observed 2 times out of 1000\n",
      "the ratio of 000 is  0.2 %\n",
      "\n",
      "{'000': 559, '001': 99, '010': 4, '100': 281, '101': 50, '110': 5, '111': 2}\n",
      "000 is observed 559 times out of 1000\n",
      "the ratio of 000 is  55.9 %\n",
      "\n",
      "{'011': 2, '100': 12, '101': 48, '110': 263, '111': 675}\n",
      "000 is observed 0 times out of 1000\n",
      "the ratio of 000 is  0.0 %\n",
      "\n",
      "{'000': 1, '001': 495, '011': 77, '101': 364, '110': 1, '111': 62}\n",
      "000 is observed 1 times out of 1000\n",
      "the ratio of 000 is  0.1 %\n",
      "\n",
      "{'000': 104, '001': 157, '010': 277, '011': 421, '100': 1, '101': 10, '110': 7, '111': 23}\n",
      "000 is observed 104 times out of 1000\n",
      "the ratio of 000 is  10.4 %\n",
      "\n",
      "{'000': 103, '001': 8, '010': 80, '011': 11, '100': 416, '101': 45, '110': 304, '111': 33}\n",
      "000 is observed 103 times out of 1000\n",
      "the ratio of 000 is  10.3 %\n",
      "\n",
      "{'000': 90, '001': 12, '010': 74, '011': 7, '100': 416, '101': 45, '110': 325, '111': 31}\n",
      "000 is observed 90 times out of 1000\n",
      "the ratio of 000 is  9.0 %\n",
      "\n",
      "{'000': 102, '001': 142, '010': 280, '011': 442, '100': 4, '101': 4, '110': 15, '111': 11}\n",
      "000 is observed 102 times out of 1000\n",
      "the ratio of 000 is  10.2 %\n",
      "\n",
      "{'001': 448, '011': 106, '101': 384, '111': 62}\n",
      "000 is observed 0 times out of 1000\n",
      "the ratio of 000 is  0.0 %\n",
      "\n",
      "{'100': 13, '101': 39, '110': 267, '111': 681}\n",
      "000 is observed 0 times out of 1000\n",
      "the ratio of 000 is  0.0 %\n",
      "\n",
      "{'000': 563, '001': 106, '010': 7, '100': 278, '101': 43, '110': 3}\n",
      "000 is observed 563 times out of 1000\n",
      "the ratio of 000 is  56.3 %\n",
      "\n",
      "{'000': 4, '010': 877, '011': 34, '110': 78, '111': 7}\n",
      "000 is observed 4 times out of 1000\n",
      "the ratio of 000 is  0.4 %\n",
      "\n",
      "{'000': 53, '001': 47, '011': 1, '100': 412, '101': 445, '110': 17, '111': 25}\n",
      "000 is observed 53 times out of 1000\n",
      "the ratio of 000 is  5.3 %\n",
      "\n",
      "{'000': 1, '001': 35, '010': 3, '011': 243, '100': 2, '101': 86, '110': 11, '111': 619}\n",
      "000 is observed 1 times out of 1000\n",
      "the ratio of 000 is  0.1 %\n",
      "\n",
      "{'000': 143, '001': 600, '010': 50, '011': 200, '101': 5, '110': 2}\n",
      "000 is observed 143 times out of 1000\n",
      "the ratio of 000 is  14.3 %\n",
      "\n",
      "{'000': 132, '001': 44, '010': 236, '011': 71, '100': 141, '101': 47, '110': 239, '111': 90}\n",
      "000 is observed 132 times out of 1000\n",
      "the ratio of 000 is  13.2 %\n",
      "\n",
      "{'000': 10, '010': 14, '011': 1, '100': 456, '101': 5, '110': 508, '111': 6}\n",
      "000 is observed 10 times out of 1000\n",
      "the ratio of 000 is  1.0 %\n",
      "\n",
      "{'000': 294, '001': 234, '010': 132, '011': 101, '100': 87, '101': 78, '110': 36, '111': 38}\n",
      "000 is observed 294 times out of 1000\n",
      "the ratio of 000 is  29.4 %\n",
      "\n",
      "{'000': 10, '001': 149, '010': 45, '011': 660, '100': 1, '101': 17, '110': 6, '111': 112}\n",
      "000 is observed 10 times out of 1000\n",
      "the ratio of 000 is  1.0 %\n",
      "\n",
      "{'000': 8, '001': 51, '010': 1, '011': 4, '100': 98, '101': 759, '110': 8, '111': 71}\n",
      "000 is observed 8 times out of 1000\n",
      "the ratio of 000 is  0.8 %\n",
      "\n",
      "{'000': 3, '001': 2, '010': 245, '011': 110, '100': 11, '101': 3, '110': 426, '111': 200}\n",
      "000 is observed 3 times out of 1000\n",
      "the ratio of 000 is  0.3 %\n",
      "\n"
     ]
    }
   ],
   "source": [
    "from qiskit import QuantumRegister, ClassicalRegister, QuantumCircuit, execute, Aer\n",
    "from math import pi\n",
    "from random import randrange\n",
    "\n",
    "# the angles of rotations\n",
    "theta1 = 3*2*pi/31\n",
    "theta2 = 7*2*pi/31\n",
    "theta3 = 11*2*pi/31\n",
    "\n",
    "# we read streams of length from 1 to 30\n",
    "for i in range(1,31):\n",
    "    # quantum circuit with three qubits and three bits\n",
    "    qreg =  QuantumRegister(3) \n",
    "    creg = ClassicalRegister(3) \n",
    "    mycircuit = QuantumCircuit(qreg,creg)\n",
    "    # the stream of length i\n",
    "    for j in range(i):\n",
    "        # apply rotations for each symbol\n",
    "        mycircuit.ry(2*theta1,qreg[0]) \n",
    "        mycircuit.ry(2*theta2,qreg[1]) \n",
    "        mycircuit.ry(2*theta3,qreg[2]) \n",
    "    # we measure after reading the whole stream\n",
    "    mycircuit.measure(qreg,creg)\n",
    "    # execute the circuit N times\n",
    "    N = 1000\n",
    "    job = execute(mycircuit,Aer.get_backend('qasm_simulator'),shots=N)\n",
    "    counts = job.result().get_counts(mycircuit)\n",
    "    print(counts)\n",
    "    if '000' in counts.keys():\n",
    "        c = counts['000']\n",
    "    else:\n",
    "        c = 0\n",
    "    print('000 is observed',c,'times out of',N)\n",
    "    percentange = round(c/N*100,1)\n",
    "    print(\"the ratio of 000 is \",percentange,\"%\")\n",
    "    print()"
   ]
  },
  {
   "cell_type": "markdown",
   "metadata": {},
   "source": [
    "<h3>Task 6</h3>\n",
    "\n",
    "Let $ \\mathsf{p} = 31 $.\n",
    "\n",
    "Create a circuit with three quantum bits and three classical bits.\n",
    "\n",
    "Rotate the qubits with random angles of the form $ k\\frac{2\\pi}{31} $, where $ k \n",
    "\\in \\{1,\\ldots,30\\}.$\n",
    "\n",
    "Execute your circuit for all streams of lengths from 1 to 30.\n",
    "\n",
    "Calculate the maximum percentage of observing the state $ \\ket{000} $.\n",
    "\n",
    "Repeat this task for a few times.\n",
    "\n",
    "<i>Note that whether a key is in dictionary or not can be checked as follows:</i>\n",
    "\n",
    "    if '000' in counts.keys():\n",
    "        c = counts['000']\n",
    "    else:\n",
    "        c = 0"
   ]
  },
  {
   "cell_type": "markdown",
   "metadata": {},
   "source": [
    "<h3>Solution</h3>"
   ]
  },
  {
   "cell_type": "code",
   "execution_count": 5,
   "metadata": {},
   "outputs": [
    {
     "name": "stdout",
     "output_type": "stream",
     "text": [
      "k1 = 25 k2 = 2 k3 = 12\n",
      "\n",
      "max percentage is 79.0\n"
     ]
    }
   ],
   "source": [
    "from qiskit import QuantumRegister, ClassicalRegister, QuantumCircuit, execute, Aer\n",
    "from math import pi\n",
    "from random import randrange\n",
    "\n",
    "# randomly picked angles of rotations \n",
    "k1 = randrange(1,31)\n",
    "theta1 = k1*2*pi/31\n",
    "k2 = randrange(1,31)\n",
    "theta2 = k2*2*pi/31\n",
    "k3 = randrange(1,31)\n",
    "theta3 = k3*2*pi/31\n",
    "print(\"k1 =\",k1,\"k2 =\",k2,\"k3 =\",k3)\n",
    "print()\n",
    "\n",
    "max_percentange = 0\n",
    "# we read streams of length from 1 to 30\n",
    "for i in range(1,31):\n",
    "    k1 = randrange(1,31)\n",
    "    theta1 = k1*2*pi/31\n",
    "    k2 = randrange(1,31)\n",
    "    theta2 = k2*2*pi/31\n",
    "    k3 = randrange(1,31)\n",
    "    theta3 = k3*2*pi/31\n",
    "    # quantum circuit with three qubits and three bits\n",
    "    qreg =  QuantumRegister(3) \n",
    "    creg = ClassicalRegister(3) \n",
    "    mycircuit = QuantumCircuit(qreg,creg)\n",
    "    # the stream of length i\n",
    "    for j in range(i):\n",
    "        # apply rotations for each symbol\n",
    "        mycircuit.ry(2*theta1,qreg[0]) \n",
    "        mycircuit.ry(2*theta2,qreg[1]) \n",
    "        mycircuit.ry(2*theta3,qreg[2]) \n",
    "    # we measure after reading the whole stream\n",
    "    mycircuit.measure(qreg,creg)\n",
    "    # execute the circuit N times\n",
    "    N = 1000\n",
    "    job = execute(mycircuit,Aer.get_backend('qasm_simulator'),shots=N)\n",
    "    counts = job.result().get_counts(mycircuit)\n",
    "    # print(counts)\n",
    "    if '000' in counts.keys():\n",
    "        c = counts['000']\n",
    "    else:\n",
    "        c = 0\n",
    "    # print('000 is observed',c,'times out of',N)\n",
    "    percentange = round(c/N*100,1)\n",
    "    if max_percentange < percentange: max_percentange = percentange\n",
    "    # print(\"the ration of 000 is \",percentange,\"%\")\n",
    "    # print()\n",
    "print(\"max percentage is\",max_percentange)"
   ]
  },
  {
   "cell_type": "markdown",
   "metadata": {},
   "source": [
    "<h3>Task 7</h3>\n",
    "\n",
    "Repeat Task 6 by using four and five qubits."
   ]
  },
  {
   "cell_type": "markdown",
   "metadata": {},
   "source": [
    "<h3>Solution</h3>"
   ]
  },
  {
   "cell_type": "code",
   "execution_count": 6,
   "metadata": {},
   "outputs": [
    {
     "name": "stdout",
     "output_type": "stream",
     "text": [
      "k 0 = 18\n",
      "k 1 = 2\n",
      "k 2 = 3\n",
      "k 3 = 14\n",
      "zeros =  0000\n",
      "\n",
      "max percentage is 43.2\n"
     ]
    }
   ],
   "source": [
    "from qiskit import QuantumRegister, ClassicalRegister, QuantumCircuit, execute, Aer\n",
    "from math import pi\n",
    "from random import randrange\n",
    "\n",
    "number_of_qubits = 4\n",
    "#number_of_qubits = 5\n",
    "# randomly picked angles of rotations \n",
    "theta = []\n",
    "for i in range(number_of_qubits):\n",
    "    k =  randrange(1,31)\n",
    "    print(\"k\",str(i),\"=\",k)\n",
    "    theta += [k*2*pi/31]\n",
    "# print(theta)\n",
    "\n",
    "# we count the number of zeros\n",
    "zeros = ''\n",
    "for i in range(number_of_qubits):\n",
    "    zeros = zeros + '0'\n",
    "print(\"zeros = \",zeros)\n",
    "print()\n",
    "\n",
    "max_percentange = 0\n",
    "# we read streams of length from 1 to 30\n",
    "for i in range(1,31):\n",
    "    # quantum circuit with qubits and bits\n",
    "    qreg =  QuantumRegister(number_of_qubits) \n",
    "    creg = ClassicalRegister(number_of_qubits) \n",
    "    mycircuit = QuantumCircuit(qreg,creg)\n",
    "    # the stream of length i\n",
    "    for j in range(i):\n",
    "        # apply rotations for each symbol\n",
    "        for k in range(number_of_qubits):\n",
    "            mycircuit.ry(2*theta[k],qreg[k]) \n",
    "    # we measure after reading the whole stream\n",
    "    mycircuit.measure(qreg,creg)\n",
    "    # execute the circuit N times\n",
    "    N = 1000\n",
    "    job = execute(mycircuit,Aer.get_backend('qasm_simulator'),shots=N)\n",
    "    counts = job.result().get_counts(mycircuit)\n",
    "    # print(counts)\n",
    "    if zeros in counts.keys():\n",
    "        c = counts[zeros]\n",
    "    else:\n",
    "        c = 0\n",
    "    # print('000 is observed',c,'times out of',N)\n",
    "    percentange = round(c/N*100,1)\n",
    "    if max_percentange < percentange: max_percentange = percentange\n",
    "    # print(\"the ration of 000 is \",percentange,\"%\")\n",
    "    # print()\n",
    "print(\"max percentage is\",max_percentange)"
   ]
  },
  {
   "cell_type": "markdown",
   "metadata": {},
   "source": [
    "<h3>Remarks</h3>\n",
    "\n",
    "Problem $\\sf MOD_p$ can be classically solved by using no less than $\\sf p$ states.\n",
    "\n",
    "As we have observed, the same problem can be solved by using a few quantum states in some cases.\n",
    "\n",
    "In fact, the above given random strategy can be implemented more state efficiently (we discuss the basics of this technique in the next notebook) so that $ \\log \\mathsf{p} $ quantum states is enough to solve the problem with high probability.\n",
    "\n",
    "Thus, we need at least logarithmic number of classical bits. On the other hand, we can use double logarithmic quantum bits. This is another exponential advantage of quantum computation.  \n",
    "\n",
    "<i> One implementation issue for the quantum algorithm is to implement more and more precise rotations, i.e., implementing the rotation with angle $ \\frac{2\\pi}{p} $ may not be possible when $ p $ gets bigger and bigger.\n",
    "\n",
    "Besides, a long sequence of rotations may require some error corrections, and each error correction solution can use new qubits.\n",
    "</i>"
   ]
  },
  {
   "cell_type": "code",
   "execution_count": null,
   "metadata": {},
   "outputs": [],
   "source": []
  }
 ],
 "metadata": {
  "kernelspec": {
   "display_name": "Python 3",
   "language": "python",
   "name": "python3"
  },
  "language_info": {
   "codemirror_mode": {
    "name": "ipython",
    "version": 3
   },
   "file_extension": ".py",
   "mimetype": "text/x-python",
   "name": "python",
   "nbconvert_exporter": "python",
   "pygments_lexer": "ipython3",
   "version": "3.8.3"
  }
 },
 "nbformat": 4,
 "nbformat_minor": 4
}
