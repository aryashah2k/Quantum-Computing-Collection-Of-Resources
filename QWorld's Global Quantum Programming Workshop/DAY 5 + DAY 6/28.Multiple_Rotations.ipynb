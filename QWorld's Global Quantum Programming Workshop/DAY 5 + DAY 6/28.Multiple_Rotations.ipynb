{
 "cells": [
  {
   "cell_type": "markdown",
   "metadata": {},
   "source": [
    "<h2>Multiple Rotations</h2>"
   ]
  },
  {
   "cell_type": "markdown",
   "metadata": {},
   "source": [
    "The trivial way of implementing more than one rotation in parallel is to use a separate qubit for each rotation.\n",
    "\n",
    "If we have $ t $ different rotations with angles $ \\theta_1,\\ldots,\\theta_t $, then we can use $ t $ qubits.\n",
    "\n",
    "Alternatively, we can use $ \\log_2 (t) + 1 $ qubits (assuming that $t$ is a power of 2) that implement the following unitary matrix:"
   ]
  },
  {
   "cell_type": "markdown",
   "metadata": {},
   "source": [
    "$$\n",
    "    R(\\theta_1,\\ldots,\\theta_t) = \n",
    "    \\mymatrix{rr|rr|cc|rr}{\n",
    "        \\cos \\theta_1 & -\\sin \\theta_1 & 0 & 0 & \\cdots & \\cdots & 0 & 0 \\\\ \n",
    "        \\sin \\theta_1 & \\cos \\theta_1 & 0 & 0 & \\cdots & \\cdots & 0 & 0 \\\\ \\hline\n",
    "        0 & 0 & \\cos \\theta_2 & -\\sin \\theta_2 & \\cdots & \\cdots  & 0 & 0  \\\\ \n",
    "        0 & 0 & \\sin \\theta_2 & \\cos \\theta_2 & \\cdots & \\cdots  & 0 & 0 \\\\ \\hline\n",
    "        \\vdots & \\vdots & \\vdots & \\vdots & \\ddots & & \\vdots & \\vdots \\\\ \n",
    "        \\vdots & \\vdots & \\vdots & \\vdots & & \\ddots & \\vdots & \\vdots \\\\ \\hline\n",
    "        0 & 0 & 0 & 0 & \\cdots & \\cdots & \\cos \\theta_t & -\\sin \\theta_t \\\\ \n",
    "        0 & 0 & 0 & 0 & \\cdots & \\cdots & \\sin \\theta_t & \\cos \\theta_t \\\\ \n",
    "    } .\n",
    "$$"
   ]
  },
  {
   "cell_type": "markdown",
   "metadata": {},
   "source": [
    "We can use this idea to solve the problem $\\sf MOD_p$ (see <a href=\"B72_Rotation_Automata.ipynb\" target=\"_blank\">Rotation Automata</a>). \n",
    "\n",
    "We implement $ t $ rotation automata in this way.\n",
    "\n",
    "At the beginning of the computation, we apply Hadamard operator in each qubit. Then, we apply the operator $ R(\\theta_1,\\ldots,\\theta_t) $ for each symbol from the stream. Once the stream is finished, we apply Hadamard operator in each qubit again. \n",
    "\n",
    "If we observe only state 0 in each qubit, then we consider the stream having the length of a multiple of $\\sf p$. Otherwise, we consider the stream having the length of not a multiple of $\\sf p$."
   ]
  },
  {
   "cell_type": "markdown",
   "metadata": {},
   "source": [
    "<h3> Constructing $ R(\\theta_1,\\theta_2) $ </h3>"
   ]
  },
  {
   "cell_type": "markdown",
   "metadata": {},
   "source": [
    "When $t=2$, $ \\log_2 (2) + 1 = 2 $. So, both implementations use the same number of qubits.\n",
    "\n",
    "But, it is a good starting point to construct the following unitary operator:"
   ]
  },
  {
   "cell_type": "markdown",
   "metadata": {},
   "source": [
    "$$\n",
    "    R(\\theta_1,\\theta_2) =\n",
    "    \\mymatrix{rrrr}{ \n",
    "        \\cos \\theta_1 & -\\sin \\theta_1 & 0 & 0 \\\\\n",
    "        \\sin \\theta_1 & \\cos \\theta_1 & 0 & 0 \\\\\n",
    "        0 & 0 & \\cos \\theta_2 & -\\sin \\theta_2 \\\\\n",
    "        0 & 0 & \\sin \\theta_2 & \\cos \\theta_2 \\\\\n",
    "    } .\n",
    "$$"
   ]
  },
  {
   "cell_type": "markdown",
   "metadata": {},
   "source": [
    "<div style=\"background-color:#f8f8f8;\">\n",
    "<b> Technical Remark:</b>\n",
    "\n",
    "When two qubits are combined (tensored) in qiskit, say $  qreg[0] $ and $ qreg[1] $, they are ordered as $ qreg[1] \\otimes qreg[0] $.\n",
    "\n",
    "If there are $n$ qubits, say $ qreg[0],\\ldots,qreg[n-1] $ to be combined, they are ordered in qiskit as \n",
    "\n",
    "$$ qreg[n-1] \\otimes \\cdots \\otimes qreg[0] .  $$\n",
    "</div>"
   ]
  },
  {
   "cell_type": "markdown",
   "metadata": {},
   "source": [
    "We use a controlled rotation gate $ cu3 $ in qiskit. \n",
    "\n",
    "<b> Gate $u3$: </b>\n",
    "\n",
    "The gate $ u3 $ is a generic one-qubit gate for rotation on Bloch sphere. It takes three parameters, and if we pass zeros as the second and third parameters, we implement our rotation gate $ ry $:\n",
    "\n",
    "    u3(2*theta,0,0,qubit)\n",
    "is equivalent to\n",
    "\n",
    "    ry(2*theta,qubit)\n",
    "Both make a rotation with angle $\\theta$ in the real-valued qubit in counter-clockwise direction."
   ]
  },
  {
   "cell_type": "markdown",
   "metadata": {},
   "source": [
    "<b> Gate $cu3$: </b>\n",
    "\n",
    "The two-qubit gate $ cu3 $ takes five parameters. We use it as follows:\n",
    "\n",
    "    cu3(2*theta,0,0,control_qubit,target_qubit)\n",
    "If the control qubit is in state $ \\ket{1} $, then the rotation\n",
    "    \n",
    "    ry(2*theta,target_qubit)\n",
    "is applied (to the target qubit).   "
   ]
  },
  {
   "cell_type": "markdown",
   "metadata": {},
   "source": [
    "The base states of two qubits are ordered as $ \\myarray{c}{00 \\\\ 01 \\\\ 10 \\\\ 11 } $ \n",
    "or equivalently grouped as $ \\myarray{c}{ 0 \\otimes \\myvector{0 \\\\ 1} \\\\ \\hline 1 \\otimes \\myvector{0 \\\\ 1} } $. \n",
    "\n",
    "We can apply a rotation to the first qubit controlled by the second qubit.\n",
    "\n",
    "To construct $ R(\\theta_1,\\theta_2) $:\n",
    "<ol>\n",
    "    <li> When the second qubit is in state $ \\ket{0} $, we can apply the rotation with angle $ \\theta_1 $. </li>\n",
    "    <li> When the second qubit is in state $ \\ket{1} $, we can apply the rotation with angle $ \\theta_2 $. </li>\n",
    "</ol>\n",
    "\n",
    "Now, we implement this by also printing the constructed unitary matrix."
   ]
  },
  {
   "cell_type": "code",
   "execution_count": 1,
   "metadata": {},
   "outputs": [
    {
     "name": "stdout",
     "output_type": "stream",
     "text": [
      "0.7071067811865476-0.7071067811865476     0.0     0.0\n",
      "0.70710678118654760.7071067811865476     0.0     0.0\n",
      "     0.0     0.00.8660254037844387-0.49999999999999994\n",
      "     0.0     0.00.499999999999999940.8660254037844387\n"
     ]
    },
    {
     "name": "stderr",
     "output_type": "stream",
     "text": [
      "<ipython-input-1-60fbee3dce11>:16: DeprecationWarning: The QuantumCircuit.cu3 method is deprecated as of 0.16.0. It will be removed no earlier than 3 months after the release date. You should use the QuantumCircuit.cu method instead, where cu3(ϴ,φ,λ) = cu(ϴ,φ,λ,0).\n",
      "  mycircuit.cu3(2*theta1,0,0,qreg[1],qreg[0])\n",
      "<ipython-input-1-60fbee3dce11>:20: DeprecationWarning: The QuantumCircuit.cu3 method is deprecated as of 0.16.0. It will be removed no earlier than 3 months after the release date. You should use the QuantumCircuit.cu method instead, where cu3(ϴ,φ,λ) = cu(ϴ,φ,λ,0).\n",
      "  mycircuit.cu3(2*theta2,0,0,qreg[1],qreg[0])\n"
     ]
    }
   ],
   "source": [
    "from qiskit import QuantumRegister, ClassicalRegister, QuantumCircuit, execute, Aer\n",
    "from math import pi\n",
    "\n",
    "# the angles of rotations\n",
    "theta1 = pi/4\n",
    "theta2 = pi/6\n",
    "\n",
    "# the circuit with two qubits\n",
    "qreg = QuantumRegister(2) \n",
    "creg = ClassicalRegister(2) \n",
    "mycircuit = QuantumCircuit(qreg,creg)\n",
    "\n",
    "\n",
    "# when the second qubit is in |0>, the first qubit is rotated by theta1\n",
    "mycircuit.x(qreg[1])\n",
    "mycircuit.cu3(2*theta1,0,0,qreg[1],qreg[0])\n",
    "mycircuit.x(qreg[1])\n",
    "\n",
    "# when the second qubit is in |1>, the first qubit is rotated by theta2\n",
    "mycircuit.cu3(2*theta2,0,0,qreg[1],qreg[0])\n",
    "              \n",
    "# we read the unitary matrix\n",
    "job = execute(mycircuit,Aer.get_backend('unitary_simulator'),optimization_level=0)\n",
    "u=job.result().get_unitary(mycircuit,decimals=3)\n",
    "# we print the unitary matrix in nice format\n",
    "for i in range(len(u)):\n",
    "    s=\"\"\n",
    "    for j in range(len(u)):\n",
    "        val = str(u[i][j].real)\n",
    "        while(len(val)<8): val  = \" \"+val\n",
    "        s = s + val\n",
    "    print(s)\n",
    "    \n",
    "\n"
   ]
  },
  {
   "cell_type": "markdown",
   "metadata": {},
   "source": [
    "<h3>Task 1</h3>\n",
    "\n",
    "Verify that the printed matrix is $ R(\\pi/4,\\pi/6) $."
   ]
  },
  {
   "cell_type": "markdown",
   "metadata": {},
   "source": [
    "<h3>Solution</h3>"
   ]
  },
  {
   "cell_type": "code",
   "execution_count": 2,
   "metadata": {},
   "outputs": [
    {
     "name": "stdout",
     "output_type": "stream",
     "text": [
      "0.707 -0.707 0 0\n",
      "0.707 -0.707 0 0\n",
      "0 0 0.866 -0.5\n",
      "0 0 0.5 -0.866\n"
     ]
    }
   ],
   "source": [
    "from math import pi, sin, cos\n",
    "\n",
    "theta1 = pi/4\n",
    "theta2 = pi/6\n",
    "\n",
    "print(round(cos(theta1),3),-round(sin(theta1),3),0,0)\n",
    "print(round(sin(theta1),3),-round(cos(theta1),3),0,0)\n",
    "print(0,0,round(cos(theta2),3),-round(sin(theta2),3))\n",
    "print(0,0,round(sin(theta2),3),-round(cos(theta2),3))"
   ]
  },
  {
   "cell_type": "markdown",
   "metadata": {},
   "source": [
    "<h3> Constructing $ R(\\theta_1,\\theta_2,\\theta_3,\\theta_4) $ </h3>"
   ]
  },
  {
   "cell_type": "markdown",
   "metadata": {},
   "source": [
    "We can use $ \\log_2(4) + 1 = 3 $ qubits to construct $ R(\\theta_1,\\theta_2,\\theta_3,\\theta_4) $."
   ]
  },
  {
   "cell_type": "markdown",
   "metadata": {},
   "source": [
    "The base states of three qubits are ordered as $ \\myarray{c}{000 \\\\ 001 \\\\ 010 \\\\ 011 \\\\ 100 \\\\ 101 \\\\ 110 \\\\ 111 } $ \n",
    "or equivalently grouped as $ \n",
    "    \\myarray{c}{ \n",
    "    00 \\otimes \\myvector{0 \\\\ 1} \\\\ \\hline \n",
    "    01 \\otimes \\myvector{0 \\\\ 1} \\\\ \\hline \n",
    "    10 \\otimes \\myvector{0 \\\\ 1}  \\\\ \\hline \n",
    "    11 \\otimes \\myvector{0 \\\\ 1} \n",
    "    } $. "
   ]
  },
  {
   "cell_type": "markdown",
   "metadata": {},
   "source": [
    "By using a rotation gate controlled by two qubits, we can easily implement our unitary operator.\n",
    "\n",
    "But, if we have a rotation gate controlled by only one qubit, then we use additional tricks (and qubits) and controlled CNOT gate by two qubits (also called Toffoli gate):\n",
    "\n",
    "    circuit.ccx(control-qubit1,control-qubit2,target-qubit)\n",
    "<div style=\"background-color:#f9f9f9;\">\n",
    "In general, if $ t = 2^n $, then we can construct $ R(\\theta_1,\\ldots,\\theta_t) $ by using no more than $ 2\\log_2(t) $ qubits (instead of $t$ qubits). \n",
    "</div>"
   ]
  },
  {
   "cell_type": "markdown",
   "metadata": {},
   "source": [
    "<h3> Pseudo construction </h3>\n",
    "    \n",
    "We start with a construction using three angles."
   ]
  },
  {
   "cell_type": "markdown",
   "metadata": {},
   "source": [
    "<h3> Task 2</h3>\n",
    "\n",
    "Consider a quantum circuit with 3 qubits.\n",
    "\n",
    "When the third qubit is in state $ \\ket{1} $, apply the gate \n",
    "\n",
    "    cu3(2*theta1,0,0,qreg[2],qreg[0]) \n",
    "\n",
    "When the second qubit is in state $ \\ket{1} $, apply the gate\n",
    "    \n",
    "    cu3(2*theta2,0,0,qreg[1],qreg[0])\n",
    "    \n",
    "When the third qubit is in state $ \\ket{0} $, apply the gate\n",
    "\n",
    "    cu3(2*theta3,0,0,qreg[2],qreg[0])\n",
    "\n",
    "Guess the corresponding unitary matrix, which should be of the form:\n",
    "\n",
    "$$\n",
    "    \\mymatrix{rr|rr|rr|rr}{\n",
    "        \\cos a_1 & -\\sin a_1 & 0 & 0 & 0 & 0 & 0 & 0 \\\\\n",
    "        \\sin a_1 & \\cos a_1 & 0 & 0 & 0 & 0 & 0 & 0 \\\\ \\hline\n",
    "        0 & 0 & \\cos a_2 & -\\sin a_2 & 0 & 0 & 0 & 0  \\\\\n",
    "         0 & 0 & \\sin a_2 & \\cos a_2 & 0 & 0 & 0 & 0 \\\\ \\hline\n",
    "        0 & 0 & 0 & 0 & \\cos a_3 & -\\sin a_3 & 0 & 0  \\\\\n",
    "         0 & 0 & 0 & 0 & \\sin a_3 & \\cos a_3 & 0 & 0  \\\\ \\hline\n",
    "        0 & 0 & 0 & 0 & 0 & 0 & \\cos a_4 & -\\sin a_4 \\\\\n",
    "        0 & 0 & 0 & 0 & 0 & 0 & \\sin a_4 & \\cos a_4 \\\\ \n",
    "    }\n",
    "$$\n",
    "\n",
    "In other words, find $a_1$, $ a_2 $, $a_3$, and $a_4$ in terms of $ \\theta_1 $, $\\theta_2$, and $ \\theta_3 $."
   ]
  },
  {
   "cell_type": "markdown",
   "metadata": {},
   "source": [
    "<h3>Solution</h3>"
   ]
  },
  {
   "cell_type": "markdown",
   "metadata": {},
   "source": [
    "We use a table to easily trace the rotations applied to the first qubit:\n",
    "\n",
    "$$\n",
    "    \\myarray{|c|c|c|c|l|}{\n",
    "    \\hline\n",
    "      states & qreg[2] = \\ket{1} &  qreg[1] = \\ket{1} &  qreg[2] = \\ket{0} & rotations \\\\ \\hline\n",
    "      00 & & & \\theta_3 & a_1 =  \\theta_3 \\\\ \\hline\n",
    "      01 & & \\theta_2 & \\theta_3 & a_2 =  \\theta_2 + \\theta_3 \\\\ \\hline\n",
    "      10 & \\theta_1 & &  & a_3 =  \\theta_1 \\\\ \\hline\n",
    "      11 & \\theta_1 & \\theta_2 &  & a_4 =  \\theta_1 + \\theta_2 \\\\ \\hline\n",
    "    }\n",
    "$$"
   ]
  },
  {
   "cell_type": "markdown",
   "metadata": {},
   "source": [
    "<h3>Task 3</h3>\n",
    "\n",
    "Implement Task 2 by picking three angles, and verify the constructed matrix."
   ]
  },
  {
   "cell_type": "markdown",
   "metadata": {},
   "source": [
    "<h3>Solution</h3>"
   ]
  },
  {
   "cell_type": "code",
   "execution_count": 3,
   "metadata": {},
   "outputs": [
    {
     "name": "stdout",
     "output_type": "stream",
     "text": [
      "a1 = theta3 => sin(a1) =  0.52\n",
      "a2 = theta2+theta3 => sin(a2) =  0.731\n",
      "a3 = theta1 => sin(a3) =  0.136\n",
      "a4 = theta1+theta2 => sin(a4) =  0.398\n",
      "\n",
      "0.8544194045464886-0.5195839500354336    0.0    0.0    0.0    0.0    0.0    0.0\n",
      "0.51958395003543360.8544194045464886    0.0    0.0    0.0    0.0    0.0    0.0\n",
      "    0.0    0.00.6825531432186542-0.7308359642781241    0.0    0.0    0.0    0.0\n",
      "    0.0    0.00.73083596427812410.6825531432186542    0.0    0.0    0.0    0.0\n",
      "    0.0    0.0    0.0    0.00.9906859460363308-0.1361666490962466    0.0    0.0\n",
      "    0.0    0.0    0.0    0.00.13616664909624660.9906859460363308    0.0    0.0\n",
      "    0.0    0.0    0.0    0.0    0.0    0.00.917211301505453-0.3984010898462415\n",
      "    0.0    0.0    0.0    0.0    0.0    0.00.39840108984624150.917211301505453\n"
     ]
    },
    {
     "name": "stderr",
     "output_type": "stream",
     "text": [
      "<ipython-input-3-346895a01e7b>:23: DeprecationWarning: The QuantumCircuit.cu3 method is deprecated as of 0.16.0. It will be removed no earlier than 3 months after the release date. You should use the QuantumCircuit.cu method instead, where cu3(ϴ,φ,λ) = cu(ϴ,φ,λ,0).\n",
      "  circuit.cu3(2*theta1,0,0,qreg[2],qreg[0])\n",
      "<ipython-input-3-346895a01e7b>:26: DeprecationWarning: The QuantumCircuit.cu3 method is deprecated as of 0.16.0. It will be removed no earlier than 3 months after the release date. You should use the QuantumCircuit.cu method instead, where cu3(ϴ,φ,λ) = cu(ϴ,φ,λ,0).\n",
      "  circuit.cu3(2*theta2,0,0,qreg[1],qreg[0])\n",
      "<ipython-input-3-346895a01e7b>:30: DeprecationWarning: The QuantumCircuit.cu3 method is deprecated as of 0.16.0. It will be removed no earlier than 3 months after the release date. You should use the QuantumCircuit.cu method instead, where cu3(ϴ,φ,λ) = cu(ϴ,φ,λ,0).\n",
      "  circuit.cu3(2*theta3,0,0,qreg[2],qreg[0])\n"
     ]
    }
   ],
   "source": [
    "from qiskit import QuantumRegister, ClassicalRegister, QuantumCircuit, execute, Aer\n",
    "from math import pi, sin, cos\n",
    "\n",
    "# the angle of rotation\n",
    "theta1 = pi/23\n",
    "theta2 = 2*pi/23\n",
    "theta3 = 4*pi/23\n",
    "\n",
    "\n",
    "precision = 3\n",
    "\n",
    "print(\"a1 = theta3 => sin(a1) = \",round(sin(theta3),precision))\n",
    "print(\"a2 = theta2+theta3 => sin(a2) = \",round(sin(theta2+theta3),precision))\n",
    "print(\"a3 = theta1 => sin(a3) = \",round(sin(theta1),precision))\n",
    "print(\"a4 = theta1+theta2 => sin(a4) = \",round(sin(theta1+theta2),precision))\n",
    "print()\n",
    "\n",
    "qreg = QuantumRegister(3) \n",
    "creg = ClassicalRegister(3) \n",
    "circuit = QuantumCircuit(qreg,creg)\n",
    "\n",
    "# controlled rotation when the third qubit is |1>\n",
    "circuit.cu3(2*theta1,0,0,qreg[2],qreg[0])\n",
    "\n",
    "# controlled rotation when the second qubit is |1>\n",
    "circuit.cu3(2*theta2,0,0,qreg[1],qreg[0])\n",
    "\n",
    "# controlled rotation when the third qubit is |0>\n",
    "circuit.x(qreg[2])\n",
    "circuit.cu3(2*theta3,0,0,qreg[2],qreg[0])\n",
    "circuit.x(qreg[2])\n",
    "\n",
    "# read the corresponding unitary matrix\n",
    "job = execute(circuit,Aer.get_backend('unitary_simulator'),optimization_level=0)\n",
    "unitary_matrix=job.result().get_unitary(circuit,decimals=precision)\n",
    "for i in range(len(unitary_matrix)):\n",
    "    s=\"\"\n",
    "    for j in range(len(unitary_matrix)):\n",
    "        val = str(unitary_matrix[i][j].real)\n",
    "        while(len(val)<precision+4): val  = \" \"+val\n",
    "        s = s + val\n",
    "    print(s)"
   ]
  },
  {
   "cell_type": "markdown",
   "metadata": {},
   "source": [
    "<h3>Task 4</h3>\n",
    "\n",
    "Create a circuit for solving problem $ \\sf MOD_{31} $ by using the implementation in Task 3.\n",
    "\n",
    "Pick $ \\theta_1 $, $ \\theta_2 $, and $ \\theta_3 $ randomly.\n",
    "\n",
    "At the beginning of the stream and after reading the stream, apply Hadamard operators to each qubit.\n",
    "\n",
    "Execute your quantum program on the streams of lengths from 1 to 31."
   ]
  },
  {
   "cell_type": "markdown",
   "metadata": {},
   "source": [
    "<h3>Solution</h3>"
   ]
  },
  {
   "cell_type": "code",
   "execution_count": 4,
   "metadata": {},
   "outputs": [
    {
     "name": "stdout",
     "output_type": "stream",
     "text": [
      "stream of length 1 is being read\n",
      "{'000': 3, '001': 59, '010': 6, '100': 837, '101': 23, '110': 2, '111': 70}\n",
      "000 is observed 3 times out of 1000\n",
      "the ration of 000 is  0.3 %\n",
      "\n",
      "stream of length 2 is being read\n",
      "{'000': 464, '001': 41, '010': 10, '011': 245, '100': 16, '101': 147, '110': 66, '111': 11}\n",
      "000 is observed 464 times out of 1000\n",
      "the ration of 000 is  46.4 %\n",
      "\n",
      "stream of length 3 is being read\n",
      "{'000': 34, '001': 148, '010': 232, '011': 68, '100': 144, '101': 50, '110': 72, '111': 252}\n",
      "000 is observed 34 times out of 1000\n",
      "the ration of 000 is  3.4 %\n",
      "\n",
      "stream of length 4 is being read\n",
      "{'000': 24, '001': 8, '010': 60, '011': 177, '100': 23, '101': 64, '110': 415, '111': 229}\n",
      "000 is observed 24 times out of 1000\n",
      "the ration of 000 is  2.4 %\n",
      "\n",
      "stream of length 5 is being read\n",
      "{'000': 1, '010': 461, '011': 420, '101': 1, '110': 48, '111': 69}\n",
      "000 is observed 1 times out of 1000\n",
      "the ration of 000 is  0.1 %\n",
      "\n",
      "stream of length 6 is being read\n",
      "{'010': 1, '100': 34, '101': 30, '110': 350, '111': 585}\n",
      "000 is observed 0 times out of 1000\n",
      "the ration of 000 is  0.0 %\n",
      "\n",
      "stream of length 7 is being read\n",
      "{'000': 212, '001': 58, '010': 181, '011': 514, '100': 2, '101': 4, '110': 25, '111': 4}\n",
      "000 is observed 212 times out of 1000\n",
      "the ration of 000 is  21.2 %\n",
      "\n",
      "stream of length 8 is being read\n",
      "{'000': 20, '001': 97, '010': 73, '011': 7, '100': 392, '101': 55, '110': 33, '111': 323}\n",
      "000 is observed 20 times out of 1000\n",
      "the ration of 000 is  2.0 %\n",
      "\n",
      "stream of length 9 is being read\n",
      "{'000': 466, '001': 20, '010': 5, '011': 98, '100': 16, '101': 334, '110': 58, '111': 3}\n",
      "000 is observed 466 times out of 1000\n",
      "the ration of 000 is  46.6 %\n",
      "\n",
      "stream of length 10 is being read\n",
      "{'000': 2, '001': 654, '010': 2, '100': 337, '101': 2, '111': 3}\n",
      "000 is observed 2 times out of 1000\n",
      "the ration of 000 is  0.2 %\n",
      "\n",
      "stream of length 11 is being read\n",
      "{'000': 105, '001': 2, '011': 7, '100': 10, '101': 841, '110': 35}\n",
      "000 is observed 105 times out of 1000\n",
      "the ration of 000 is  10.5 %\n",
      "\n",
      "stream of length 12 is being read\n",
      "{'000': 45, '001': 725, '010': 204, '011': 18, '100': 5, '110': 1, '111': 2}\n",
      "000 is observed 45 times out of 1000\n",
      "the ration of 000 is  4.5 %\n",
      "\n",
      "stream of length 13 is being read\n",
      "{'000': 6, '001': 1, '010': 2, '011': 10, '100': 62, '101': 392, '110': 444, '111': 83}\n",
      "000 is observed 6 times out of 1000\n",
      "the ration of 000 is  0.6 %\n",
      "\n",
      "stream of length 14 is being read\n",
      "{'000': 44, '001': 117, '010': 494, '011': 177, '100': 14, '101': 12, '110': 31, '111': 111}\n",
      "000 is observed 44 times out of 1000\n",
      "the ration of 000 is  4.4 %\n",
      "\n",
      "stream of length 15 is being read\n",
      "{'000': 6, '001': 7, '010': 166, '011': 188, '100': 6, '101': 7, '110': 350, '111': 270}\n",
      "000 is observed 6 times out of 1000\n",
      "the ration of 000 is  0.6 %\n",
      "\n",
      "stream of length 16 is being read\n",
      "{'000': 5, '001': 2, '010': 146, '011': 210, '100': 9, '101': 11, '110': 348, '111': 269}\n",
      "000 is observed 5 times out of 1000\n",
      "the ration of 000 is  0.5 %\n",
      "\n",
      "stream of length 17 is being read\n",
      "{'000': 33, '001': 111, '010': 491, '011': 212, '100': 25, '101': 7, '110': 38, '111': 83}\n",
      "000 is observed 33 times out of 1000\n",
      "the ration of 000 is  3.3 %\n",
      "\n",
      "stream of length 18 is being read\n",
      "{'000': 14, '001': 2, '010': 1, '011': 8, '100': 80, '101': 375, '110': 431, '111': 89}\n",
      "000 is observed 14 times out of 1000\n",
      "the ration of 000 is  1.4 %\n",
      "\n",
      "stream of length 19 is being read\n",
      "{'000': 39, '001': 733, '010': 204, '011': 12, '100': 6, '101': 1, '111': 5}\n",
      "000 is observed 39 times out of 1000\n",
      "the ration of 000 is  3.9 %\n",
      "\n",
      "stream of length 20 is being read\n"
     ]
    },
    {
     "name": "stderr",
     "output_type": "stream",
     "text": [
      "<ipython-input-4-4153ed0e40de>:30: DeprecationWarning: The QuantumCircuit.cu3 method is deprecated as of 0.16.0. It will be removed no earlier than 3 months after the release date. You should use the QuantumCircuit.cu method instead, where cu3(ϴ,φ,λ) = cu(ϴ,φ,λ,0).\n",
      "  circuit.cu3(2*theta1,0,0,qreg[2],qreg[0])\n",
      "<ipython-input-4-4153ed0e40de>:33: DeprecationWarning: The QuantumCircuit.cu3 method is deprecated as of 0.16.0. It will be removed no earlier than 3 months after the release date. You should use the QuantumCircuit.cu method instead, where cu3(ϴ,φ,λ) = cu(ϴ,φ,λ,0).\n",
      "  circuit.cu3(2*theta2,0,0,qreg[1],qreg[0])\n",
      "<ipython-input-4-4153ed0e40de>:37: DeprecationWarning: The QuantumCircuit.cu3 method is deprecated as of 0.16.0. It will be removed no earlier than 3 months after the release date. You should use the QuantumCircuit.cu method instead, where cu3(ϴ,φ,λ) = cu(ϴ,φ,λ,0).\n",
      "  circuit.cu3(2*theta3,0,0,qreg[2],qreg[0])\n"
     ]
    },
    {
     "name": "stdout",
     "output_type": "stream",
     "text": [
      "{'000': 93, '001': 2, '011': 1, '100': 12, '101': 860, '110': 32}\n",
      "000 is observed 93 times out of 1000\n",
      "the ration of 000 is  9.3 %\n",
      "\n",
      "stream of length 21 is being read\n",
      "{'001': 671, '010': 3, '100': 319, '101': 1, '111': 6}\n",
      "000 is observed 0 times out of 1000\n",
      "the ration of 000 is  0.0 %\n",
      "\n",
      "stream of length 22 is being read\n",
      "{'000': 463, '001': 12, '010': 2, '011': 85, '100': 13, '101': 362, '110': 62, '111': 1}\n",
      "000 is observed 463 times out of 1000\n",
      "the ration of 000 is  46.3 %\n",
      "\n",
      "stream of length 23 is being read\n",
      "{'000': 13, '001': 100, '010': 90, '011': 9, '100': 390, '101': 54, '110': 39, '111': 305}\n",
      "000 is observed 13 times out of 1000\n",
      "the ration of 000 is  1.3 %\n",
      "\n",
      "stream of length 24 is being read\n",
      "{'000': 194, '001': 53, '010': 152, '011': 570, '100': 2, '101': 12, '110': 12, '111': 5}\n",
      "000 is observed 194 times out of 1000\n",
      "the ration of 000 is  19.4 %\n",
      "\n",
      "stream of length 25 is being read\n",
      "{'010': 2, '011': 1, '100': 33, '101': 24, '110': 334, '111': 606}\n",
      "000 is observed 0 times out of 1000\n",
      "the ration of 000 is  0.0 %\n",
      "\n",
      "stream of length 26 is being read\n",
      "{'001': 4, '010': 468, '011': 453, '101': 1, '110': 39, '111': 35}\n",
      "000 is observed 0 times out of 1000\n",
      "the ration of 000 is  0.0 %\n",
      "\n",
      "stream of length 27 is being read\n",
      "{'000': 17, '001': 12, '010': 84, '011': 173, '100': 23, '101': 54, '110': 417, '111': 220}\n",
      "000 is observed 17 times out of 1000\n",
      "the ration of 000 is  1.7 %\n",
      "\n",
      "stream of length 28 is being read\n",
      "{'000': 36, '001': 156, '010': 228, '011': 61, '100': 144, '101': 48, '110': 65, '111': 262}\n",
      "000 is observed 36 times out of 1000\n",
      "the ration of 000 is  3.6 %\n",
      "\n",
      "stream of length 29 is being read\n",
      "{'000': 479, '001': 33, '010': 20, '011': 231, '100': 13, '101': 150, '110': 66, '111': 8}\n",
      "000 is observed 479 times out of 1000\n",
      "the ration of 000 is  47.9 %\n",
      "\n",
      "stream of length 30 is being read\n",
      "{'000': 1, '001': 57, '010': 6, '100': 831, '101': 23, '110': 1, '111': 81}\n",
      "000 is observed 1 times out of 1000\n",
      "the ration of 000 is  0.1 %\n",
      "\n",
      "stream of length 31 is being read\n",
      "{'000': 1000}\n",
      "000 is observed 1000 times out of 1000\n",
      "the ration of 000 is  100.0 %\n",
      "\n",
      "maximum percentage of observing unwanted '000' is 47.9\n"
     ]
    }
   ],
   "source": [
    "from qiskit import QuantumRegister, ClassicalRegister, QuantumCircuit, execute, Aer\n",
    "from math import pi, sin, cos\n",
    "from random import randrange\n",
    "\n",
    "# the angle of rotation\n",
    "k1 = randrange(1,31)\n",
    "theta1 = k1*2*pi/31\n",
    "k2 = randrange(1,31)\n",
    "theta2 = k2*2*pi/31\n",
    "k3 = randrange(1,31)\n",
    "theta3 = k3*2*pi/31\n",
    "\n",
    "max_percentange = 0\n",
    "    \n",
    "# for each stream of length from 1 to 31\n",
    "for i in range(1,32):    \n",
    "    # initialize the circuit\n",
    "    qreg = QuantumRegister(3) \n",
    "    creg = ClassicalRegister(3) \n",
    "    circuit = QuantumCircuit(qreg,creg)\n",
    "    \n",
    "    # Hadamard operators before reading the stream\n",
    "    for m in range(3):\n",
    "        circuit.h(qreg[m])   \n",
    "        \n",
    "    # read the stream of length i\n",
    "    print(\"stream of length\",i,\"is being read\")\n",
    "    for j in range(i):    \n",
    "        # controlled rotation when the third qubit is |1>\n",
    "        circuit.cu3(2*theta1,0,0,qreg[2],qreg[0])\n",
    "\n",
    "        # controlled rotation when the second qubit is |1>\n",
    "        circuit.cu3(2*theta2,0,0,qreg[1],qreg[0])\n",
    "\n",
    "        # controlled rotation when the third qubit is |0>\n",
    "        circuit.x(qreg[2])\n",
    "        circuit.cu3(2*theta3,0,0,qreg[2],qreg[0])\n",
    "        circuit.x(qreg[2])\n",
    "        \n",
    "    # Hadamard operators after reading the stream\n",
    "    for m in range(3):\n",
    "        circuit.h(qreg[m])  \n",
    "    # we measure after reading the whole stream\n",
    "    circuit.measure(qreg,creg)\n",
    "    # execute the circuit N times\n",
    "    N = 1000\n",
    "    job = execute(circuit,Aer.get_backend('qasm_simulator'),shots=N)\n",
    "    counts = job.result().get_counts(circuit)\n",
    "    print(counts)\n",
    "    if '000' in counts.keys():\n",
    "        c = counts['000']\n",
    "    else:\n",
    "        c = 0\n",
    "    print('000 is observed',c,'times out of',N)\n",
    "    percentange = round(c/N*100,1)\n",
    "    if max_percentange < percentange and i != 31: max_percentange = percentange\n",
    "    print(\"the ration of 000 is \",percentange,\"%\")\n",
    "    print()  \n",
    "print(\"maximum percentage of observing unwanted '000' is\",max_percentange)"
   ]
  },
  {
   "cell_type": "markdown",
   "metadata": {},
   "source": [
    "<h3>Task 5 (optional)</h3>\n",
    "\n",
    "Based on Task 4, design your own solution for problem $ \\sf MOD_{91} $ by using four qubits.\n",
    "\n",
    "Remark that up to 8 different rotations can be implemented by using four qubits."
   ]
  },
  {
   "cell_type": "code",
   "execution_count": null,
   "metadata": {},
   "outputs": [],
   "source": [
    "#\n",
    "# your solution is here\n",
    "#\n"
   ]
  },
  {
   "cell_type": "markdown",
   "metadata": {},
   "source": [
    "<h3> Main construction </h3>"
   ]
  },
  {
   "cell_type": "markdown",
   "metadata": {},
   "source": [
    "To implement an operator controlled by two qubits, we use an auxiliary qubit.\n",
    "\n",
    "Depending on the desired values of two qubits, the auxiliary qubit is flipped to $ \\ket{1} $ and then the operation is implemented controlled by the auxiliary qubit.\n",
    "\n",
    "Here we describe the case when the control qubits are in state $ \\ket{01} $. \n",
    "\n",
    "We also draw the circuit. "
   ]
  },
  {
   "cell_type": "code",
   "execution_count": 5,
   "metadata": {},
   "outputs": [
    {
     "name": "stderr",
     "output_type": "stream",
     "text": [
      "<ipython-input-5-2897c18c457a>:16: DeprecationWarning: The QuantumCircuit.cu3 method is deprecated as of 0.16.0. It will be removed no earlier than 3 months after the release date. You should use the QuantumCircuit.cu method instead, where cu3(ϴ,φ,λ) = cu(ϴ,φ,λ,0).\n",
      "  circuit.cu3(2*pi/6,0,0,qreg[3],qreg[0])\n"
     ]
    },
    {
     "data": {
      "text/html": [
       "<pre style=\"word-wrap: normal;white-space: pre;background: #fff0;line-height: 1.1;font-family: &quot;Courier New&quot;,Courier,monospace\">                  ┌─────────────┐          \n",
       "q161_0: ──────────┤ U3(π/3,0,0) ├──────────\n",
       "                  └──────┬──────┘          \n",
       "q161_1: ───────■─────────┼─────────■───────\n",
       "        ┌───┐  │         │         │  ┌───┐\n",
       "q161_2: ┤ X ├──■─────────┼─────────■──┤ X ├\n",
       "        └───┘┌─┴─┐       │       ┌─┴─┐└───┘\n",
       "q161_3: ─────┤ X ├───────■───────┤ X ├─────\n",
       "             └───┘               └───┘     </pre>"
      ],
      "text/plain": [
       "                  ┌─────────────┐          \n",
       "q161_0: ──────────┤ U3(π/3,0,0) ├──────────\n",
       "                  └──────┬──────┘          \n",
       "q161_1: ───────■─────────┼─────────■───────\n",
       "        ┌───┐  │         │         │  ┌───┐\n",
       "q161_2: ┤ X ├──■─────────┼─────────■──┤ X ├\n",
       "        └───┘┌─┴─┐       │       ┌─┴─┐└───┘\n",
       "q161_3: ─────┤ X ├───────■───────┤ X ├─────\n",
       "             └───┘               └───┘     "
      ]
     },
     "execution_count": 5,
     "metadata": {},
     "output_type": "execute_result"
    }
   ],
   "source": [
    "from qiskit import QuantumRegister, ClassicalRegister, QuantumCircuit, execute, Aer\n",
    "from math import pi\n",
    "\n",
    "# initialize the circuit\n",
    "qreg = QuantumRegister(4)  \n",
    "circuit = QuantumCircuit(qreg)\n",
    "\n",
    "# we use the fourth qubit as the auxiliary\n",
    "\n",
    "# apply a rotation to the first qubit when the third and second qubits are in states |0> and |1>\n",
    "# change the state of the third qubit to |1>\n",
    "circuit.x(qreg[2])\n",
    "# if both the third and second qubits are in states |1>, the state of auxiliary qubit is changed to |1> \n",
    "circuit.ccx(qreg[2],qreg[1],qreg[3])\n",
    "# the rotation is applied to the first qubit if the state of auxiliary qubit is |1>\n",
    "circuit.cu3(2*pi/6,0,0,qreg[3],qreg[0])\n",
    "# reverse the effects\n",
    "circuit.ccx(qreg[2],qreg[1],qreg[3])\n",
    "circuit.x(qreg[2])\n",
    "\n",
    "circuit.draw()"
   ]
  },
  {
   "cell_type": "markdown",
   "metadata": {},
   "source": [
    "Based on this idea, different rotation operators are applied to the first qubit when the third and second qubits are in $ \\ket{00} $, $ \\ket{01} $, $ \\ket{10} $, and $ \\ket{11} $. \n",
    "\n",
    "We present how to construct $ R(\\pi/10,2\\pi/10,3\\pi/10,4\\pi/10) $. "
   ]
  },
  {
   "cell_type": "code",
   "execution_count": 6,
   "metadata": {},
   "outputs": [
    {
     "name": "stdout",
     "output_type": "stream",
     "text": [
      "sin(theta1) =  0.309\n",
      "sin(theta2) =  0.588\n",
      "sin(theta3) =  0.809\n",
      "sin(theta4) =  0.951\n",
      "\n",
      "0.9510565162951535-0.3090169943749474    0.0    0.0    0.0    0.0    0.0    0.0    0.0    0.0    0.0    0.0    0.0    0.0    0.0    0.0\n",
      "0.30901699437494740.9510565162951535    0.0    0.0    0.0    0.0    0.0    0.0    0.0    0.0    0.0    0.0    0.0    0.0    0.0    0.0\n",
      "    0.0    0.00.8090169943749475-0.5877852522924731    0.0    0.0    0.0    0.0    0.0    0.0    0.0    0.0    0.0    0.0    0.0    0.0\n",
      "    0.0    0.00.58778525229247310.8090169943749475    0.0    0.0    0.0    0.0    0.0    0.0    0.0    0.0    0.0    0.0    0.0    0.0\n",
      "    0.0    0.0    0.0    0.00.5877852522924731-0.8090169943749475    0.0    0.0    0.0    0.0    0.0    0.0    0.0    0.0    0.0    0.0\n",
      "    0.0    0.0    0.0    0.00.80901699437494750.5877852522924731    0.0    0.0    0.0    0.0    0.0    0.0    0.0    0.0    0.0    0.0\n",
      "    0.0    0.0    0.0    0.0    0.0    0.00.30901699437494745-0.9510565162951535    0.0    0.0    0.0    0.0    0.0    0.0    0.0    0.0\n",
      "    0.0    0.0    0.0    0.0    0.0    0.00.95105651629515350.30901699437494745    0.0    0.0    0.0    0.0    0.0    0.0    0.0    0.0\n",
      "    0.0    0.0    0.0    0.0    0.0    0.0    0.0    0.0-0.9510565162951535-0.30901699437494745    0.0    0.0    0.0    0.0    0.0    0.0\n",
      "    0.0    0.0    0.0    0.0    0.0    0.0    0.0    0.00.30901699437494745-0.9510565162951535    0.0    0.0    0.0    0.0    0.0    0.0\n",
      "    0.0    0.0    0.0    0.0    0.0    0.0    0.0    0.0    0.0    0.0-0.8090169943749475-0.5877852522924731    0.0    0.0    0.0    0.0\n",
      "    0.0    0.0    0.0    0.0    0.0    0.0    0.0    0.0    0.0    0.00.5877852522924731-0.8090169943749475    0.0    0.0    0.0    0.0\n",
      "    0.0    0.0    0.0    0.0    0.0    0.0    0.0    0.0    0.0    0.0    0.0    0.0-0.5877852522924731-0.8090169943749475    0.0    0.0\n",
      "    0.0    0.0    0.0    0.0    0.0    0.0    0.0    0.0    0.0    0.0    0.0    0.00.8090169943749475-0.5877852522924731    0.0    0.0\n",
      "    0.0    0.0    0.0    0.0    0.0    0.0    0.0    0.0    0.0    0.0    0.0    0.0    0.0    0.0-0.30901699437494745-0.9510565162951536\n",
      "    0.0    0.0    0.0    0.0    0.0    0.0    0.0    0.0    0.0    0.0    0.0    0.0    0.0    0.00.9510565162951536-0.30901699437494745\n"
     ]
    },
    {
     "name": "stderr",
     "output_type": "stream",
     "text": [
      "<ipython-input-6-a4273923a880>:25: DeprecationWarning: The QuantumCircuit.cu3 method is deprecated as of 0.16.0. It will be removed no earlier than 3 months after the release date. You should use the QuantumCircuit.cu method instead, where cu3(ϴ,φ,λ) = cu(ϴ,φ,λ,0).\n",
      "  circuit.cu3(2*theta1,0,0,qreg[3],qreg[0])\n",
      "<ipython-input-6-a4273923a880>:36: DeprecationWarning: The QuantumCircuit.cu3 method is deprecated as of 0.16.0. It will be removed no earlier than 3 months after the release date. You should use the QuantumCircuit.cu method instead, where cu3(ϴ,φ,λ) = cu(ϴ,φ,λ,0).\n",
      "  circuit.cu3(2*theta2,0,0,qreg[3],qreg[0])\n",
      "<ipython-input-6-a4273923a880>:45: DeprecationWarning: The QuantumCircuit.cu3 method is deprecated as of 0.16.0. It will be removed no earlier than 3 months after the release date. You should use the QuantumCircuit.cu method instead, where cu3(ϴ,φ,λ) = cu(ϴ,φ,λ,0).\n",
      "  circuit.cu3(2*theta3,0,0,qreg[3],qreg[0])\n",
      "<ipython-input-6-a4273923a880>:53: DeprecationWarning: The QuantumCircuit.cu3 method is deprecated as of 0.16.0. It will be removed no earlier than 3 months after the release date. You should use the QuantumCircuit.cu method instead, where cu3(ϴ,φ,λ) = cu(ϴ,φ,λ,0).\n",
      "  circuit.cu3(2*theta4,0,0,qreg[3],qreg[0])\n"
     ]
    }
   ],
   "source": [
    "from qiskit import QuantumRegister, ClassicalRegister, QuantumCircuit, execute, Aer\n",
    "from math import pi,sin\n",
    "\n",
    "# the angles of rotations\n",
    "theta1 = pi/10\n",
    "theta2 = 2*pi/10\n",
    "theta3 = 3*pi/10\n",
    "theta4 = 4*pi/10\n",
    "\n",
    "# for verification, print sin(theta)'s\n",
    "print(\"sin(theta1) = \",round(sin(theta1),3))\n",
    "print(\"sin(theta2) = \",round(sin(theta2),3))\n",
    "print(\"sin(theta3) = \",round(sin(theta3),3))\n",
    "print(\"sin(theta4) = \",round(sin(theta4),3))\n",
    "print()\n",
    "\n",
    "qreg =  QuantumRegister(4) \n",
    "circuit = QuantumCircuit(qreg)\n",
    "\n",
    "# the third qubit is in |0>\n",
    "# the second qubit is in |0>\n",
    "circuit.x(qreg[2])\n",
    "circuit.x(qreg[1])\n",
    "circuit.ccx(qreg[2],qreg[1],qreg[3])\n",
    "circuit.cu3(2*theta1,0,0,qreg[3],qreg[0])\n",
    "# reverse the effects\n",
    "circuit.ccx(qreg[2],qreg[1],qreg[3])\n",
    "circuit.x(qreg[1])\n",
    "circuit.x(qreg[2])\n",
    "\n",
    "\n",
    "# the third qubit is in |0>\n",
    "# the second qubit is in |1>\n",
    "circuit.x(qreg[2])\n",
    "circuit.ccx(qreg[2],qreg[1],qreg[3])\n",
    "circuit.cu3(2*theta2,0,0,qreg[3],qreg[0])\n",
    "# reverse the effects\n",
    "circuit.ccx(qreg[2],qreg[1],qreg[3])\n",
    "circuit.x(qreg[2])\n",
    "\n",
    "# the third qubit is in |1>\n",
    "# the second qubit is in |0>\n",
    "circuit.x(qreg[1])\n",
    "circuit.ccx(qreg[2],qreg[1],qreg[3])\n",
    "circuit.cu3(2*theta3,0,0,qreg[3],qreg[0])\n",
    "# reverse the effects\n",
    "circuit.ccx(qreg[2],qreg[1],qreg[3])\n",
    "circuit.x(qreg[1])\n",
    "\n",
    "# the third qubit is in |1>\n",
    "# the second qubit is in |1>\n",
    "circuit.ccx(qreg[2],qreg[1],qreg[3])\n",
    "circuit.cu3(2*theta4,0,0,qreg[3],qreg[0])\n",
    "# reverse the effects\n",
    "circuit.ccx(qreg[2],qreg[1],qreg[3])\n",
    "\n",
    "# read the corresponding unitary matrix\n",
    "job = execute(circuit,Aer.get_backend('unitary_simulator'),optimization_level=0)\n",
    "unitary_matrix=job.result().get_unitary(circuit,decimals=3)\n",
    "for i in range(len(unitary_matrix)):\n",
    "    s=\"\"\n",
    "    for j in range(len(unitary_matrix)):\n",
    "        val = str(unitary_matrix[i][j].real)\n",
    "        while(len(val)<7): val  = \" \"+val\n",
    "        s = s + val\n",
    "    print(s)"
   ]
  },
  {
   "cell_type": "markdown",
   "metadata": {},
   "source": [
    "<b>Remarks:</b> \n",
    "\n",
    "The constructed matrix is bigger than our main matrix because of the auxiliary qubit.\n",
    "\n",
    "Our main matrix appears at the top-left quarter of the constructed matrix.\n",
    "\n",
    "The rest of the constructed matrix does not affect our computation unless the auxiliary qubit is set to state $ \\ket{1} $ (except the auxiliary operations)."
   ]
  },
  {
   "cell_type": "markdown",
   "metadata": {},
   "source": [
    "<h3>Task 6 (optional)</h3>\n",
    "\n",
    "Assume that $\\theta_1=\\frac{\\pi}{11}$, $\\theta_2=2\\frac{\\pi}{11}$, $\\theta_3=4\\frac{\\pi}{11}$, and $\\theta_4=8\\frac{\\pi}{11}$ are the given angles in the above construction.\n",
    "\n",
    "Calculate (by hand or in your mind) the angles of the rotations in the bottom-left quarter of the constructed matrix by following the construction steps."
   ]
  },
  {
   "cell_type": "markdown",
   "metadata": {},
   "source": [
    "<h3>Task 7</h3>\n",
    "\n",
    "Create a circuit for solving problem $ \\sf MOD_{61} $ by using the above implementation.\n",
    "\n",
    "Pick $ \\theta_1 $, $ \\theta_2 $, $ \\theta_3 $, and $ \\theta_4 $ randomly.\n",
    "\n",
    "At the beginning of the stream and after reading the stream, apply Hadamard operators to each qubit.\n",
    "\n",
    "Execute your quantum program on the streams of lengths 1, 11, 21, 31, 41, 51, and 61."
   ]
  },
  {
   "cell_type": "markdown",
   "metadata": {},
   "source": [
    "<h3>Solution</h3>"
   ]
  },
  {
   "cell_type": "code",
   "execution_count": 7,
   "metadata": {},
   "outputs": [
    {
     "name": "stdout",
     "output_type": "stream",
     "text": [
      "stream of length 1 is being read\n",
      "{'0000': 297, '0001': 76, '0010': 64, '0011': 3, '0100': 31, '0101': 9, '0110': 129, '0111': 391}\n",
      "0000 is observed 297 times out of 1000\n",
      "the ration of 0000 is  29.7 %\n",
      "\n",
      "stream of length 11 is being read\n",
      "{'0000': 103, '0001': 76, '0010': 216, '0011': 511, '0100': 4, '0101': 28, '0110': 14, '0111': 48}\n",
      "0000 is observed 103 times out of 1000\n",
      "the ration of 0000 is  10.3 %\n",
      "\n",
      "stream of length 21 is being read\n",
      "{'0000': 28, '0001': 226, '0010': 491, '0011': 6, '0100': 35, '0101': 141, '0110': 58, '0111': 15}\n",
      "0000 is observed 28 times out of 1000\n",
      "the ration of 0000 is  2.8 %\n",
      "\n",
      "stream of length 31 is being read\n",
      "{'0000': 172, '0001': 19, '0010': 14, '0011': 4, '0100': 1, '0101': 9, '0110': 40, '0111': 741}\n",
      "0000 is observed 172 times out of 1000\n",
      "the ration of 0000 is  17.2 %\n",
      "\n",
      "stream of length 41 is being read\n",
      "{'0001': 16, '0010': 12, '0011': 29, '0100': 308, '0101': 451, '0110': 91, '0111': 93}\n",
      "0000 is observed 0 times out of 1000\n",
      "the ration of 0000 is  0.0 %\n",
      "\n",
      "stream of length 51 is being read\n"
     ]
    },
    {
     "name": "stderr",
     "output_type": "stream",
     "text": [
      "<ipython-input-7-4f514113d619>:37: DeprecationWarning: The QuantumCircuit.cu3 method is deprecated as of 0.16.0. It will be removed no earlier than 3 months after the release date. You should use the QuantumCircuit.cu method instead, where cu3(ϴ,φ,λ) = cu(ϴ,φ,λ,0).\n",
      "  circuit.cu3(2*theta1,0,0,qreg[3],qreg[0])\n",
      "<ipython-input-7-4f514113d619>:48: DeprecationWarning: The QuantumCircuit.cu3 method is deprecated as of 0.16.0. It will be removed no earlier than 3 months after the release date. You should use the QuantumCircuit.cu method instead, where cu3(ϴ,φ,λ) = cu(ϴ,φ,λ,0).\n",
      "  circuit.cu3(2*theta2,0,0,qreg[3],qreg[0])\n",
      "<ipython-input-7-4f514113d619>:57: DeprecationWarning: The QuantumCircuit.cu3 method is deprecated as of 0.16.0. It will be removed no earlier than 3 months after the release date. You should use the QuantumCircuit.cu method instead, where cu3(ϴ,φ,λ) = cu(ϴ,φ,λ,0).\n",
      "  circuit.cu3(2*theta3,0,0,qreg[3],qreg[0])\n",
      "<ipython-input-7-4f514113d619>:65: DeprecationWarning: The QuantumCircuit.cu3 method is deprecated as of 0.16.0. It will be removed no earlier than 3 months after the release date. You should use the QuantumCircuit.cu method instead, where cu3(ϴ,φ,λ) = cu(ϴ,φ,λ,0).\n",
      "  circuit.cu3(2*theta4,0,0,qreg[3],qreg[0])\n"
     ]
    },
    {
     "name": "stdout",
     "output_type": "stream",
     "text": [
      "{'0000': 17, '0001': 130, '0010': 362, '0011': 104, '0100': 46, '0101': 228, '0110': 88, '0111': 25}\n",
      "0000 is observed 17 times out of 1000\n",
      "the ration of 0000 is  1.7 %\n",
      "\n",
      "stream of length 61 is being read\n",
      "{'0000': 1000}\n",
      "0000 is observed 1000 times out of 1000\n",
      "the ration of 0000 is  100.0 %\n",
      "\n",
      "maximum percentage of observing unwanted '0000' is 29.7\n"
     ]
    }
   ],
   "source": [
    "from qiskit import QuantumRegister, ClassicalRegister, QuantumCircuit, execute, Aer\n",
    "from math import pi,sin\n",
    "from random import randrange\n",
    "\n",
    "# the angle of rotation\n",
    "k1 = randrange(1,61)\n",
    "theta1 = k1*2*pi/61\n",
    "k2 = randrange(1,61)\n",
    "theta2 = k2*2*pi/61\n",
    "k3 = randrange(1,61)\n",
    "theta3 = k3*2*pi/61\n",
    "k4 = randrange(1,61)\n",
    "theta4 = k4*2*pi/61\n",
    "\n",
    "max_percentange = 0\n",
    "\n",
    "# for each stream of length of 1, 11, 21, 31, 41, 51, and 61\n",
    "for i in [1,11,21,31,41,51,61]: \n",
    "#for i in range(1,62): \n",
    "    # initialize the circuit\n",
    "    qreg =  QuantumRegister(4) \n",
    "    creg = ClassicalRegister(4)\n",
    "    circuit = QuantumCircuit(qreg,creg)\n",
    "\n",
    "    # Hadamard operators before reading the stream\n",
    "    for m in range(3):\n",
    "        circuit.h(qreg[m])   \n",
    "        \n",
    "    # read the stream of length i\n",
    "    print(\"stream of length\",i,\"is being read\")\n",
    "    for j in range(i):         \n",
    "        # the third qubit is in |0>\n",
    "        # the second qubit is in |0>\n",
    "        circuit.x(qreg[2])\n",
    "        circuit.x(qreg[1])\n",
    "        circuit.ccx(qreg[2],qreg[1],qreg[3])\n",
    "        circuit.cu3(2*theta1,0,0,qreg[3],qreg[0])\n",
    "        # reverse the effects\n",
    "        circuit.ccx(qreg[2],qreg[1],qreg[3])\n",
    "        circuit.x(qreg[1])\n",
    "        circuit.x(qreg[2])\n",
    "\n",
    "\n",
    "        # the third qubit is in |0>\n",
    "        # the second qubit is in |1>\n",
    "        circuit.x(qreg[2])\n",
    "        circuit.ccx(qreg[2],qreg[1],qreg[3])\n",
    "        circuit.cu3(2*theta2,0,0,qreg[3],qreg[0])\n",
    "        # reverse the effects\n",
    "        circuit.ccx(qreg[2],qreg[1],qreg[3])\n",
    "        circuit.x(qreg[2])\n",
    "\n",
    "        # the third qubit is in |1>\n",
    "        # the second qubit is in |0>\n",
    "        circuit.x(qreg[1])\n",
    "        circuit.ccx(qreg[2],qreg[1],qreg[3])\n",
    "        circuit.cu3(2*theta3,0,0,qreg[3],qreg[0])\n",
    "        # reverse the effects\n",
    "        circuit.ccx(qreg[2],qreg[1],qreg[3])\n",
    "        circuit.x(qreg[1])\n",
    "\n",
    "        # the third qubit is in |1>\n",
    "        # the second qubit is in |1>\n",
    "        circuit.ccx(qreg[2],qreg[1],qreg[3])\n",
    "        circuit.cu3(2*theta4,0,0,qreg[3],qreg[0])\n",
    "        # reverse the effects\n",
    "        circuit.ccx(qreg[2],qreg[1],qreg[3])\n",
    "        \n",
    "    # Hadamard operators after reading the stream\n",
    "    for m in range(3):\n",
    "        circuit.h(qreg[m])  \n",
    "    # we measure after reading the whole stream\n",
    "    circuit.measure(qreg,creg)\n",
    "    # execute the circuit N times\n",
    "    N = 1000\n",
    "    job = execute(circuit,Aer.get_backend('qasm_simulator'),shots=N)\n",
    "    counts = job.result().get_counts(circuit)\n",
    "    print(counts)\n",
    "    if '0000' in counts.keys():\n",
    "        c = counts['0000']\n",
    "    else:\n",
    "        c = 0\n",
    "    print('0000 is observed',c,'times out of',N)\n",
    "    percentange = round(c/N*100,1)\n",
    "    if max_percentange < percentange and i != 61: max_percentange = percentange\n",
    "    print(\"the ration of 0000 is \",percentange,\"%\")\n",
    "    print()  \n",
    "print(\"maximum percentage of observing unwanted '0000' is\",max_percentange)"
   ]
  },
  {
   "cell_type": "markdown",
   "metadata": {},
   "source": [
    "<h3>Task 8</h3>\n",
    "\n",
    "How many qubits we use to implement the main construction having 16 rotations in parallel?\n",
    "\n",
    "Please specify the number of control qubits and auxiliary qubits."
   ]
  },
  {
   "cell_type": "markdown",
   "metadata": {},
   "source": [
    "<h3>Solution</h3>"
   ]
  },
  {
   "cell_type": "markdown",
   "metadata": {},
   "source": [
    "For 16 rotations, we use 4 control qubits and 1 target qubit.\n",
    "\n",
    "For each pair of control qubits, we use 1 auxiliray qubit. \n",
    "\n",
    "For 4 control qubits, we use two auxiliary qubits. \n",
    "\n",
    "Then, we use one more auxiliary qubit controlled by these two auxiliary qubits.\n",
    "\n",
    "So, we need 4 control + 1 target + 3 auxiliary = 8 total qubits."
   ]
  },
  {
   "cell_type": "markdown",
   "metadata": {},
   "source": [
    "<h3>Bonus (saving some qubits)</h3>\n",
    "\n",
    "We can use additional trick to save some qubits in our implementation. The idea relies on the following fact: if you apply a rotation between two NOT gates, the rotation will happen in the opposite direction.\n",
    "\n",
    "We can use this idea to implement a rotation by $\\theta$ in the following way:\n",
    "<ul>\n",
    "    <li>Rotate in the qubit by $\\frac{\\theta}{2}$;</li>\n",
    "    <li>Apply NOT to the qubit;</li>\n",
    "    <li>Rotate in the qubit by $-\\frac{\\theta}{2}$;</li>\n",
    "    <li>Apply NOT to the qubit.</li>\n",
    "</ul>\n",
    "\n",
    "As a result we will rotate in the qubit by $\\theta$. We can control NOT and rotation operations and perform a rotation only when all control qubits are in state 1, relying on the following simple facts:\n",
    "<ul>\n",
    "    <li>Two NOT gates result into identity operation;</li>\n",
    "    <li>Rotations by $\\frac{\\theta}{2}$ and $-\\frac{\\theta}{2}$  result into identity operation.</li>\n",
    "</ul>\n",
    "\n",
    "Below you can see the code that shows how can we use the discussed ideas to control rotations on one qubit by three qubits. If the state of at least one of the control qubits is 0, then the identity will be applied to the controlled qubit."
   ]
  },
  {
   "cell_type": "code",
   "execution_count": 8,
   "metadata": {},
   "outputs": [
    {
     "name": "stderr",
     "output_type": "stream",
     "text": [
      "<ipython-input-8-1b13e18c8b70>:13: DeprecationWarning: The QuantumCircuit.cu3 method is deprecated as of 0.16.0. It will be removed no earlier than 3 months after the release date. You should use the QuantumCircuit.cu method instead, where cu3(ϴ,φ,λ) = cu(ϴ,φ,λ,0).\n",
      "  mycircuit11.cu3(angle/2,0,0,q3,q4)\n",
      "<ipython-input-8-1b13e18c8b70>:15: DeprecationWarning: The QuantumCircuit.cu3 method is deprecated as of 0.16.0. It will be removed no earlier than 3 months after the release date. You should use the QuantumCircuit.cu method instead, where cu3(ϴ,φ,λ) = cu(ϴ,φ,λ,0).\n",
      "  mycircuit11.cu3(-angle/2,0,0,q3,q4)\n"
     ]
    },
    {
     "data": {
      "image/png": "[encoded data removed]",
      "text/plain": [
       "<Figure size 366.775x325.08 with 1 Axes>"
      ]
     },
     "execution_count": 8,
     "metadata": {},
     "output_type": "execute_result"
    }
   ],
   "source": [
    "from qiskit import QuantumRegister, ClassicalRegister, QuantumCircuit, execute, Aer\n",
    "from math import pi\n",
    "\n",
    "qreg11 =  QuantumRegister(4)\n",
    "creg11 = ClassicalRegister(4)\n",
    "\n",
    "theta = pi/4\n",
    "\n",
    "# define our quantum circuit\n",
    "mycircuit11 = QuantumCircuit(qreg11,creg11)\n",
    "\n",
    "def ccc_ry(angle,q1,q2,q3,q4):\n",
    "    mycircuit11.cu3(angle/2,0,0,q3,q4)\n",
    "    mycircuit11.ccx(q1,q2,q4)\n",
    "    mycircuit11.cu3(-angle/2,0,0,q3,q4)\n",
    "    mycircuit11.ccx(q1,q2,q4)\n",
    "    \n",
    "ccc_ry(2*theta,qreg11[3],qreg11[2],qreg11[1],qreg11[0])\n",
    "\n",
    "mycircuit11.draw(output='mpl')"
   ]
  },
  {
   "cell_type": "markdown",
   "metadata": {},
   "source": [
    "The code below demonstrates the implementation of 8 rotations with total 4 qubits, one of which is controlled by others."
   ]
  },
  {
   "cell_type": "code",
   "execution_count": 9,
   "metadata": {},
   "outputs": [
    {
     "name": "stdout",
     "output_type": "stream",
     "text": [
      "0.9807852804032304-0.1950903220161282    0.0    0.0    0.0    0.0    0.0    0.0    0.0    0.0    0.0    0.0    0.0    0.0    0.0    0.0\n",
      "0.19509032201612820.9807852804032304    0.0    0.0    0.0    0.0    0.0    0.0    0.0    0.0    0.0    0.0    0.0    0.0    0.0    0.0\n",
      "    0.0    0.00.9238795325112867-0.38268343236508984    0.0    0.0    0.0    0.0    0.0    0.0    0.0    0.0    0.0    0.0    0.0    0.0\n",
      "    0.0    0.00.382683432365089840.9238795325112867    0.0    0.0    0.0    0.0    0.0    0.0    0.0    0.0    0.0    0.0    0.0    0.0\n",
      "    0.0    0.0    0.0    0.00.8314696123025452-0.5555702330196022    0.0    0.0    0.0    0.0    0.0    0.0    0.0    0.0    0.0    0.0\n",
      "    0.0    0.0    0.0    0.00.55557023301960220.8314696123025452    0.0    0.0    0.0    0.0    0.0    0.0    0.0    0.0    0.0    0.0\n",
      "    0.0    0.0    0.0    0.0    0.0    0.00.7071067811865476-0.7071067811865476    0.0    0.0    0.0    0.0    0.0    0.0    0.0    0.0\n",
      "    0.0    0.0    0.0    0.0    0.0    0.00.70710678118654760.7071067811865476    0.0    0.0    0.0    0.0    0.0    0.0    0.0    0.0\n",
      "    0.0    0.0    0.0    0.0    0.0    0.0    0.0    0.00.5555702330196023-0.8314696123025452    0.0    0.0    0.0    0.0    0.0    0.0\n",
      "    0.0    0.0    0.0    0.0    0.0    0.0    0.0    0.00.83146961230254520.5555702330196023    0.0    0.0    0.0    0.0    0.0    0.0\n",
      "    0.0    0.0    0.0    0.0    0.0    0.0    0.0    0.0    0.0    0.00.3826834323650899-0.9238795325112867    0.0    0.0    0.0    0.0\n",
      "    0.0    0.0    0.0    0.0    0.0    0.0    0.0    0.0    0.0    0.00.92387953251128670.3826834323650899    0.0    0.0    0.0    0.0\n",
      "    0.0    0.0    0.0    0.0    0.0    0.0    0.0    0.0    0.0    0.0    0.0    0.00.19509032201612836-0.9807852804032304    0.0    0.0\n",
      "    0.0    0.0    0.0    0.0    0.0    0.0    0.0    0.0    0.0    0.0    0.0    0.00.98078528040323040.19509032201612836    0.0    0.0\n",
      "    0.0    0.0    0.0    0.0    0.0    0.0    0.0    0.0    0.0    0.0    0.0    0.0    0.0    0.0    0.0-1.0000000000000002\n",
      "    0.0    0.0    0.0    0.0    0.0    0.0    0.0    0.0    0.0    0.0    0.0    0.0    0.0    0.01.0000000000000002    0.0\n"
     ]
    },
    {
     "name": "stderr",
     "output_type": "stream",
     "text": [
      "<ipython-input-9-c6f3a984791e>:20: DeprecationWarning: The QuantumCircuit.cu3 method is deprecated as of 0.16.0. It will be removed no earlier than 3 months after the release date. You should use the QuantumCircuit.cu method instead, where cu3(ϴ,φ,λ) = cu(ϴ,φ,λ,0).\n",
      "  mycircuit12.cu3(angle/2,0,0,q3,q4)\n",
      "<ipython-input-9-c6f3a984791e>:22: DeprecationWarning: The QuantumCircuit.cu3 method is deprecated as of 0.16.0. It will be removed no earlier than 3 months after the release date. You should use the QuantumCircuit.cu method instead, where cu3(ϴ,φ,λ) = cu(ϴ,φ,λ,0).\n",
      "  mycircuit12.cu3(-angle/2,0,0,q3,q4)\n"
     ]
    }
   ],
   "source": [
    "from qiskit import QuantumRegister, ClassicalRegister, QuantumCircuit, execute, Aer\n",
    "from math import pi\n",
    "\n",
    "qreg12 =  QuantumRegister(4)\n",
    "creg12 = ClassicalRegister(4)\n",
    "\n",
    "theta1 = pi/16\n",
    "theta2 = 2*pi/16\n",
    "theta3 = 3*pi/16\n",
    "theta4 = 4*pi/16\n",
    "theta5 = 5*pi/16\n",
    "theta6 = 6*pi/16\n",
    "theta7 = 7*pi/16\n",
    "theta8 = 8*pi/16\n",
    "\n",
    "# define our quantum circuit\n",
    "mycircuit12 = QuantumCircuit(qreg12,creg12)\n",
    "\n",
    "def ccc_ry(angle,q1,q2,q3,q4):\n",
    "    mycircuit12.cu3(angle/2,0,0,q3,q4)\n",
    "    mycircuit12.ccx(q1,q2,q4)\n",
    "    mycircuit12.cu3(-angle/2,0,0,q3,q4)\n",
    "    mycircuit12.ccx(q1,q2,q4)\n",
    "    \n",
    "mycircuit12.x(qreg12[3])\n",
    "mycircuit12.x(qreg12[2])\n",
    "mycircuit12.x(qreg12[1])\n",
    "ccc_ry(2*theta1,qreg12[3],qreg12[2],qreg12[1],qreg12[0])\n",
    "mycircuit12.x(qreg12[1])\n",
    "mycircuit12.x(qreg12[2])\n",
    "mycircuit12.x(qreg12[3])\n",
    "\n",
    "mycircuit12.x(qreg12[3])\n",
    "mycircuit12.x(qreg12[2])\n",
    "#mycircuit12.x(qreg12[1])\n",
    "ccc_ry(2*theta2,qreg12[3],qreg12[2],qreg12[1],qreg12[0])\n",
    "#mycircuit12.x(qreg12[1])\n",
    "mycircuit12.x(qreg12[2])\n",
    "mycircuit12.x(qreg12[3])\n",
    "\n",
    "mycircuit12.x(qreg12[3])\n",
    "#mycircuit12.x(qreg12[2])\n",
    "mycircuit12.x(qreg12[1])\n",
    "ccc_ry(2*theta3,qreg12[3],qreg12[2],qreg12[1],qreg12[0])\n",
    "mycircuit12.x(qreg12[1])\n",
    "#mycircuit12.x(qreg12[2])\n",
    "mycircuit12.x(qreg12[3])\n",
    "\n",
    "mycircuit12.x(qreg12[3])\n",
    "#mycircuit12.x(qreg12[2])\n",
    "#mycircuit12.x(qreg12[1])\n",
    "ccc_ry(2*theta4,qreg12[3],qreg12[2],qreg12[1],qreg12[0])\n",
    "#mycircuit12.x(qreg12[1])\n",
    "#mycircuit12.x(qreg12[2])\n",
    "mycircuit12.x(qreg12[3])\n",
    "\n",
    "#mycircuit12.x(qreg12[3])\n",
    "mycircuit12.x(qreg12[2])\n",
    "mycircuit12.x(qreg12[1])\n",
    "ccc_ry(2*theta5,qreg12[3],qreg12[2],qreg12[1],qreg12[0])\n",
    "mycircuit12.x(qreg12[1])\n",
    "mycircuit12.x(qreg12[2])\n",
    "#mycircuit12.x(qreg12[3])\n",
    "\n",
    "#mycircuit12.x(qreg12[3])\n",
    "mycircuit12.x(qreg12[2])\n",
    "#mycircuit12.x(qreg12[1])\n",
    "ccc_ry(2*theta6,qreg12[3],qreg12[2],qreg12[1],qreg12[0])\n",
    "#mycircuit12.x(qreg12[1])\n",
    "mycircuit12.x(qreg12[2])\n",
    "#mycircuit12.x(qreg12[3])\n",
    "\n",
    "#mycircuit12.x(qreg12[3])\n",
    "#mycircuit12.x(qreg12[2])\n",
    "mycircuit12.x(qreg12[1])\n",
    "ccc_ry(2*theta7,qreg12[3],qreg12[2],qreg12[1],qreg12[0])\n",
    "mycircuit12.x(qreg12[1])\n",
    "#mycircuit12.x(qreg12[2])\n",
    "#mycircuit12.x(qreg12[3])\n",
    "\n",
    "#mycircuit12.x(qreg12[3])\n",
    "#mycircuit12.x(qreg12[2])\n",
    "#mycircuit12.x(qreg12[1])\n",
    "ccc_ry(2*theta8,qreg12[3],qreg12[2],qreg12[1],qreg12[0])\n",
    "#mycircuit12.x(qreg12[1])\n",
    "#mycircuit12.x(qreg12[2])\n",
    "#mycircuit12.x(qreg12[3])\n",
    "\n",
    "job = execute(mycircuit12,Aer.get_backend('unitary_simulator'),optimization_level=0)\n",
    "u=job.result().get_unitary(mycircuit12,decimals=3)\n",
    "for i in range(len(u)):\n",
    "    s=\"\"\n",
    "    for j in range(len(u)):\n",
    "        val = str(u[i][j].real)\n",
    "        while(len(val)<7): val  = \" \"+val\n",
    "        s = s + val\n",
    "    print(s)"
   ]
  },
  {
   "cell_type": "markdown",
   "metadata": {},
   "source": [
    "<h3>Task 9</h3>\n",
    "\n",
    "By using the discussed ideas, how many qubits can we have to implement 16 rotations in parallel?\n",
    "\n",
    "Please specify the number of control qubits and auxiliary qubits."
   ]
  },
  {
   "cell_type": "markdown",
   "metadata": {},
   "source": [
    "<h3>Solution</h3>"
   ]
  },
  {
   "cell_type": "markdown",
   "metadata": {},
   "source": [
    "For 16 rotations, we use 4 control qubits and 1 target qubit.\n",
    "\n",
    "We can use 2 control qubits to control the NOT operation (CC-NOT gate). \n",
    "\n",
    "The remaining 2 control qubits can control the auxiliary qubit, that is used as a controller for rotations. \n",
    "\n",
    "Then, the auxiliary qubit can be used to control the rotations on the targed qubit.\n",
    "\n",
    "So, we need 4 control + 1 target + 1 auxiliary = 6 total qubits."
   ]
  }
 ],
 "metadata": {
  "kernelspec": {
   "display_name": "Python 3",
   "language": "python",
   "name": "python3"
  },
  "language_info": {
   "codemirror_mode": {
    "name": "ipython",
    "version": 3
   },
   "file_extension": ".py",
   "mimetype": "text/x-python",
   "name": "python",
   "nbconvert_exporter": "python",
   "pygments_lexer": "ipython3",
   "version": "3.8.3"
  }
 },
 "nbformat": 4,
 "nbformat_minor": 4
}
