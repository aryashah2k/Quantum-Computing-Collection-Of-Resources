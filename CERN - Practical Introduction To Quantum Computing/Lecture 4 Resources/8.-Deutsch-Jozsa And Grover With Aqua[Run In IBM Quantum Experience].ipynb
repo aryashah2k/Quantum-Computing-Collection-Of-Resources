{
 "cells": [
  {
   "cell_type": "markdown",
   "metadata": {},
   "source": [
    "# Deutsch-Jozsa and Grover with Aqua"
   ]
  },
  {
   "cell_type": "markdown",
   "metadata": {},
   "source": [
    "The Aqua library in Qiskit implements some common algorithms so that they can be used without needing to program the circuits for each case. In this notebook, we will show how we can use the Deutsch-Jozsa and Grover algorithms."
   ]
  },
  {
   "cell_type": "markdown",
   "metadata": {},
   "source": [
    "## Detusch-Jozsa"
   ]
  },
  {
   "cell_type": "markdown",
   "metadata": {},
   "source": [
    "To use the Deutsch-Jozsa algorithm, we need to import some extra packages in addition to the ones we have been using."
   ]
  },
  {
   "cell_type": "code",
   "execution_count": 1,
   "metadata": {},
   "outputs": [],
   "source": [
    "%matplotlib inline\n",
    "\n",
    "from qiskit import *\n",
    "from qiskit.visualization import *\n",
    "from qiskit.tools.monitor import *\n",
    "from qiskit.aqua import *\n",
    "from qiskit.aqua.components.oracles import *\n",
    "from qiskit.aqua.algorithms import *"
   ]
  },
  {
   "cell_type": "markdown",
   "metadata": {},
   "source": [
    "To specify the elements of the Deutsch-Jozsa algorithm, we must use an oracle (the function that we need to test to see if it is constant or balanced). Aqua offers the possibility of defining this oracle at a high level, without giving the actual quantum gates, with *TruthTableOracle*.\n",
    "\n",
    "*TruthTableOracle* receives a string of zeroes and ones of length $2^n$ that sets what are the values of the oracle for the $2^n$ binary strings in lexicographical order. For example, with the string 0101 we will have a boolean function that is 0 on 00 and 10 but 1 on 01 and 11 (and, thus, it is balanced)."
   ]
  },
  {
   "cell_type": "code",
   "execution_count": 2,
   "metadata": {},
   "outputs": [
    {
     "data": {
      "image/png": "[encoded data removed]",
      "text/plain": [
       "<Figure size 326.67x204.68 with 1 Axes>"
      ]
     },
     "execution_count": 2,
     "metadata": {},
     "output_type": "execute_result"
    }
   ],
   "source": [
    "oracle = TruthTableOracle(\"0101\")\n",
    "oracle.construct_circuit().draw(output='mpl')"
   ]
  },
  {
   "cell_type": "markdown",
   "metadata": {},
   "source": [
    "Once we have defined the oracle, we can easily create an instance of the Deutsch-Jozsa algorithm and draw the circuit."
   ]
  },
  {
   "cell_type": "code",
   "execution_count": 3,
   "metadata": {},
   "outputs": [
    {
     "data": {
      "image/png": "[encoded data removed]",
      "text/plain": [
       "<Figure size 748.07x264.88 with 1 Axes>"
      ]
     },
     "execution_count": 3,
     "metadata": {},
     "output_type": "execute_result"
    }
   ],
   "source": [
    "dj = DeutschJozsa(oracle)\n",
    "dj.construct_circuit(measurement=True).draw(output='mpl')"
   ]
  },
  {
   "cell_type": "markdown",
   "metadata": {},
   "source": [
    "Obviously, we could execute this circuit on any backend. However, Aqua specifies some extra elements in addition to the circuit, as for instance how the results are to be interpreted.\n",
    "\n",
    "To execute a quantum algorithm in Aqua, we need to pass it a *QuantumInstance* (which includes the backend and possibly other settings) and the algorithm will use it as many times as need. The result will include information about the execution and, in the case of Deutsch-Jozsa, the final veredict."
   ]
  },
  {
   "cell_type": "code",
   "execution_count": 4,
   "metadata": {},
   "outputs": [
    {
     "name": "stdout",
     "output_type": "stream",
     "text": [
      "{'measurement': {'01': 1024}, 'result': 'balanced'}\n"
     ]
    }
   ],
   "source": [
    "backend = Aer.get_backend('qasm_simulator')\n",
    "quantum_instance = QuantumInstance(backend)\n",
    "result = dj.run(quantum_instance)\n",
    "print(result)"
   ]
  },
  {
   "cell_type": "markdown",
   "metadata": {},
   "source": [
    "Let us check that it also works with constant functions."
   ]
  },
  {
   "cell_type": "code",
   "execution_count": 5,
   "metadata": {},
   "outputs": [
    {
     "name": "stdout",
     "output_type": "stream",
     "text": [
      "The function is constant\n"
     ]
    }
   ],
   "source": [
    "oracle2 = TruthTableOracle('00000000')\n",
    "dj2 = DeutschJozsa(oracle2)\n",
    "result = dj2.run(quantum_instance)\n",
    "print(\"The function is\",result['result'])"
   ]
  },
  {
   "cell_type": "markdown",
   "metadata": {},
   "source": [
    "# Grover"
   ]
  },
  {
   "cell_type": "markdown",
   "metadata": {},
   "source": [
    "As in the case of Deutsch-Jozsa, for the Aqua implementation of Grover's algorithm we need to provide an oracle. We can also specify the number of iterations."
   ]
  },
  {
   "cell_type": "code",
   "execution_count": 6,
   "metadata": {},
   "outputs": [],
   "source": [
    "backend = Aer.get_backend('qasm_simulator')\n",
    "oracle3 = TruthTableOracle('0001')\n",
    "g = Grover(oracle3, iterations=1)"
   ]
  },
  {
   "cell_type": "markdown",
   "metadata": {},
   "source": [
    "The execution is also similar to the one of Deutsch-Jozsa"
   ]
  },
  {
   "cell_type": "code",
   "execution_count": 7,
   "metadata": {},
   "outputs": [
    {
     "name": "stdout",
     "output_type": "stream",
     "text": [
      "{'measurement': {'11': 1024}, 'top_measurement': '11', 'circuit': <qiskit.circuit.quantumcircuit.QuantumCircuit object at 0x7f24168f9210>, 'assignment': [1, 2], 'oracle_evaluation': True}\n"
     ]
    }
   ],
   "source": [
    "result = g.run(quantum_instance)\n",
    "print(result)"
   ]
  },
  {
   "cell_type": "markdown",
   "metadata": {},
   "source": [
    "It can also be interesting to use oracles that we construct from logical expressions"
   ]
  },
  {
   "cell_type": "code",
   "execution_count": 8,
   "metadata": {},
   "outputs": [
    {
     "name": "stdout",
     "output_type": "stream",
     "text": [
      "{'measurement': {'0000': 28, '0001': 23, '0010': 157, '0011': 26, '0100': 22, '0101': 25, '0110': 22, '0111': 22, '1000': 30, '1001': 24, '1010': 20, '1011': 137, '1100': 161, '1101': 157, '1110': 29, '1111': 141}, 'top_measurement': '1100', 'circuit': <qiskit.circuit.quantumcircuit.QuantumCircuit object at 0x7f2417469e90>, 'assignment': [-1, -2, 3, 4], 'oracle_evaluation': True}\n"
     ]
    }
   ],
   "source": [
    "expression = '(x | y) & (~y | z) & (~x | ~z | w) & (~x | y | z | ~w)'\n",
    "oracle4 = LogicalExpressionOracle(expression)\n",
    "g2 = Grover(oracle4, iterations = 3)\n",
    "result = g2.run(quantum_instance)\n",
    "print(result)"
   ]
  },
  {
   "cell_type": "markdown",
   "metadata": {},
   "source": [
    "If we do not know the number of solutions or if we do not want to specify the number of iterations, we can use the incremenal mode, that allows us to find a solution in time $O(\\sqrt{N})$."
   ]
  },
  {
   "cell_type": "code",
   "execution_count": 9,
   "metadata": {},
   "outputs": [
    {
     "name": "stdout",
     "output_type": "stream",
     "text": [
      "{'measurement': {'0000': 387, '0001': 17, '0010': 15, '0011': 17, '0100': 13, '0101': 9, '0110': 15, '0111': 11, '1000': 14, '1001': 20, '1010': 11, '1011': 16, '1100': 24, '1101': 16, '1110': 15, '1111': 424}, 'top_measurement': '1111', 'circuit': <qiskit.circuit.quantumcircuit.QuantumCircuit object at 0x7f2438677410>, 'assignment': [1, 2, 3, 4], 'oracle_evaluation': True}\n"
     ]
    }
   ],
   "source": [
    "backend = Aer.get_backend('qasm_simulator')\n",
    "expression2 = '(x & y & z & w) | (~x & ~y & ~z & ~w)'\n",
    "#expression2 = '(x & y) | (~x & ~y)'\n",
    "oracle5 = LogicalExpressionOracle(expression2, optimization = True)\n",
    "g3 = Grover(oracle5, incremental = True)\n",
    "result = g3.run(quantum_instance)\n",
    "print(result)"
   ]
  }
 ],
 "metadata": {
  "kernelspec": {
   "display_name": "Python 3",
   "language": "python",
   "name": "python3"
  },
  "language_info": {
   "codemirror_mode": {
    "name": "ipython",
    "version": 3
   },
   "file_extension": ".py",
   "mimetype": "text/x-python",
   "name": "python",
   "nbconvert_exporter": "python",
   "pygments_lexer": "ipython3",
   "version": "3.7.8"
  }
 },
 "nbformat": 4,
 "nbformat_minor": 4
}
