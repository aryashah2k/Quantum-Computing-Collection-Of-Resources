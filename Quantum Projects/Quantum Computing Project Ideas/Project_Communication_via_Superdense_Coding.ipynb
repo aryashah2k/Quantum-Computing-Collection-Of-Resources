{
  "cells": [
    {
      "cell_type": "markdown",
      "source": [
        "## Project | Communication via Superdense Coding\n",
        "\n",
        "We simulate the communication between Asja and Balvis by using the superdense coding protocol.\n",
        "\n",
        "- _Please do not use any quantum programming library or any scientific python library such as `NumPy`._\n",
        "- _Each qubit starts in state $ \\ket{0} $, and each quantum operator should be implemented one by one._\n",
        "- _The quantum state of a pair of qubits should not be set automatically to certain quantum states._\n",
        "- _For each pair of qubits, its computation is traced by a 4-dimensional vector and each quantum operator is represented as a 4x4-dimensional matrix._\n",
        "- _Please write your own code for matrix multiplication and tensoring matrices._\n",
        "\n",
        "In this project, two classes will be defined. The first class is for one-way communication and the second class is for two-way communication. "
      ],
      "metadata": {}
    },
    {
      "cell_type": "markdown",
      "source": [
        "### Example scenarios\n",
        "\n",
        "Here are a few scenarios to give some ideas before starting coding:\n",
        "- The message is a time in 24 hour format, e.g., 17:24\n",
        "- The message is a time in 12 hour format, e.g., 11:24 pm\n",
        "- The message is a day in 2020, e.g., April 09, 2020\n",
        "- The message is a plate number in the form of XY1234\n",
        "\n",
        "Binary encoding of each scenario should be decided by the designer. "
      ],
      "metadata": {}
    },
    {
      "cell_type": "markdown",
      "source": [
        "### Create a python class called `one_way_comm(alphabet,message_length)`\n",
        "\n",
        "For each pair of classical bits, a pair of qubits should be used. "
      ],
      "metadata": {}
    },
    {
      "cell_type": "markdown",
      "source": [
        "#### The methods\n",
        "\n",
        "Each method should be called in the given order. Otherwise, an error should be returned with a warning message. \n",
        "\n",
        "1. `create_qubits()`: Define as many qubits as Asja should be able to send any classical message (defined on the given alphabet) with the specified length to Balvis. All qubits should be paired (one is for Asja and the other one is for Balvis) and then enumareted.\n",
        "\n",
        "1. `create_entanglements()`: Create entanglements between the paired qubits.\n",
        "\n",
        "1. `balvis_travels()`: Assume that Balvis takes his qubits and go away.\n",
        "\n",
        "1. `asja_get_message(classical_message)`: Asja recieves a classical text message from the user.\n",
        "\n",
        "1. `asja_prepares_qubits()`: Apply quantum operators to Asja’s qubit based on the classical message.\n",
        "\n",
        "1. `asja_sends_qubits(the_number_of_qubits)`: Balvis recieves the specified number of qubits from Asja. \n",
        "\n",
        "1. `balvis_prepares_qubits()`: Apply quantum operators to the pair qubits before the measurement operators.\n",
        "\n",
        "1. `balvis_measures_qubits()`: Measure each pair and decode the classical text message.\n",
        "\n",
        "1. `balvis_prints_message()`: Print the decoded message "
      ],
      "metadata": {}
    },
    {
      "cell_type": "markdown",
      "source": [
        "### Create a python class called `two_way_comm(alphabet,max_message_length)`\n",
        "\n",
        "In the initial round, Asja sends a classical message to Balvis. In the next round, Balvis can send a classical message to Asja. The two-way communication alternates between Asja and Balvis until all pairs of entangled qubits are used.\n",
        "\n",
        "The methods for the class of one-way communications are kept and new ones are created to implement two-way communications.\n",
        "- The methods `create_qubits()`, `create_entanglements()`, and  `balvis_travels()` should not be called more than once. \n",
        "- For each of the other methods given above, the new class should have an additional method where Asja and Balvis interchange their roles."
      ],
      "metadata": {}
    }
  ],
  "metadata": {
    "kernelspec": {
      "display_name": "Python 3",
      "language": "python",
      "name": "python3"
    },
    "language_info": {
      "codemirror_mode": {
        "name": "ipython",
        "version": 3
      },
      "file_extension": ".py",
      "mimetype": "text/x-python",
      "name": "python",
      "nbconvert_exporter": "python",
      "pygments_lexer": "ipython3",
      "version": "3.7.1"
    },
    "nteract": {
      "version": "0.27.0"
    }
  },
  "nbformat": 4,
  "nbformat_minor": 2
}