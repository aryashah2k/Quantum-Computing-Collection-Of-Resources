{
  "cells": [
    {
      "cell_type": "markdown",
      "source": [
        "<h2>Project | Correlation Game</h2>\n",
        "\n",
        "We play a correlation game with classical bits. \n",
        "\n",
        "_We represent the basis state by using brackets such as $ \\bstate{0} $ or $ \\bstate{10} $._"
      ],
      "metadata": {}
    },
    {
      "cell_type": "markdown",
      "source": [
        "### Create a python class called `CorrelationGame()`\n",
        "Each instance of this class refers to a single probabilistic system. When an instance is created, it has a single bit that is in state $ \\onehalf \\bstate{0} + \\onehalf \\bstate{1} $.\n",
        "\n",
        "This class allows us to add new bits and also remove the existing bit(s). \n",
        "\n",
        "The bits are enumerated starting from 0, and they are denoted $ b_0, b_1,\\ldots,b_n $. The state of system is kept as a linear combination of the basis states, e.g., $ \\onehalf \\bstate{01100} + \\onehalf \\bstate{11110} $.\n"
      ],
      "metadata": {}
    },
    {
      "cell_type": "markdown",
      "source": [
        "### The methods\n",
        "\n",
        "1. `add_a_new_bit(state_value=-1)`: Add a new classical bit in the specified state (pick the state randomly if state_value is -1) to the system. For example, if the system is in state $ \\onehalf \\bstate{0} + \\onehalf \\bstate{1} $ and the method `add_a_new_bit(1)` is called, then the state of the system will be $ \\onehalf \\bstate{01} + \\onehalf \\bstate{11}  $. Remark that the index of the new bit will be the number of previous bits.\n",
        "\n",
        "1. `print_state()`: Print the state of the system as a linear combination of the basis states. \n",
        "\n",
        "1. `print_state_vector()`: Print the state of the system as a list corresponding to the state vector.\n",
        "\n",
        "1. `not(index_of_bit)`: Apply the NOT operator on the specified bit.\n",
        "\n",
        "1. `cnot(control_bit,target_bit)`: Apply a CNOT operator on the specified bits.\n",
        "\n",
        "1. `random_cnot()`: Apply a CNOT operator on two randomly picked bits.\n",
        "\n",
        "1. `is_correlated(index_of_bit)`: Determine whether the specified bit is part of the correlation.\n",
        "\n",
        "1. `uncorrelated_bits()`: Return the list of uncorrelated bits.\n",
        "\n",
        "1. `correlated_bits()`: Return the list of correlated bits.\n",
        "\n",
        "1. `create_correlations()`: For each uncorrelated bit, say $ b_j $, a bit among the correlated bits is randomly picked, say $b_i$, and CNOT(i,j) is applied.\n",
        "\n",
        "1. `remove_an_uncorrelated_bit()`: Do nothing if there is a single bit in the system. Randomly pick an uncorrelated bit, remove it from the system, update the state vector accordingly, and return the value of the removed bit.\n",
        "\n",
        "1. `remove_uncorrelated_bits()`: Do nothing if there is a single bit in the system. Remove all uncorrelated bits from the system and update the state vector accordingly as long as there is more than one bit."
      ],
      "metadata": {}
    },
    {
      "cell_type": "markdown",
      "source": [
        "### Test\n",
        "\n",
        "#### Scenario 1\n",
        "\n",
        "Create an instance of your class and set $ n = 10 $\n",
        "- Add $ n $ bits with random values 0 or 1 \n",
        "- Correlate all bits\n",
        "- Repeat until a single bit remains\n",
        "    * Apply $ (n-1) $ CNOT operators on the pair of randomly picked bits\n",
        "    * Find the uncorrelated bits, remove them from the system, and then update n."
      ],
      "metadata": {}
    }
  ],
  "metadata": {
    "kernelspec": {
      "display_name": "Python 3",
      "language": "python",
      "name": "python3"
    },
    "language_info": {
      "codemirror_mode": {
        "name": "ipython",
        "version": 3
      },
      "file_extension": ".py",
      "mimetype": "text/x-python",
      "name": "python",
      "nbconvert_exporter": "python",
      "pygments_lexer": "ipython3",
      "version": "3.7.1"
    },
    "nteract": {
      "version": "0.27.0"
    }
  },
  "nbformat": 4,
  "nbformat_minor": 2
}