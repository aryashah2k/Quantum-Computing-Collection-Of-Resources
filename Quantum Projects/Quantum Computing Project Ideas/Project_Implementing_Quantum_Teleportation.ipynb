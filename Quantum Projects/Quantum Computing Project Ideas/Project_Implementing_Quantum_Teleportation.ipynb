{
  "cells": [
    {
      "cell_type": "markdown",
      "source": [
        "## Project | Implementing Quantum Teleportation\n",
        "\n",
        "We simulate the standard quantum teleportation protocol between Asja to Balvis.\n",
        "\n",
        "- _Please do not use any quantum programming library or any scientific python library such as `NumPy`._\n",
        "- _Each qubit starts in state $ \\ket{0} $, and each quantum operator should be implemented one by one._\n",
        "- _The state of quantum system should not be set automatically to certain quantum states._\n",
        "- _Please write your own code for matrix multiplication and tensoring matrices._"
      ],
      "metadata": {}
    },
    {
      "cell_type": "markdown",
      "source": [
        "### Create a python class called `quantum_teleportation`\n",
        "\n",
        "This class simulates a quantum system with three qubits. Asja has the qubits $q_2$ and $q_1$ and Balvis has the qubit $q_0$. The computation of your system is traced by a 8-dimensional vector and so each quantum operator is represented as a ($8 \\times 8$)-dimensional matrix. The qubits are combined as $ q_2 \\otimes q_1 \\otimes q_0 $."
      ],
      "metadata": {}
    },
    {
      "cell_type": "markdown",
      "source": [
        "### The methods\n",
        "\n",
        "For each new instance, the state of $q_2$ is set to a random (real-valued) quantum state. \n",
        "\n",
        "1. `print_quantum_message()`: Print the initial quantum state of $ q_2 $.\n",
        "\n",
        "1. `print_state()`: Print the state of system. \n",
        "\n",
        "Each method given below should be called in the given order. Otherwise, an error should be returned with a warning message. \n",
        "\n",
        "_The state of the system should be updated after each quantum operator including the measurements on $ q_2 $ and $q_1$._\n",
        "\n",
        "3. `create_entanglement()`: Create entanglements between the qubits $q_1$ and $q_0$.\n",
        "\n",
        "1. `balvis_travels()`: Assume that Balvis takes his qubits and go away.\n",
        "\n",
        "1. `asja_measures()`: Asja measures her qubits $q_2$ and $q_1$ and return the measurement outcomes. Remark that the qubit $ q_0 $ is not measured. \n",
        "\n",
        "Asja observes one of these four results: `00`, `01`, `10`, or `11`. \n",
        "To implement this measurement operator, we define four different matrices: $ M_{00} $, $ M_{01} $, $ M_{10} $, and $M_{11}$, where $ M_{ab}$ = $ (\\ket{ab}\\bra{ab}) \\otimes I_2 $ is a ($ 8 \\times 8 $)-dimensional matrix.\n",
        "- Remark that $ \\ket{ab} $ is a 4-dimensional column vector and $ \\bra{ab} $ is the (conjugate) transpose of $ \\ket{ab} $, which is a 4-dimensional row vector. \n",
        "- Therefore, $ \\ket{ab}\\bra{ab} $ is a matrix multiplication and the result is a ($4 \\times 4$)-dimensional matrix.\n",
        "- $I_2$ is the 2x2-dimensional identity matrix. \n",
        "\n",
        "Let $\\ket{v}$ be the state vector before the measurement. Each outcome has the same probability (1/4) in our case. One of them is selected randomly, say `01`. The new state becomes the normalized version of the vector that is obtained by $ \\ket{\\widetilde{v_{01}}} = M_{01} \\ket{v} $, i.e., the length of $\\ket{\\widetilde{v_{01}}}$ is less than 1 and so this vector must be multiplied with a factor to make its length 1.\n",
        "\n",
        "6. `asja_sends_measument_outcomes(outcome)`: Asja sends the measurement outcomes to Balvis such as `10`.\n",
        "\n",
        "1. `balvis_post_processing()`: Apply post-processing quantum operators to Balvis’ qubit (if necessary) depending on the measurement outcomes recivied from Asja.\n",
        "\n",
        "Test your class by checking the quantum state after each step and also verify whether the quantum message prepared by Asja is teleported to Balvis' qubit or not."
      ],
      "metadata": {}
    }
  ],
  "metadata": {
    "kernelspec": {
      "display_name": "Python 3",
      "language": "python",
      "name": "python3"
    },
    "language_info": {
      "codemirror_mode": {
        "name": "ipython",
        "version": 3
      },
      "file_extension": ".py",
      "mimetype": "text/x-python",
      "name": "python",
      "nbconvert_exporter": "python",
      "pygments_lexer": "ipython3",
      "version": "3.7.1"
    },
    "nteract": {
      "version": "0.27.0"
    }
  },
  "nbformat": 4,
  "nbformat_minor": 2
}