{
  "cells": [
    {
      "cell_type": "markdown",
      "source": [
        "<h2>Project | Simulating a Real-Valued Qubit</h2>\n",
        "\n",
        "We play with a single qubit living on the unit circle.\n",
        "\n",
        "- _All angles are in radian._\n",
        "- _Please do not use any quantum programming library or any scientific python library such as `NumPy`._\n",
        "- _You can use python module `math` and python interface `matplotlib.pyplot`._"
      ],
      "metadata": {}
    },
    {
      "cell_type": "markdown",
      "source": [
        "### Create a python class called `SingleQubit(theta=0)`\n",
        "\n",
        "When an instance is created, the quantum state of qubit is set to the specified angle _theta_. If no angle is specified by the user, then the initial state of the qubit will be $\\ket{0}$. "
      ],
      "metadata": {}
    },
    {
      "cell_type": "markdown",
      "source": [
        "### The basic methods\n",
        "\n",
        "1. `read_state()`: Return the current quantum state of the qubit.\n",
        "\n",
        "1. `rotation(theta)`: Update the current quantum state by applying the rotation operator with the angle _theta_.\n",
        "\n",
        "1. `reflection(theta)`: Update the current quantum state by applying the reflection operator having a reflection axis with angle _theta_.\n",
        "\n",
        "1. `draw_state()`: Draw the current quantum state as an arrow on the unit circle.\n",
        "\n",
        "1. `draw_all_states()`: Draw all the quantum states visited on the unit circle starting from the initial one by indicating their visited orders.\n",
        "\n",
        "1. `reflect_and_draw(theta)`: Draw the unit circle, the current quantum state, the reflection line of the reflection operator, apply the method `reflection(theta)` to the current quantum state, and draw the new quantum state.\n",
        "\n",
        "1. `prob()`: Return the probabilities of observing state 0 and state 1 if the qubit is measured at this moment.\n",
        "\n",
        "1. `measure(number_of_shots)`: Simulate the measurement operator _number_of_shots_ times based on the current quantum state, and then return the number(s) of the observed 0’s and 1’s (remark that only a single state is observed after each measurement, i.e., either 0 or 1)."
      ],
      "metadata": {}
    },
    {
      "cell_type": "markdown",
      "source": [
        "### The extra methods\n",
        "\n",
        "9. `change_basis(theta)`: Return an error if the basis will remain the same. Change the basis of qubit with the unit vectors $ \\ket{v_1} $ and $ \\ket{v_2} $ such that \n",
        "    - the angles of $ \\ket{v_1} $ and $ \\ket{v_2} $ are $ \\theta $ and $ \\theta + \\frac{\\pi}{2} $ in the standard basis, respectively, and \n",
        "    - $\\ket{v_1}$ becomes the new $ \\ket{0} $ and $ \\ket{v_2} $ becomes the new $ \\ket{1} $; and then,   \n",
        "update all visited quantum states until now respectively, i.e, each quantum state in the standard basis should be shifted by $ -\\theta $.\n",
        "\n",
        "2. `draw_state_in_both_basis()`: Return an error if the basis has not changed. Draw two separete unit circles where the basis are the current basis and the previous basis, and then draw the current quantum state as an arrow on each unit circle.\n",
        "\n",
        "3. `prob_in_both_basis()`: Return an error if the basis has not changed. Return the probabilities of observing state 0 and state 1 in the current and previous bases.\n",
        "\n",
        "4. `take_back_basis_change()`: Do nothing if there is no basis change. Return back to the previous basis by deleting the latest call of `change_basis()` from the basis history. On the other hand, any quantum state visited after the latest call of `change_basis()` must be kept."
      ],
      "metadata": {}
    }
  ],
  "metadata": {
    "kernelspec": {
      "display_name": "Python 3",
      "language": "python",
      "name": "python3"
    },
    "language_info": {
      "codemirror_mode": {
        "name": "ipython",
        "version": 3
      },
      "file_extension": ".py",
      "mimetype": "text/x-python",
      "name": "python",
      "nbconvert_exporter": "python",
      "pygments_lexer": "ipython3",
      "version": "3.7.1"
    },
    "nteract": {
      "version": "0.27.0"
    }
  },
  "nbformat": 4,
  "nbformat_minor": 2
}