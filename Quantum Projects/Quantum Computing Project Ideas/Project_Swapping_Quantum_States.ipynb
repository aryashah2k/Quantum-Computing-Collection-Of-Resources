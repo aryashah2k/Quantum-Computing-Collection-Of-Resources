{
  "cells": [
    {
      "cell_type": "markdown",
      "source": [
        "## Project | Swapping Quantum States\n",
        "\n",
        "We swap the states of the qubits placed on a two dimensinal graph.\n",
        "\n",
        "We use a single quantum operator: Controlled-NOT ($CNOT$).\n",
        "\n",
        "- _Please do not use any quantum programming library or any scientific python library such as `NumPy`._\n",
        "- _Please write your own codes for matrix-vector multiplication._"
      ],
      "metadata": {}
    },
    {
      "cell_type": "markdown",
      "source": [
        "### Create a python class called `SwappingGame()`\n",
        "\n",
        "<img src=\"../images/seven_qubits.png\" width=\"200px\" align=\"right\" style=\"margin:20px;\">\n",
        "\n",
        "We have 7 qubits placed on a graph as shown on the right: $ q_{-3} $, $q_{-2}$, $q_{-1}$, $q_{0}$, $q_{+1}$, $q_{+2}$, and $q_{+3} $.\n",
        "\n",
        "We are allowed to implement only $ CNOT $ operators, and a $ CNOT $ operator is directly applicable to the neighbor qubits, i.e., two qubits are neighbors if  there is an edge (line) between them. For example a $ CNOT $ operator can be applied to the qubits $q_{-3}$ and $ q_{-1} $ or $q_0$ and $q_{+1}$ or $q_{+1}$ and $q_{+2}$, but a $ CNOT $ operator cannot be directly applied to the qubits $q_{-1}$ and $q_{+1}$. \n",
        "\n",
        "#### The quantum system\n",
        "\n",
        "These 7 qubits form a single quantum system. Then, the quantum state of the system is represented by a $2^7$-dimensional vector (list) and so each quantum operator is represented by a ($2^7 \\times 2^7$)-dimensional matrix (double dimensinal list).\n",
        "\n",
        "The system should be simulated as a whole:\n",
        "- The simulation of the whole system should not be done by separately simulating each qubit or pairs of qubits and then combine them.\n",
        "- The aim here is to experience the simultion of generic quantum systems.\n",
        "    \n",
        "There are 6 pairs of the neighbor qubits, and so 12 different $ CNOT $ operators should be applied to this system:\n",
        "- $ CNOT(i,j) $ is the $ CNOT $ operator applied to the control qubit $ q_i $ and the target qubit $q_j $.\n",
        "\n",
        "#### Initialization\n",
        "\n",
        "When an instance of the class is created, an angle, say $\\theta$, is randomly picked in the interval $(0,\\pi/6)$. \n",
        "\n",
        "The quantum state of the qubit $ q_i $, say $\\ket{v_i}$, is set to the state $ \\myvector{\\cos \\theta \\\\ \\sin \\theta} $."
      ],
      "metadata": {}
    },
    {
      "cell_type": "markdown",
      "source": [
        "### The main method `swap(*,*)`\n",
        "\n",
        "This class has one main method called `swap(i,j)` for $i,j \\in \\{-3,\\ldots,3\\} $, which swaps the states of the qubits $ q_i $ and $ q_j $."
      ],
      "metadata": {}
    },
    {
      "cell_type": "markdown",
      "source": [
        "#### The auxiliary method `swap_neighbors(*,*)`\n",
        "\n",
        "An auxiliary method called `swap_neighbors(i,j)` is defined to swap the states of the neighbor qubits $ q_i $ and $ q_j $. This method gives a warning message whenever the qubits $ q_i $ and $ q_j $ are not neighbors.\n",
        "\n",
        "Whenever two qubits are not neighbor, we will use a series of `swap_neighbors(*,*)` to the qubits on a path connecting them. For example, the states of the qubits $ q_{+2} $ and $ q_{-3} $ can be swaped as described below. Assume that the state of $ q_{i} $ is $ \\ket{v_i} $ before starting.\n",
        "-  After `swap_neighbors(2,1)`, the states of $ q_{+2} $ and $ q_{+1} $ are $ \\ket{v_1} $ and $ \\ket{v_2} $, respectively.\n",
        "-  After `swap_neighbors(1,0)`, the states of $ q_{+1} $ and $ q_{0} $ are $ \\ket{v_0} $ and $ \\ket{v_2} $, respectively.\n",
        "-  After `swap_neighbors(0,-1)`, the states of $ q_{0} $ and $ q_{-1} $ are $ \\ket{v_{-1}} $ and $ \\ket{v_2} $, respectively.\n",
        "-  After `swap_neighbors(-1,-3)`, the states of $ q_{-1} $ and $ q_{-3} $ are $ \\ket{v_{-3}} $ and $ \\ket{v_2} $, respectively.\n",
        "\\\n",
        "Now, the current state of qubit $q_{-3}$ is $ \\ket{v_{2}} $ as desired. \n",
        "-  After `swap_neighbors(-1,0)`, the states of $ q_{-1} $ and $ q_{0} $ are $ \\ket{v_{-1}} $ and $ \\ket{v_{-3}} $, respectively.\n",
        "-  After `swap_neighbors(0,1)`, the states of $ q_{0} $ and $ q_{1} $ are $ \\ket{v_{0}} $ and $ \\ket{v_{-3}} $, respectively.\n",
        "-  After `swap_neighbors(1,2)`, the states of $ q_{1} $ and $ q_{2} $ are $ \\ket{v_{1}} $ and $ \\ket{v_{-3}} $, respectively.\n",
        "\\\n",
        "And now, the current state of qubit $ q_2 $ is $ \\ket{v_{-3}} $.\n",
        "\\\n",
        "Besides, the state of each other qubit is the same as in the beginning.\n",
        "\n",
        "\n",
        "#### Implementing `swap_neighbors(*,*)`\n",
        "\n",
        "Thw swap operator between two neighbor qubits, say $q_i$ and $q_j$ is implemented by three $ CNOT $ operators:\n",
        "\n",
        "    CNOT(i,j)\n",
        "    CNOT(j,i)\n",
        "    CNOT(i,j)\n",
        "\n",
        "*You may verify the correctness of this method by using the basis states $ \\ket{00} $, $ \\ket{01} $, $ \\ket{10} $, and $ \\ket{11} $.*\n",
        "\n",
        "This method multiplies the current quantum state with the three matrices representing these $ CNOT $ operators."
      ],
      "metadata": {}
    },
    {
      "cell_type": "markdown",
      "source": [
        "### Verify the calculations\n",
        "\n",
        "One way to verify the correctness of the operators is to keep the current quantum state of each qubit separately in a list, say `list_of_states`. Then, after each swap operator on the neighbors, the state of system is compared with the tensor product of the states of qubits in the appropriate order. \n",
        "\n",
        "For auto verification, the class can have additional methods such as printing the content of `list_of_states`, tensoring the states in `list_of_states`, making the aforementioned comparisons, etc."
      ],
      "metadata": {}
    }
  ],
  "metadata": {
    "kernelspec": {
      "display_name": "Python 3",
      "language": "python",
      "name": "python3"
    },
    "language_info": {
      "codemirror_mode": {
        "name": "ipython",
        "version": 3
      },
      "file_extension": ".py",
      "mimetype": "text/x-python",
      "name": "python",
      "nbconvert_exporter": "python",
      "pygments_lexer": "ipython3",
      "version": "3.7.1"
    },
    "nteract": {
      "version": "0.27.0"
    }
  },
  "nbformat": 4,
  "nbformat_minor": 2
}