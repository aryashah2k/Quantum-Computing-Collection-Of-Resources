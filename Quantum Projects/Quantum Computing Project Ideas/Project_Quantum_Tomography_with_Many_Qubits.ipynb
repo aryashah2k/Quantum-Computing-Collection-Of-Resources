{
  "cells": [
    {
      "cell_type": "markdown",
      "source": [
        "<h2>Project | Quantum Tomography with Many Qubits</h2>\n",
        "\n",
        "We design a simple python object for experimenting quantum tomography on multiple qubits.\n",
        "\n",
        "This will be the extension of the class given in our notebook [Quantum Tomography](../bronze/B48_Quantum_Tomography.ipynb).\n",
        "\n",
        "_All angles must be in radian._"
      ],
      "metadata": {}
    },
    {
      "cell_type": "markdown",
      "source": [
        "### Create a python class called `UnknownQuantumSystem(the_number_of_qubits=2)`\n",
        "\n",
        "Any instance refers to a quantum system with the specified number of qubits, which is a two qubits system if not specified.\n",
        "\n",
        "Each qubit of this system will be set to an quantum state specified with an angle in $ [0,\\pi) $.\n",
        "\n",
        "The instance will have 1000 identical copies of this system. (You may ask the number of copies from the user.) \n",
        "\n",
        "You can define the methods of this class similar to the ones defined for “unknown_qubit()”  so that any user can do experiments on the quantum system to learn the quantum state (the angle) of each qubit and then compare her results with the picked quantum states (angles)."
      ],
      "metadata": {}
    },
    {
      "cell_type": "markdown",
      "source": [
        "### Experiment with your class\n",
        "\n",
        "Use your class as a user and develop a solution about how to guess the unknown quantum state of each qubit for the given quantum system. "
      ],
      "metadata": {}
    },
    {
      "cell_type": "markdown",
      "source": [
        "### Program the quantum part\n",
        "\n",
        "- _This part of the project aims to give some ideas about how to simulate a generic quantum system._\n",
        "- _The difficuly level of this part is medium._\n",
        "- _Please do not use any scientific python library such as `NumPy`._\n",
        "\n",
        "Re-design your class without using any quantum programming library such as Qiksit or Project Q. \n",
        "\n",
        "You should write your own code to simulate the quantum system. Remark that:\n",
        "- The state of the system should be kept as a single vector, and you should not keep the state of each qubit separately. \n",
        "- If the quantum system has $n$ qubits, then its state vector can be represented by $ 2^n $-dimensional list.\n",
        "- Then, each operator (rotation) should be defined as a $ (n \\times n) $-dimensional matrix even though it is applied to single qubit.\n",
        "- Otherwise, there will be no difference between a single-qubit system and multi-qubit systems, and all calculations will be trivial.\n",
        "\n"
      ],
      "metadata": {}
    }
  ],
  "metadata": {
    "kernelspec": {
      "display_name": "Python 3",
      "language": "python",
      "name": "python3"
    },
    "language_info": {
      "codemirror_mode": {
        "name": "ipython",
        "version": 3
      },
      "file_extension": ".py",
      "mimetype": "text/x-python",
      "name": "python",
      "nbconvert_exporter": "python",
      "pygments_lexer": "ipython3",
      "version": "3.7.1"
    },
    "nteract": {
      "version": "0.27.0"
    }
  },
  "nbformat": 4,
  "nbformat_minor": 2
}