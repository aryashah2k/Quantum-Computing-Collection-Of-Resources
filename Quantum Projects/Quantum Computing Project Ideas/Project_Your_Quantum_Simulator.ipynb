{
  "cells": [
    {
      "cell_type": "markdown",
      "source": [
        "## Project | Your Quantum Simulator\n",
        "\n",
        "We create a python class to design a simple quantum program and simulate it\n",
        "\n",
        "- _Please do not use any quantum programming library or any scientific python library such as `NumPy`._\n",
        "- _Use real numbers (do not use complex numbers) for simplicity._\n",
        "- _All angles are in radian._\n",
        "- _Each qubit starts in state $ \\ket{0} $, and each quantum operator should be implemented one by one._\n",
        "- _The quantum state of the system should not be set automatically to certain quantum states._\n",
        "- _Please write your own code for matrix multiplication and tensoring matrices._\n",
        "- _You can use python module math._ "
      ],
      "metadata": {}
    },
    {
      "cell_type": "markdown",
      "source": [
        "### Create a python class called `QuantumProgram(the_number_of_qubits)`\n",
        "\n",
        "The number of qubits should be specified when creating a new instance.\n",
        "\n",
        "We design a quantum circuit for our quantum program."
      ],
      "metadata": {}
    },
    {
      "cell_type": "markdown",
      "source": [
        "#### Methods for quantum operators\n",
        "\n",
        "For each quantum operator (gate), you should define a method with appropriate parameters.\n",
        "\n",
        "Single qubit gates that are applied to any specified qubits:\n",
        "1. Hadamard\n",
        "1. NOT\n",
        "1. Z-gate\n",
        "1. Rotations on the unit circle with the specified angle\n",
        "\n",
        "_When a single qubit operator applied to a qubit, we can assume that the identity operator is applied to any other qubit. Thus, the complete matrix (with dimension $ 2^n \\times 2^n $ if there are $n$ qubits) representing this single qubit operator is obtained by tensoring all $(2 \\times 2)$ matrices in the appropriate order._\n",
        "\n",
        "\n",
        "Two qubit gate that is applied to any specified pair of qubits \n",
        "- The CNOT operator\n",
        "\n",
        "*The complete matrix representing a CNOT operator can be constructed by pairing each basis state with its output. Such list gives us the row entry of 1 of each column for this matrix.*"
      ],
      "metadata": {}
    },
    {
      "cell_type": "markdown",
      "source": [
        "#### Methods for Simulating the circuit\n",
        "\n",
        "- `read_unitary()`: Return a single unitary matrix (quantum operator) equivalant to all defined quantum operators until this point, i.e., the multiplication of all quantum operators in the defined order.\n",
        "\n",
        "- `read_state`: Return the current quantum state of circuit.\n",
        "\n",
        "- `observing_probabilities()`: Return the probabilisties of observing the basis states if all qubits are measured at this moment.\n",
        "\n",
        "- `execute(the_number_of_shots)`: Return the observed outcomes with their frequencies.\n",
        "    - All qubits are measured.\n",
        "    - For each shot, a single outcome is observed.\n",
        "    - Each outcome should be observed with respect to its probability.\n",
        "    - The outcomes and their frequencies can be stored in a dictionary. "
      ],
      "metadata": {}
    },
    {
      "cell_type": "markdown",
      "source": [
        "#### Testing your object\n",
        "\n",
        "You can easily test your object by writing the quantum programs given throughout this tutorial and then compring the results."
      ],
      "metadata": {}
    },
    {
      "cell_type": "markdown",
      "source": [
        "#### Extra quantum operators\n",
        "\n",
        "More controlled operators can be defined:\n",
        "- Controlled-Z (Z-gate is applied to target qubit if the state of control qubit is 1)\n",
        "- Controlled-Rotation (the specified rotation operator is applied to target qubit if the state of control qubit is 1)\n",
        "- CCNOT-gate (NOT operator is applied to the target qubit if the states of both control qubits are 1s)\n",
        "\n",
        "* Remember that whenever the state of a control qubit is not 1, then the identity operator is applied to the target qubit.*"
      ],
      "metadata": {}
    }
  ],
  "metadata": {
    "kernelspec": {
      "display_name": "Python 3",
      "language": "python",
      "name": "python3"
    },
    "language_info": {
      "codemirror_mode": {
        "name": "ipython",
        "version": 3
      },
      "file_extension": ".py",
      "mimetype": "text/x-python",
      "name": "python",
      "nbconvert_exporter": "python",
      "pygments_lexer": "ipython3",
      "version": "3.7.1"
    },
    "nteract": {
      "version": "0.27.0"
    }
  },
  "nbformat": 4,
  "nbformat_minor": 2
}